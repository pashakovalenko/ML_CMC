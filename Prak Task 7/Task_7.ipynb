{
 "cells": [
  {
   "cell_type": "markdown",
   "metadata": {},
   "source": [
    "# Практикум на ЭВМ\n",
    "# Задание 7. Рекомендательная система фильмов\n",
    "\n",
    "Выполнил: Павел Коваленко, 317 группа"
   ]
  },
  {
   "cell_type": "markdown",
   "metadata": {},
   "source": [
    "Имеется информация о примерно 6000 пользователях и 4000 фильмах, а также около 1 миллиона оценок фильмов пользователями. Цель работы - по паре (пользователь, фильм) предсказать оценку, которую данный пользователь поставит данному фильму. Для этого мы воспользуемся тремя разными подходами, описанными ниже.\n",
    "\n",
    "Метрика качества - среднеквадратичная ошибка."
   ]
  },
  {
   "cell_type": "code",
   "execution_count": 1,
   "metadata": {
    "collapsed": true
   },
   "outputs": [],
   "source": [
    "import numpy as np\n",
    "import pandas as pd\n",
    "from matplotlib import pyplot as plt, rc\n",
    "%matplotlib inline"
   ]
  },
  {
   "cell_type": "code",
   "execution_count": 2,
   "metadata": {
    "collapsed": true
   },
   "outputs": [],
   "source": [
    "font = {'family': 'Verdana',\n",
    "        'weight': 'normal',\n",
    "        'size': 14}\n",
    "rc('font', **font)\n",
    "rc('legend', fontsize=14)\n",
    "rc('lines', linewidth=2)"
   ]
  },
  {
   "cell_type": "markdown",
   "metadata": {},
   "source": [
    "## 1. Content-based подход"
   ]
  },
  {
   "cell_type": "markdown",
   "metadata": {},
   "source": [
    "В данном подходе для каждой пары (пользователь, фильм) мы пытаемся конструктивно придумать признаковое описание, например, пол, возраст, профессия пользователя, его средний рейтинг по жанрам, жанры фильма. Далее в этом признаковом пространстве мы хотим предсказывать оценку при помощи Ridge-регрессии.\n",
    "\n",
    "В качестве дополнительных признаков были использованы год выхода фильма и число слов в названии."
   ]
  },
  {
   "cell_type": "code",
   "execution_count": 2,
   "metadata": {
    "collapsed": true
   },
   "outputs": [],
   "source": [
    "ages = [1, 18, 25, 35, 45, 50, 56]\n",
    "occup = list(range(21))"
   ]
  },
  {
   "cell_type": "code",
   "execution_count": 3,
   "metadata": {
    "collapsed": false
   },
   "outputs": [],
   "source": [
    "users = {}\n",
    "for s in open('ml-1m/users.dat', 'r').readlines():\n",
    "    t = s.split('::')\n",
    "    v = [t[1] == 'M']\n",
    "    a = int(t[2])\n",
    "    for i in ages:\n",
    "        v.append(i == a)\n",
    "    a = int(t[3])\n",
    "    for i in occup:\n",
    "        v.append(i == a)\n",
    "    users[int(t[0])] = v"
   ]
  },
  {
   "cell_type": "code",
   "execution_count": 4,
   "metadata": {
    "collapsed": true
   },
   "outputs": [],
   "source": [
    "genres = ['Action', 'Adventure', 'Animation', 'Children\\'s', 'Comedy', 'Crime', 'Documentary', 'Drama', 'Fantasy', \n",
    "          'Film-Noir', 'Horror', 'Musical', 'Mystery', 'Romance', 'Sci-Fi', 'Thriller', 'War', 'Western']"
   ]
  },
  {
   "cell_type": "code",
   "execution_count": 25,
   "metadata": {
    "collapsed": false
   },
   "outputs": [],
   "source": [
    "movies = {}\n",
    "movies_genres = {}\n",
    "for s in open('ml-1m/movies.dat', 'r').readlines():\n",
    "    t = s.split('::')\n",
    "    v = [len(t[1].split()) - 1, int(t[1].split('(')[-1][:-1])]\n",
    "    a = t[2].rstrip().split('|')\n",
    "    movies_genres[int(t[0])] = a\n",
    "    for i in genres:\n",
    "        v.append(i in a)\n",
    "    movies[int(t[0])] = v"
   ]
  },
  {
   "cell_type": "code",
   "execution_count": 3,
   "metadata": {
    "collapsed": true
   },
   "outputs": [],
   "source": [
    "from collections import defaultdict"
   ]
  },
  {
   "cell_type": "code",
   "execution_count": 4,
   "metadata": {
    "collapsed": false
   },
   "outputs": [],
   "source": [
    "rates = defaultdict(list)\n",
    "for s in open('ml-1m/ratings.dat', 'r').readlines():\n",
    "    t = s.split('::')\n",
    "    rates[int(t[0])].append((int(t[1]), int(t[2]), int(t[3])))"
   ]
  },
  {
   "cell_type": "code",
   "execution_count": 5,
   "metadata": {
    "collapsed": false
   },
   "outputs": [
    {
     "name": "stdout",
     "output_type": "stream",
     "text": [
      "ratings in train: 597742\n",
      "ratings in validation: 200016\n",
      "ratings in test: 202451\n"
     ]
    }
   ],
   "source": [
    "import math\n",
    "train_frac = 0.8\n",
    "val_frac = 0.6\n",
    "train = []\n",
    "val = []\n",
    "test = []\n",
    "for u, itemList in rates.items():\n",
    "    # itemList = [(i, r, t), ...]\n",
    "    rat = sorted(itemList, key=lambda x: x[2])\n",
    "    thr = int(math.floor(len(rat) * train_frac))\n",
    "    tr2 = int(math.floor(len(rat) * val_frac))\n",
    "    train.extend(map(lambda x: (u, x[0], x[1] / 5.0), rat[:tr2]))\n",
    "    val.extend(map(lambda x: (u, x[0], x[1] / 5.0), rat[tr2:thr]))\n",
    "    test.extend(map(lambda x: (u, x[0], x[1] / 5.0), rat[thr:]))\n",
    "print(\"ratings in train:\", len(train))\n",
    "print(\"ratings in validation:\", len(val))\n",
    "print(\"ratings in test:\", len(test))\n",
    "y_train = [t[-1] for t in train]\n",
    "y_train = np.array(y_train)\n",
    "y_val = [t[-1] for t in val]\n",
    "y_val = np.array(y_val)\n",
    "y_test = [t[-1] for t in test]\n",
    "y_test = np.array(y_test)"
   ]
  },
  {
   "cell_type": "markdown",
   "metadata": {},
   "source": [
    "### Формирование признакового описания"
   ]
  },
  {
   "cell_type": "code",
   "execution_count": 9,
   "metadata": {
    "collapsed": true
   },
   "outputs": [],
   "source": [
    "def compute_clicks(train):\n",
    "    def dict_gen():\n",
    "        return defaultdict(float)\n",
    "    user_genre_cnt = defaultdict(dict_gen)\n",
    "    user_genre_clc = defaultdict(dict_gen)\n",
    "    film_avg_cnt = defaultdict(float)\n",
    "    film_avg_clc = defaultdict(float)\n",
    "    \n",
    "    for u, v, r in train:\n",
    "        for g in movies_genres[v]:\n",
    "            user_genre_cnt[u][g] += 1\n",
    "            user_genre_clc[u][g] += r\n",
    "        user_genre_cnt[u]['All'] += 1\n",
    "        user_genre_clc[u]['All'] += r\n",
    "        film_avg_cnt[v] += 1\n",
    "        film_avg_clc[v] += r\n",
    "        \n",
    "    for v in film_avg_clc.keys():\n",
    "        film_avg_clc[v] /= film_avg_cnt[v]\n",
    "    \n",
    "    for u in user_genre_clc.keys():\n",
    "        for g in user_genre_clc[u].keys():\n",
    "            user_genre_clc[u][g] /= user_genre_cnt[u][g]\n",
    "            \n",
    "    return user_genre_clc, film_avg_clc"
   ]
  },
  {
   "cell_type": "code",
   "execution_count": 10,
   "metadata": {
    "collapsed": false
   },
   "outputs": [],
   "source": [
    "user_genre_avg, film_avg = compute_clicks(train)"
   ]
  },
  {
   "cell_type": "code",
   "execution_count": 47,
   "metadata": {
    "collapsed": true
   },
   "outputs": [],
   "source": [
    "def transform_train(train):\n",
    "    res = []\n",
    "    for i, (u, v, r) in enumerate(train):\n",
    "        t = []\n",
    "        t += users[u]\n",
    "        t += movies[v]\n",
    "        f5 = 0\n",
    "        for g in movies_genres[v]:\n",
    "            f5 += user_genre_avg[u][g]\n",
    "        f5 /= len(movies_genres[v])\n",
    "        t += [f5, user_genre_avg[u]['All'], film_avg[v], 1]\n",
    "        res.append(t)\n",
    "    return np.array(res, dtype='float64')"
   ]
  },
  {
   "cell_type": "code",
   "execution_count": 26,
   "metadata": {
    "collapsed": false
   },
   "outputs": [],
   "source": [
    "X_train = transform_train(train)"
   ]
  },
  {
   "cell_type": "code",
   "execution_count": 48,
   "metadata": {
    "collapsed": true
   },
   "outputs": [],
   "source": [
    "X_val = transform_train(val)"
   ]
  },
  {
   "cell_type": "markdown",
   "metadata": {},
   "source": [
    "### Подбор параметра регуляризации $\\lambda$"
   ]
  },
  {
   "cell_type": "code",
   "execution_count": 24,
   "metadata": {
    "collapsed": true
   },
   "outputs": [],
   "source": [
    "from sklearn.metrics import mean_squared_error"
   ]
  },
  {
   "cell_type": "code",
   "execution_count": 33,
   "metadata": {
    "collapsed": true
   },
   "outputs": [],
   "source": [
    "from scipy.linalg import solve"
   ]
  },
  {
   "cell_type": "code",
   "execution_count": 63,
   "metadata": {
    "collapsed": false
   },
   "outputs": [
    {
     "name": "stdout",
     "output_type": "stream",
     "text": [
      "lambda = 0.01, mse = 0.0438907\n",
      "lambda = 0.1, mse = 0.0438887\n",
      "lambda = 1, mse = 0.0438689\n",
      "lambda = 10, mse = 0.0436772\n",
      "lambda = 100, mse = 0.0421176\n",
      "lambda = 1000, mse = 0.037383\n",
      "lambda = 3000, mse = 0.0365156\n",
      "lambda = 10000, mse = 0.0386\n",
      "lambda = 100000, mse = 0.0467217\n"
     ]
    }
   ],
   "source": [
    "lambda_arr = [1e-2, 1e-1, 1e0, 1e1, 1e2, 1e3, 3e3, 1e4, 1e5]\n",
    "mse = []\n",
    "for lambda_ in lambda_arr:\n",
    "    A = X_train.T.dot(X_train) + lambda_ * np.eye(X_train.shape[1])\n",
    "    w = solve(A, X_train.T.dot(y_train))\n",
    "    y_pred = X_val.dot(w)\n",
    "    mse.append(mean_squared_error(y_val, y_pred))\n",
    "    print('lambda = %g, mse = %g' % (lambda_, mse[-1]))"
   ]
  },
  {
   "cell_type": "code",
   "execution_count": 70,
   "metadata": {
    "collapsed": false
   },
   "outputs": [
    {
     "data": {
      "image/png": "[encoded data removed]",
      "text/plain": [
       "<matplotlib.figure.Figure at 0x1deaefb0c88>"
      ]
     },
     "metadata": {},
     "output_type": "display_data"
    }
   ],
   "source": [
    "plt.semilogx(lambda_arr, mse)\n",
    "plt.xlabel('lambda')\n",
    "plt.ylabel('Mean Squared Error')\n",
    "plt.show()"
   ]
  },
  {
   "cell_type": "markdown",
   "metadata": {},
   "source": [
    "Наилучшей точности на отложенной выборке удается достичь при $\\lambda = 3000$"
   ]
  },
  {
   "cell_type": "markdown",
   "metadata": {},
   "source": [
    "### Финальная модель"
   ]
  },
  {
   "cell_type": "code",
   "execution_count": 316,
   "metadata": {
    "collapsed": true
   },
   "outputs": [],
   "source": [
    "all_train = train + val"
   ]
  },
  {
   "cell_type": "code",
   "execution_count": 75,
   "metadata": {
    "collapsed": true
   },
   "outputs": [],
   "source": [
    "user_genre_avg, film_avg = compute_clicks(all_train)"
   ]
  },
  {
   "cell_type": "code",
   "execution_count": 323,
   "metadata": {
    "collapsed": false
   },
   "outputs": [],
   "source": [
    "X_tr2 = transform_train(all_train)\n",
    "y_tr2 = np.concatenate([y_train, y_val])"
   ]
  },
  {
   "cell_type": "code",
   "execution_count": 77,
   "metadata": {
    "collapsed": true
   },
   "outputs": [],
   "source": [
    "X_test = transform_train(test)"
   ]
  },
  {
   "cell_type": "code",
   "execution_count": 72,
   "metadata": {
    "collapsed": true
   },
   "outputs": [],
   "source": [
    "lambda_ = lambda_arr[np.argmin(mse)]"
   ]
  },
  {
   "cell_type": "code",
   "execution_count": 79,
   "metadata": {
    "collapsed": false
   },
   "outputs": [
    {
     "name": "stdout",
     "output_type": "stream",
     "text": [
      "lambda = 3000, mse = 0.0363473\n"
     ]
    }
   ],
   "source": [
    "A = X_tr2.T.dot(X_tr2) + lambda_ * np.eye(X_tr2.shape[1])\n",
    "w = solve(A, X_tr2.T.dot(y_tr2))\n",
    "y_pred = X_test.dot(w)\n",
    "mse_test = mean_squared_error(y_test, y_pred)\n",
    "print('lambda = %g, mse = %g' % (lambda_, mse_test))"
   ]
  },
  {
   "cell_type": "markdown",
   "metadata": {},
   "source": [
    "Ошибка не тестовой выборке - 0.03635"
   ]
  },
  {
   "cell_type": "markdown",
   "metadata": {},
   "source": [
    "## 2. Neighborhood подход"
   ]
  },
  {
   "cell_type": "markdown",
   "metadata": {},
   "source": [
    "В данном подходе мы пытаемся предсказать оценку пользователя для фильма исходя из того, какие оценки пользователь поставил похожим фильмам. В качестве меры похожести фильмов будем использовать adjusted cosine similarity, которую можно воспринимать как корреляцию между оценками двух фильмов разными поьзователями.\n",
    "\n",
    "Поиск похожих фильмов для каждого фильма будем делать распределенным образом в парадигме map-reduce."
   ]
  },
  {
   "cell_type": "markdown",
   "metadata": {},
   "source": [
    "### Вычисление списка наиболее похожих фильмов"
   ]
  },
  {
   "cell_type": "markdown",
   "metadata": {},
   "source": [
    "В данной реализации число похожих фильмов (N), которые требуется найти, никак не влияет ни на скорость работы map-reduce задачи, ни на требуемый для работы объем памяти, посколько используется только на последнем шаге алгоритма, после сортировки всех фильмов по похожести. Поэтому имеет смысл найти за один раз все похожие фильмы, а потом для предсказаний использовать только первые N из них."
   ]
  },
  {
   "cell_type": "markdown",
   "metadata": {},
   "source": [
    "Для user-based подхода формулы будут следующими:\n",
    "\n",
    "Мера схожести между пользователями u и v:\n",
    "\n",
    "$$sim(u, v) = \\frac{\\sum\\limits_{i \\in I} (r_{u, i} - \\overline{r_i}) (r_{v, i} - \\overline{r_i})}\n",
    "{\\sqrt{\\sum\\limits_{i \\in I} (r_{u, i} - \\overline{r_i})^2 \\sum\\limits_{i \\in I} (r_{u, i} - \\overline{r_i})^2}}$$\n",
    "\n",
    "Где $I$ - множество фильмов, оцененных пользователями u и v, $\\overline{r_i}$ - средний рейтинг фильма i.\n",
    "\n",
    "Ответ для новых пользователей нахдится по формуле\n",
    "\n",
    "$$r_{u, i} = \\frac{\\sum\\limits_{v: r_{v, i} \\ne 0} sim(u, v) r_{v, i}} \n",
    "{\\sum\\limits_{v: r_{v, i} \\ne 0} sim(u, v)}$$"
   ]
  },
  {
   "cell_type": "code",
   "execution_count": 70,
   "metadata": {
    "collapsed": false
   },
   "outputs": [],
   "source": [
    "f = open('input/ratings_train.txt', 'w')\n",
    "for t in train:\n",
    "    f.write('%d::%d::%g::0\\n' % t)\n",
    "f.close()"
   ]
  },
  {
   "cell_type": "code",
   "execution_count": 71,
   "metadata": {
    "collapsed": false
   },
   "outputs": [
    {
     "name": "stdout",
     "output_type": "stream",
     "text": [
      "Overwriting similarity_job.py\n"
     ]
    }
   ],
   "source": [
    "%%file similarity_job.py\n",
    "from mrjob.job import MRJob\n",
    "from mrjob.step import MRStep\n",
    "\n",
    "N = 100000\n",
    "\n",
    "class SimilarityJob(MRJob):\n",
    "    \n",
    "    def steps(self):\n",
    "         return [MRStep(mapper=self.group_by_users_mapper, \n",
    "                        reducer=self.group_by_users_reducer),\n",
    "                 MRStep(mapper=self.group_by_movie_pairs_mapper, \n",
    "                        reducer=self.group_by_movie_pairs_reducer),\n",
    "                 MRStep(reducer=self.select_N_similar_reducer)]\n",
    "    \n",
    "    def group_by_users_mapper(self, key, line):\n",
    "        user, movie, rating, _ = line.split('::')\n",
    "        yield int(user), (int(movie), float(rating))\n",
    "    \n",
    "    def group_by_users_reducer(self, user, values):\n",
    "        values = list(values)\n",
    "        sm = 0\n",
    "        cnt = 0\n",
    "        for m, r in values:\n",
    "            sm += r\n",
    "            cnt += 1\n",
    "        mean = round(sm / cnt, 2)\n",
    "        centered_values = [(movie, rating - mean) for movie, rating in values if abs(rating - mean) > 1e-3]\n",
    "        yield user, centered_values    \n",
    "                    \n",
    "    def group_by_movie_pairs_mapper(self, user, values):\n",
    "        for i, (m1, r1) in enumerate(values):\n",
    "            for m2, r2 in values[i:]:\n",
    "                if m1 < m2:\n",
    "                    yield (m1, m2), (r1, r2)\n",
    "                elif m1 > m2:\n",
    "                    yield (m2, m1), (r2, r1)\n",
    "        \n",
    "    def group_by_movie_pairs_reducer(self, mvs, values):\n",
    "        m1, m2 = mvs\n",
    "        x2_sum = 0\n",
    "        y2_sum = 0\n",
    "        xy_sum = 0\n",
    "        for x, y in values:\n",
    "            x2_sum += x ** 2\n",
    "            y2_sum += y ** 2\n",
    "            xy_sum += x * y\n",
    "        sim = xy_sum / (x2_sum * y2_sum) ** 0.5\n",
    "        if sim > 0:\n",
    "            yield m1, (m2, sim)\n",
    "            yield m2, (m1, sim)\n",
    "            \n",
    "    def select_N_similar_reducer(self, movie, values):\n",
    "        values = list(values)\n",
    "        top = sorted(values, key=lambda x: -x[1])[:N]\n",
    "        yield movie, top\n",
    "\n",
    "if __name__ == '__main__':\n",
    "    SimilarityJob.run()"
   ]
  },
  {
   "cell_type": "code",
   "execution_count": 10,
   "metadata": {
    "collapsed": false
   },
   "outputs": [
    {
     "name": "stdout",
     "output_type": "stream",
     "text": [
      "Wall time: 1h 35min 34s\n"
     ]
    },
    {
     "name": "stderr",
     "output_type": "stream",
     "text": [
      "No configs found; falling back on auto-configuration\n",
      "Creating temp directory C:\\Users\\7636~1\\AppData\\Local\\Temp\\similarity_job.РџР°РІРµР».20160506.002040.733663\n",
      "Running step 1 of 3...\n",
      "Running step 2 of 3...\n",
      "Running step 3 of 3...\n",
      "Streaming final output from C:\\Users\\7636~1\\AppData\\Local\\Temp\\similarity_job.РџР°РІРµР».20160506.002040.733663\\output...\n",
      "Removing temp directory C:\\Users\\7636~1\\AppData\\Local\\Temp\\similarity_job.РџР°РІРµР».20160506.002040.733663...\n"
     ]
    }
   ],
   "source": [
    "%%time\n",
    "! python similarity_job.py input/ratings_train.txt > output/similarities.txt"
   ]
  },
  {
   "cell_type": "code",
   "execution_count": 11,
   "metadata": {
    "collapsed": true
   },
   "outputs": [],
   "source": [
    "import json"
   ]
  },
  {
   "cell_type": "code",
   "execution_count": 14,
   "metadata": {
    "collapsed": false
   },
   "outputs": [],
   "source": [
    "sim = defaultdict(list)\n",
    "for s in open('output/similarities.txt', 'r').readlines():\n",
    "    t = s.split('\\t')\n",
    "    movie = int(t[0])\n",
    "    sm = json.loads(t[1])\n",
    "    sim[movie] = sm"
   ]
  },
  {
   "cell_type": "code",
   "execution_count": 39,
   "metadata": {
    "collapsed": true
   },
   "outputs": [],
   "source": [
    "# from importlib import reload"
   ]
  },
  {
   "cell_type": "code",
   "execution_count": 47,
   "metadata": {
    "collapsed": true
   },
   "outputs": [],
   "source": [
    "# import sys\n",
    "# sys.stdout.buffer = sys.stdin.buffer\n",
    "# sys.stderr.buffer = sys.stdin.buffer"
   ]
  },
  {
   "cell_type": "code",
   "execution_count": 63,
   "metadata": {
    "collapsed": false
   },
   "outputs": [],
   "source": [
    "# Другой способ запуска mrjob\n",
    "# import similarity_job\n",
    "# reload(similarity_job)\n",
    "# mr_job = similarity_job.SimilarityJob(args=['input/ratings.txt'])\n",
    "\n",
    "# sim = defaultdict(list)\n",
    "\n",
    "# with mr_job.make_runner() as runner:\n",
    "#     runner.run()\n",
    "#     for line in runner.stream_output():\n",
    "#         key, value = mr_job.parse_output_line(line)\n",
    "#         sim[key] = value"
   ]
  },
  {
   "cell_type": "markdown",
   "metadata": {},
   "source": [
    "### Исследование зависимости ошибки от числа соседей N"
   ]
  },
  {
   "cell_type": "code",
   "execution_count": 74,
   "metadata": {
    "collapsed": true
   },
   "outputs": [],
   "source": [
    "user_rates = defaultdict(lambda: defaultdict(float))\n",
    "for u, i, r in train:\n",
    "    user_rates[u][i] = r"
   ]
  },
  {
   "cell_type": "code",
   "execution_count": 75,
   "metadata": {
    "collapsed": true
   },
   "outputs": [],
   "source": [
    "def sim_predict(user, movie, N):\n",
    "    sum1 = 0\n",
    "    sum2 = 0\n",
    "    for m, s in sim[movie][:N]:\n",
    "        if m in user_rates[user]:\n",
    "            sum1 += s * user_rates[user][m]\n",
    "            sum2 += s\n",
    "    if sum2 == 0:\n",
    "        return 0\n",
    "    return min(1, max(0, sum1 / sum2))"
   ]
  },
  {
   "cell_type": "code",
   "execution_count": 76,
   "metadata": {
    "collapsed": false
   },
   "outputs": [],
   "source": [
    "from time import clock"
   ]
  },
  {
   "cell_type": "code",
   "execution_count": 77,
   "metadata": {
    "collapsed": false
   },
   "outputs": [
    {
     "name": "stdout",
     "output_type": "stream",
     "text": [
      "N: 50, MSE on validation: 0.456142, time on validation: 6.91844\n",
      "N: 100, MSE on validation: 0.409155, time on validation: 12.7905\n",
      "N: 200, MSE on validation: 0.284941, time on validation: 22.9822\n",
      "N: 400, MSE on validation: 0.104116, time on validation: 45.8545\n",
      "N: 800, MSE on validation: 0.0396523, time on validation: 99.5487\n",
      "N: 1000, MSE on validation: 0.0364285, time on validation: 120.753\n",
      "N: 1500, MSE on validation: 0.0352146, time on validation: 175.497\n",
      "N: 2000, MSE on validation: 0.0352152, time on validation: 189.185\n"
     ]
    }
   ],
   "source": [
    "N_arr = [50, 100, 200, 400, 800, 1000, 1500, 2000]\n",
    "mse_train = []\n",
    "mse_val = []\n",
    "time_train = []\n",
    "time_val = []\n",
    "for N in N_arr:\n",
    "    start = clock()\n",
    "    y_pred = [sim_predict(u, i, N) for u, i, r in train]\n",
    "    mse_train.append(mean_squared_error(y_train, y_pred))\n",
    "    time_train.append(clock() - start)\n",
    "    start = clock()\n",
    "    y_pred = [sim_predict(u, i, N) for u, i, r in val]\n",
    "    mse_val.append(mean_squared_error(y_val, y_pred))\n",
    "    time_val.append(clock() - start)\n",
    "    print('N: %d, MSE on validation: %g, time on validation: %g' % (N, mse_val[-1], time_val[-1]))"
   ]
  },
  {
   "cell_type": "code",
   "execution_count": 78,
   "metadata": {
    "collapsed": false
   },
   "outputs": [
    {
     "data": {
      "image/png": "[encoded data removed]",
      "text/plain": [
       "<matplotlib.figure.Figure at 0x17f693f0048>"
      ]
     },
     "metadata": {},
     "output_type": "display_data"
    }
   ],
   "source": [
    "plt.semilogx(N_arr, mse_train, label='Train', marker='.', ms = 15)\n",
    "plt.semilogx(N_arr, mse_val, label='Validation', marker='.', ms = 15)\n",
    "plt.legend(loc='upper right')\n",
    "plt.xlabel('Number of neighbors')\n",
    "plt.ylabel('Mean Squared Error')\n",
    "plt.xlim(N_arr[0], N_arr[-1])\n",
    "plt.show()"
   ]
  },
  {
   "cell_type": "code",
   "execution_count": 82,
   "metadata": {
    "collapsed": false
   },
   "outputs": [
    {
     "data": {
      "image/png": "[encoded data removed]",
      "text/plain": [
       "<matplotlib.figure.Figure at 0x17f6cc15eb8>"
      ]
     },
     "metadata": {},
     "output_type": "display_data"
    }
   ],
   "source": [
    "plt.semilogx(N_arr[5:], mse_train[5:], label='Train', marker='.', ms = 15)\n",
    "plt.semilogx(N_arr[5:], mse_val[5:], label='Validation', marker='.', ms = 15)\n",
    "plt.legend(loc='best')\n",
    "plt.xlabel('Number of neighbors')\n",
    "plt.ylabel('Mean Squared Error')\n",
    "plt.xlim(N_arr[5], N_arr[-1])\n",
    "plt.xticks(N_arr[5:], N_arr[5:])\n",
    "plt.show()"
   ]
  },
  {
   "cell_type": "code",
   "execution_count": 83,
   "metadata": {
    "collapsed": false
   },
   "outputs": [
    {
     "data": {
      "image/png": "[encoded data removed]",
      "text/plain": [
       "<matplotlib.figure.Figure at 0x17f6cea99b0>"
      ]
     },
     "metadata": {},
     "output_type": "display_data"
    }
   ],
   "source": [
    "plt.loglog(N_arr, time_train, label='Train', marker='.', ms = 15)\n",
    "plt.loglog(N_arr, time_val, label='Validation', marker='.', ms = 15)\n",
    "plt.legend(loc='best')\n",
    "plt.xlabel('Number of neighbors')\n",
    "plt.ylabel('Time (sec)')\n",
    "plt.xlim(N_arr[0], N_arr[-1])\n",
    "plt.show()"
   ]
  },
  {
   "cell_type": "code",
   "execution_count": 81,
   "metadata": {
    "collapsed": false
   },
   "outputs": [
    {
     "name": "stdout",
     "output_type": "stream",
     "text": [
      "Min MSE: 0.0352146, best N: 1500\n"
     ]
    }
   ],
   "source": [
    "print('Min MSE: %g, best N: %d' % (np.min(mse_val), N_arr[np.argmin(mse_val)]))"
   ]
  },
  {
   "cell_type": "markdown",
   "metadata": {},
   "source": [
    "Судя по полученным результатам, наименьшей ошибки удается достичь при использовании информации о 1500 похожих фильмах, при использовании всех фильмов качество незначительно ухудшается. \n",
    "\n",
    "Время работы предсказания ответов линейно зависит от числа рассматриваемых соседей, чего и следовало ожидать."
   ]
  },
  {
   "cell_type": "markdown",
   "metadata": {
    "collapsed": false
   },
   "source": [
    "### Финальная модель"
   ]
  },
  {
   "cell_type": "code",
   "execution_count": 64,
   "metadata": {
    "collapsed": true
   },
   "outputs": [],
   "source": [
    "user_rates = defaultdict(lambda: defaultdict(float))\n",
    "for u, i, r in train + val:\n",
    "    user_rates[u][i] = r"
   ]
  },
  {
   "cell_type": "code",
   "execution_count": 65,
   "metadata": {
    "collapsed": false
   },
   "outputs": [
    {
     "name": "stdout",
     "output_type": "stream",
     "text": [
      "MSE:  0.0362523662054\n"
     ]
    }
   ],
   "source": [
    "N = N_arr[np.argmin(mse_val)]\n",
    "y_pred = [sim_predict(u, i, N) for u, i, r in test]\n",
    "print('MSE: ', mean_squared_error(y_test, y_pred))"
   ]
  },
  {
   "cell_type": "markdown",
   "metadata": {},
   "source": [
    "Ошибка на тестовой выборке - 0.3625"
   ]
  },
  {
   "cell_type": "markdown",
   "metadata": {
    "collapsed": true
   },
   "source": [
    "## 3. Latent Factor подход"
   ]
  },
  {
   "cell_type": "markdown",
   "metadata": {},
   "source": [
    "В данном подходе мы пытаемся найти признаковое пространство одновременно для фильмов и для пользователей, в котором скалярное произведение для пользователя и фильма имеет смысл оценки, которую данный пользователь поставит данному фильму. При фиксированной размерности пространства мы находим описания для пользователей и фильмов итеративно. Сначала фиксируется описание фильмов и находится оптимальное описание пользователей, затем наоборот, и так до сходимости."
   ]
  },
  {
   "cell_type": "markdown",
   "metadata": {},
   "source": [
    "Шаг перенастройки весов для $q_i$:\n",
    "\n",
    "Обозначим за $P[i]$ столбцы $P$, соответствующие пользователям, оценившим фильм $i$, $n_i$ - число пользователей, оценивших фильм $i$, $r_i$ - вектор оценок фильма $i$. \n",
    "\n",
    "$$A_i = P[i]^T P[i]$$\n",
    "$$d_i = P[i]^T r_i$$\n",
    "$$q_i = (\\lambda_q n_i I + A_i) ^ {-1} d_i$$"
   ]
  },
  {
   "cell_type": "code",
   "execution_count": 15,
   "metadata": {
    "collapsed": true
   },
   "outputs": [],
   "source": [
    "from scipy.sparse import csr_matrix"
   ]
  },
  {
   "cell_type": "code",
   "execution_count": 16,
   "metadata": {
    "collapsed": false
   },
   "outputs": [],
   "source": [
    "data_tr = [t[2] for t in train]\n",
    "i_tr = [t[0] for t in train]\n",
    "j_tr = [t[1] for t in train]\n",
    "R = csr_matrix((data_tr, (i_tr, j_tr)))"
   ]
  },
  {
   "cell_type": "code",
   "execution_count": 17,
   "metadata": {
    "collapsed": false
   },
   "outputs": [],
   "source": [
    "n_u = np.array([R[i].nonzero()[0].shape[0] for i in range(R.shape[0])])"
   ]
  },
  {
   "cell_type": "code",
   "execution_count": 18,
   "metadata": {
    "collapsed": true
   },
   "outputs": [],
   "source": [
    "n_i = np.array([R[:, i].nonzero()[0].shape[0] for i in range(R.shape[1])])"
   ]
  },
  {
   "cell_type": "code",
   "execution_count": 19,
   "metadata": {
    "collapsed": true
   },
   "outputs": [],
   "source": [
    "R1 = R.toarray()"
   ]
  },
  {
   "cell_type": "code",
   "execution_count": 20,
   "metadata": {
    "collapsed": false
   },
   "outputs": [],
   "source": [
    "users_nonzero = [R[i].nonzero()[1] for i in range(R.shape[0])]"
   ]
  },
  {
   "cell_type": "code",
   "execution_count": 21,
   "metadata": {
    "collapsed": true
   },
   "outputs": [],
   "source": [
    "movies_nonzero = [R[:, i].nonzero()[0] for i in range(R.shape[1])]"
   ]
  },
  {
   "cell_type": "markdown",
   "metadata": {
    "collapsed": true
   },
   "source": [
    "### Поиск оптимального числа итераций"
   ]
  },
  {
   "cell_type": "code",
   "execution_count": 276,
   "metadata": {
    "collapsed": true
   },
   "outputs": [],
   "source": [
    "K = 10\n",
    "N = 30\n",
    "l_p = 0.2\n",
    "l_q = 0.001"
   ]
  },
  {
   "cell_type": "code",
   "execution_count": 277,
   "metadata": {
    "collapsed": false
   },
   "outputs": [
    {
     "name": "stdout",
     "output_type": "stream",
     "text": [
      "Wall time: 7min 44s\n"
     ]
    }
   ],
   "source": [
    "mse_train = []\n",
    "mse_val = []\n",
    "P = 0.1 * np.random.random((R.shape[0], K))\n",
    "Q = 0.1 * np.random.random((R.shape[1], K))\n",
    "for iteration in range(N):\n",
    "    Q1 = Q[:, None, :] * Q[:, :, None]\n",
    "    for u in range(R.shape[0]):\n",
    "        if n_u[u] == 0:\n",
    "            continue\n",
    "        r = R1[u]\n",
    "        A = Q1[users_nonzero[u]].sum(axis=0) + l_p * n_u[u] * np.eye(K)\n",
    "        du = Q.T.dot(r.T)\n",
    "        P[u] = solve(A, du).ravel()\n",
    "    P1 = P[:, None, :] * P[:, :, None]\n",
    "    for i in range(R.shape[1]):\n",
    "        if n_i[i] == 0:\n",
    "            continue\n",
    "        r = R1[:, i]\n",
    "        A = P1[movies_nonzero[i]].sum(axis=0) + l_q * n_i[i] * np.eye(K)\n",
    "        di = P.T.dot(r)\n",
    "        Q[i] = solve(A, di).ravel()\n",
    "    y_pred = np.array([P[u].dot(Q[i]) for u, i, r in train])\n",
    "    mse_train.append(mean_squared_error(y_train, y_pred))\n",
    "    y_pred = np.array([P[u].dot(Q[i]) for u, i, r in val])\n",
    "    mse_val.append(mean_squared_error(y_val, y_pred))"
   ]
  },
  {
   "cell_type": "code",
   "execution_count": 278,
   "metadata": {
    "collapsed": false
   },
   "outputs": [
    {
     "data": {
      "image/png": "[encoded data removed]",
      "text/plain": [
       "<matplotlib.figure.Figure at 0x1de92390208>"
      ]
     },
     "metadata": {},
     "output_type": "display_data"
    }
   ],
   "source": [
    "plt.plot(np.arange(1, len(mse_train) + 1), mse_train, label='Train')\n",
    "plt.plot(np.arange(1, len(mse_train) + 1), mse_val, label='Validation')\n",
    "plt.legend(loc='upper right')\n",
    "plt.xlabel('Iteration')\n",
    "plt.ylabel('Mean Squared Error')\n",
    "plt.show()"
   ]
  },
  {
   "cell_type": "markdown",
   "metadata": {},
   "source": [
    "Из этого графика видно, что после 15 итераций среднеквадратичная ошибка почти не изменяется, поэтому в дальнейшем ограничимся 15 итерациями"
   ]
  },
  {
   "cell_type": "markdown",
   "metadata": {
    "collapsed": false
   },
   "source": [
    "### Поиск оптимальных параметров $\\lambda_p$ и $\\lambda_q$"
   ]
  },
  {
   "cell_type": "code",
   "execution_count": 293,
   "metadata": {
    "collapsed": false
   },
   "outputs": [],
   "source": [
    "lp_arr = [1e0, 3e-1, 1e-1, 3e-2, 1e-2]\n",
    "lq_arr = [1e-2, 3e-3, 1e-3, 3e-4, 1e-4]\n",
    "N = 15\n",
    "K = 10\n",
    "mse_train = np.zeros((len(lp_arr), len(lq_arr)))\n",
    "mse_val = np.zeros((len(lp_arr), len(lq_arr)))\n",
    "for lpi, l_p in enumerate(lp_arr):\n",
    "    for lqi, l_q in enumerate(lq_arr):\n",
    "        P = 0.1 * np.random.random((R.shape[0], K))\n",
    "        Q = 0.1 * np.random.random((R.shape[1], K))\n",
    "        for iteration in range(N):\n",
    "            Q1 = Q[:, None, :] * Q[:, :, None]\n",
    "            for u in range(R.shape[0]):\n",
    "                if n_u[u] == 0:\n",
    "                    continue\n",
    "                r = R1[u]\n",
    "                A = Q1[users_nonzero[u]].sum(axis=0) + l_p * n_u[u] * np.eye(K)\n",
    "                du = Q.T.dot(r.T)\n",
    "                P[u] = solve(A, du).ravel()\n",
    "            P1 = P[:, None, :] * P[:, :, None]\n",
    "            for i in range(R.shape[1]):\n",
    "                if n_i[i] == 0:\n",
    "                    continue\n",
    "                r = R1[:, i]\n",
    "                A = P1[movies_nonzero[i]].sum(axis=0) + l_q * n_i[i] * np.eye(K)\n",
    "                di = P.T.dot(r)\n",
    "                Q[i] = solve(A, di).ravel()\n",
    "        y_pred = np.array([P[u].dot(Q[i]) for u, i, r in train])\n",
    "        mse_train[lpi, lqi] = mean_squared_error(y_train, y_pred)\n",
    "        y_pred = np.array([P[u].dot(Q[i]) for u, i, r in val])\n",
    "        mse_val[lpi, lqi] = mean_squared_error(y_val, y_pred)"
   ]
  },
  {
   "cell_type": "code",
   "execution_count": 294,
   "metadata": {
    "collapsed": false
   },
   "outputs": [
    {
     "data": {
      "image/png": "[encoded data removed]",
      "text/plain": [
       "<matplotlib.figure.Figure at 0x1de956dea20>"
      ]
     },
     "metadata": {},
     "output_type": "display_data"
    }
   ],
   "source": [
    "plt.matshow(mse_train.T)\n",
    "plt.xlabel('$\\lambda_p$')\n",
    "plt.ylabel('$\\lambda_q$')\n",
    "plt.title('MSE on train set\\n')\n",
    "plt.xticks(np.arange(len(lp_arr)), lp_arr)\n",
    "plt.yticks(np.arange(len(lq_arr)), lq_arr)\n",
    "plt.colorbar()\n",
    "plt.show()"
   ]
  },
  {
   "cell_type": "code",
   "execution_count": 295,
   "metadata": {
    "collapsed": false
   },
   "outputs": [
    {
     "data": {
      "image/png": "[encoded data removed]",
      "text/plain": [
       "<matplotlib.figure.Figure at 0x1de956f51d0>"
      ]
     },
     "metadata": {},
     "output_type": "display_data"
    }
   ],
   "source": [
    "plt.matshow(mse_val.T)\n",
    "plt.xlabel('$\\lambda_p$')\n",
    "plt.ylabel('$\\lambda_q$')\n",
    "plt.title('MSE on validation set\\n')\n",
    "plt.xticks(np.arange(len(lp_arr)), lp_arr)\n",
    "plt.yticks(np.arange(len(lq_arr)), lq_arr)\n",
    "plt.colorbar()\n",
    "plt.show()"
   ]
  },
  {
   "cell_type": "markdown",
   "metadata": {},
   "source": [
    "Судя по полученным результатов, наилучшей точности удается достичь при параметрах, предложенных в задании, - $\\lambda_p = 0.2, \\lambda_q = 0.001$"
   ]
  },
  {
   "cell_type": "markdown",
   "metadata": {},
   "source": [
    "### Поиск оптимальной размерности пространства K"
   ]
  },
  {
   "cell_type": "code",
   "execution_count": 297,
   "metadata": {
    "collapsed": false
   },
   "outputs": [],
   "source": [
    "from time import clock"
   ]
  },
  {
   "cell_type": "code",
   "execution_count": 302,
   "metadata": {
    "collapsed": true
   },
   "outputs": [],
   "source": [
    "l_p = 0.2\n",
    "l_q = 0.001\n",
    "N = 15\n",
    "K_arr = [1, 5, 10, 20, 50, 100]\n",
    "times = []\n",
    "mse_train = []\n",
    "mse_val = []\n",
    "for K in K_arr:\n",
    "    start = clock()\n",
    "    P = 0.1 * np.random.random((R.shape[0], K))\n",
    "    Q = 0.1 * np.random.random((R.shape[1], K))\n",
    "    for iteration in range(N):\n",
    "        Q1 = Q[:, None, :] * Q[:, :, None]\n",
    "        for u in range(R.shape[0]):\n",
    "            if n_u[u] == 0:\n",
    "                continue\n",
    "            r = R1[u]\n",
    "            A = Q1[users_nonzero[u]].sum(axis=0) + l_p * n_u[u] * np.eye(K)\n",
    "            du = Q.T.dot(r.T)\n",
    "            P[u] = solve(A, du).ravel()\n",
    "        P1 = P[:, None, :] * P[:, :, None]ы\n",
    "        for i in range(R.shape[1]):\n",
    "            if n_i[i] == 0:\n",
    "                continue\n",
    "            r = R1[:, i]\n",
    "            A = P1[movies_nonzero[i]].sum(axis=0) + l_q * n_i[i] * np.eye(K)\n",
    "            di = P.T.dot(r)\n",
    "            Q[i] = solve(A, di).ravel()\n",
    "    times.append(clock() - start)\n",
    "    y_pred = np.array([P[u].dot(Q[i]) for u, i, r in train])\n",
    "    mse_train.append(mean_squared_error(y_train, y_pred))\n",
    "    y_pred = np.array([P[u].dot(Q[i]) for u, i, r in val])\n",
    "    mse_val.append(mean_squared_error(y_val, y_pred))"
   ]
  },
  {
   "cell_type": "code",
   "execution_count": 312,
   "metadata": {
    "collapsed": false
   },
   "outputs": [
    {
     "data": {
      "image/png": "[encoded data removed]",
      "text/plain": [
       "<matplotlib.figure.Figure at 0x1de95b7c828>"
      ]
     },
     "metadata": {},
     "output_type": "display_data"
    }
   ],
   "source": [
    "plt.semilogx(K_arr, mse_train, label='Train', marker='.', ms=15)\n",
    "plt.semilogx(K_arr, mse_val, label='Validation', marker='.', ms=15)\n",
    "plt.legend(loc='lower left')\n",
    "plt.xlabel('K')\n",
    "plt.ylabel('Mean Squared Error')\n",
    "plt.show()"
   ]
  },
  {
   "cell_type": "code",
   "execution_count": 313,
   "metadata": {
    "collapsed": false
   },
   "outputs": [
    {
     "data": {
      "image/png": "[encoded data removed]",
      "text/plain": [
       "<matplotlib.figure.Figure at 0x1deb1202748>"
      ]
     },
     "metadata": {},
     "output_type": "display_data"
    }
   ],
   "source": [
    "plt.loglog(K_arr, times, marker='.', ms=15)\n",
    "plt.xlabel('K')\n",
    "plt.ylabel('Time (sec)')\n",
    "plt.show()"
   ]
  },
  {
   "cell_type": "markdown",
   "metadata": {},
   "source": [
    "Как видно из графиков, при K больше 10 действительно происходит переобучение. Увеличение K линейно уменьшает ошибку на тренировочной выборке, однако ошибка на валидационной выборке практически не уменьшается. При этом для K больше 10 время работы алгоритма линейно зависит от K"
   ]
  },
  {
   "cell_type": "markdown",
   "metadata": {},
   "source": [
    "Таким образом, оптимальными параметрами для этого алгоритма являются $N = 15, K = 10, \\lambda_p = 0.2, \\lambda_q = 0.001$"
   ]
  },
  {
   "cell_type": "markdown",
   "metadata": {},
   "source": [
    "### Финальная модель"
   ]
  },
  {
   "cell_type": "code",
   "execution_count": 324,
   "metadata": {
    "collapsed": false
   },
   "outputs": [],
   "source": [
    "data_tr = [t[2] for t in all_train]\n",
    "i_tr = [t[0] for t in all_train]\n",
    "j_tr = [t[1] for t in all_train]\n",
    "R = csr_matrix((data_tr, (i_tr, j_tr)))\n",
    "R1 = R.toarray()"
   ]
  },
  {
   "cell_type": "code",
   "execution_count": 325,
   "metadata": {
    "collapsed": false
   },
   "outputs": [],
   "source": [
    "n_u = np.array([R[i].nonzero()[0].shape[0] for i in range(R.shape[0])])\n",
    "n_i = np.array([R[:, i].nonzero()[0].shape[0] for i in range(R.shape[1])])"
   ]
  },
  {
   "cell_type": "code",
   "execution_count": 326,
   "metadata": {
    "collapsed": true
   },
   "outputs": [],
   "source": [
    "users_nonzero = [R[i].nonzero()[1] for i in range(R.shape[0])]\n",
    "movies_nonzero = [R[:, i].nonzero()[0] for i in range(R.shape[1])]"
   ]
  },
  {
   "cell_type": "code",
   "execution_count": 327,
   "metadata": {
    "collapsed": true
   },
   "outputs": [],
   "source": [
    "K = 10\n",
    "N = 15\n",
    "l_p = 0.2\n",
    "l_q = 0.001"
   ]
  },
  {
   "cell_type": "code",
   "execution_count": 328,
   "metadata": {
    "collapsed": true
   },
   "outputs": [],
   "source": [
    "P = 0.1 * np.random.random((R.shape[0], K))\n",
    "Q = 0.1 * np.random.random((R.shape[1], K))\n",
    "for iteration in range(N):\n",
    "    Q1 = Q[:, None, :] * Q[:, :, None]\n",
    "    for u in range(R.shape[0]):\n",
    "        if n_u[u] == 0:\n",
    "            continue\n",
    "        r = R1[u]\n",
    "        A = Q1[users_nonzero[u]].sum(axis=0) + l_p * n_u[u] * np.eye(K)\n",
    "        du = Q.T.dot(r.T)\n",
    "        P[u] = solve(A, du).ravel()\n",
    "    P1 = P[:, None, :] * P[:, :, None]\n",
    "    for i in range(R.shape[1]):\n",
    "        if n_i[i] == 0:\n",
    "            continue\n",
    "        r = R1[:, i]\n",
    "        A = P1[movies_nonzero[i]].sum(axis=0) + l_q * n_i[i] * np.eye(K)\n",
    "        di = P.T.dot(r)\n",
    "        Q[i] = solve(A, di).ravel()"
   ]
  },
  {
   "cell_type": "code",
   "execution_count": 329,
   "metadata": {
    "collapsed": false
   },
   "outputs": [
    {
     "name": "stdout",
     "output_type": "stream",
     "text": [
      "MSE: 0.0304066\n"
     ]
    }
   ],
   "source": [
    "y_pred = np.array([P[u].dot(Q[i]) for u, i, r in test])\n",
    "print('MSE: %g' % mean_squared_error(y_test, y_pred))"
   ]
  },
  {
   "cell_type": "markdown",
   "metadata": {
    "collapsed": true
   },
   "source": [
    "Ошибка на тестовой выборке - 0.03041"
   ]
  },
  {
   "cell_type": "markdown",
   "metadata": {
    "collapsed": true
   },
   "source": [
    "## Заключение"
   ]
  },
  {
   "cell_type": "markdown",
   "metadata": {
    "collapsed": true
   },
   "source": [
    "#### Ошибка алгоритма с лучшими параметрами на тестовой выборке\n",
    "\n",
    "||MSE|\n",
    "|-|:-:|\n",
    "|Content-based подход|0.0363473|\n",
    "|Neighborhood-based подход|0.0362524|\n",
    "|Latent Factor подход|**0.0304066**|\n",
    "\n",
    "Из таблицы видно, что Latent Factor подход заметно превосходит по точности остальные два подхода"
   ]
  },
  {
   "cell_type": "code",
   "execution_count": null,
   "metadata": {
    "collapsed": true
   },
   "outputs": [],
   "source": []
  }
 ],
 "metadata": {
  "kernelspec": {
   "display_name": "Python 3",
   "language": "python",
   "name": "python3"
  },
  "language_info": {
   "codemirror_mode": {
    "name": "ipython",
    "version": 3
   },
   "file_extension": ".py",
   "mimetype": "text/x-python",
   "name": "python",
   "nbconvert_exporter": "python",
   "pygments_lexer": "ipython3",
   "version": "3.5.1"
  }
 },
 "nbformat": 4,
 "nbformat_minor": 0
}
