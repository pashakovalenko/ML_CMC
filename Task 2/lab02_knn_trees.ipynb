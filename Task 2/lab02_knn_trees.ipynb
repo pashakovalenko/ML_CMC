{
 "cells": [
  {
   "cell_type": "markdown",
   "metadata": {},
   "source": [
    "# Лабораторная работа 2. Метод ближайших соседей и решающие деревья."
   ]
  },
  {
   "cell_type": "markdown",
   "metadata": {},
   "source": [
    "ФИО: Коваленко Павел Антонович\n",
    "\n",
    "Группа: 317"
   ]
  },
  {
   "cell_type": "code",
   "execution_count": 1,
   "metadata": {
    "collapsed": true
   },
   "outputs": [],
   "source": [
    "import numpy as np\n",
    "import pandas as pd\n",
    "from matplotlib import pyplot as plt, rc\n",
    "%matplotlib inline"
   ]
  },
  {
   "cell_type": "code",
   "execution_count": 2,
   "metadata": {
    "collapsed": true
   },
   "outputs": [],
   "source": [
    "font = {'family': 'Verdana',\n",
    "        'weight': 'normal',\n",
    "        'size': 14}\n",
    "rc('font', **font)\n",
    "rc('legend', fontsize=14)"
   ]
  },
  {
   "cell_type": "markdown",
   "metadata": {},
   "source": [
    "Все эксперименты в этой лабораторной работе предлагается проводить на данных соревнования Amazon Employee Access Challenge: https://www.kaggle.com/c/amazon-employee-access-challenge\n",
    "\n",
    "В данной задаче предлагается предсказать, будет ли одобрен запрос сотрудника на получение доступа к тому или иному ресурсу. Все признаки являются категориальными.\n",
    "\n",
    "Для удобства данные можно загрузить по ссылке: https://www.dropbox.com/s/q6fbs1vvhd5kvek/amazon.csv\n",
    "\n",
    "Сразу прочитаем данные и создадим разбиение на обучение и контроль:"
   ]
  },
  {
   "cell_type": "code",
   "execution_count": 3,
   "metadata": {
    "collapsed": false
   },
   "outputs": [
    {
     "data": {
      "text/html": [
       "<div>\n",
       "<table border=\"1\" class=\"dataframe\">\n",
       "  <thead>\n",
       "    <tr style=\"text-align: right;\">\n",
       "      <th></th>\n",
       "      <th>ACTION</th>\n",
       "      <th>RESOURCE</th>\n",
       "      <th>MGR_ID</th>\n",
       "      <th>ROLE_ROLLUP_1</th>\n",
       "      <th>ROLE_ROLLUP_2</th>\n",
       "      <th>ROLE_DEPTNAME</th>\n",
       "      <th>ROLE_TITLE</th>\n",
       "      <th>ROLE_FAMILY_DESC</th>\n",
       "      <th>ROLE_FAMILY</th>\n",
       "      <th>ROLE_CODE</th>\n",
       "    </tr>\n",
       "  </thead>\n",
       "  <tbody>\n",
       "    <tr>\n",
       "      <th>0</th>\n",
       "      <td>1</td>\n",
       "      <td>39353</td>\n",
       "      <td>85475</td>\n",
       "      <td>117961</td>\n",
       "      <td>118300</td>\n",
       "      <td>123472</td>\n",
       "      <td>117905</td>\n",
       "      <td>117906</td>\n",
       "      <td>290919</td>\n",
       "      <td>117908</td>\n",
       "    </tr>\n",
       "    <tr>\n",
       "      <th>1</th>\n",
       "      <td>1</td>\n",
       "      <td>17183</td>\n",
       "      <td>1540</td>\n",
       "      <td>117961</td>\n",
       "      <td>118343</td>\n",
       "      <td>123125</td>\n",
       "      <td>118536</td>\n",
       "      <td>118536</td>\n",
       "      <td>308574</td>\n",
       "      <td>118539</td>\n",
       "    </tr>\n",
       "    <tr>\n",
       "      <th>2</th>\n",
       "      <td>1</td>\n",
       "      <td>36724</td>\n",
       "      <td>14457</td>\n",
       "      <td>118219</td>\n",
       "      <td>118220</td>\n",
       "      <td>117884</td>\n",
       "      <td>117879</td>\n",
       "      <td>267952</td>\n",
       "      <td>19721</td>\n",
       "      <td>117880</td>\n",
       "    </tr>\n",
       "    <tr>\n",
       "      <th>3</th>\n",
       "      <td>1</td>\n",
       "      <td>36135</td>\n",
       "      <td>5396</td>\n",
       "      <td>117961</td>\n",
       "      <td>118343</td>\n",
       "      <td>119993</td>\n",
       "      <td>118321</td>\n",
       "      <td>240983</td>\n",
       "      <td>290919</td>\n",
       "      <td>118322</td>\n",
       "    </tr>\n",
       "    <tr>\n",
       "      <th>4</th>\n",
       "      <td>1</td>\n",
       "      <td>42680</td>\n",
       "      <td>5905</td>\n",
       "      <td>117929</td>\n",
       "      <td>117930</td>\n",
       "      <td>119569</td>\n",
       "      <td>119323</td>\n",
       "      <td>123932</td>\n",
       "      <td>19793</td>\n",
       "      <td>119325</td>\n",
       "    </tr>\n",
       "  </tbody>\n",
       "</table>\n",
       "</div>"
      ],
      "text/plain": [
       "   ACTION  RESOURCE  MGR_ID  ROLE_ROLLUP_1  ROLE_ROLLUP_2  ROLE_DEPTNAME  \\\n",
       "0       1     39353   85475         117961         118300         123472   \n",
       "1       1     17183    1540         117961         118343         123125   \n",
       "2       1     36724   14457         118219         118220         117884   \n",
       "3       1     36135    5396         117961         118343         119993   \n",
       "4       1     42680    5905         117929         117930         119569   \n",
       "\n",
       "   ROLE_TITLE  ROLE_FAMILY_DESC  ROLE_FAMILY  ROLE_CODE  \n",
       "0      117905            117906       290919     117908  \n",
       "1      118536            118536       308574     118539  \n",
       "2      117879            267952        19721     117880  \n",
       "3      118321            240983       290919     118322  \n",
       "4      119323            123932        19793     119325  "
      ]
     },
     "execution_count": 3,
     "metadata": {},
     "output_type": "execute_result"
    }
   ],
   "source": [
    "data = pd.read_csv('amazon.csv')\n",
    "data.head()"
   ]
  },
  {
   "cell_type": "code",
   "execution_count": 4,
   "metadata": {
    "collapsed": false
   },
   "outputs": [
    {
     "data": {
      "text/plain": [
       "(32769, 10)"
      ]
     },
     "execution_count": 4,
     "metadata": {},
     "output_type": "execute_result"
    }
   ],
   "source": [
    "data.shape"
   ]
  },
  {
   "cell_type": "code",
   "execution_count": 5,
   "metadata": {
    "collapsed": false
   },
   "outputs": [
    {
     "data": {
      "text/plain": [
       "0.9421099209618847"
      ]
     },
     "execution_count": 5,
     "metadata": {},
     "output_type": "execute_result"
    }
   ],
   "source": [
    "# доля положительных примеров\n",
    "data.ACTION.mean()"
   ]
  },
  {
   "cell_type": "code",
   "execution_count": 6,
   "metadata": {
    "collapsed": false
   },
   "outputs": [
    {
     "name": "stdout",
     "output_type": "stream",
     "text": [
      "ACTION 2\n",
      "RESOURCE 7518\n",
      "MGR_ID 4243\n",
      "ROLE_ROLLUP_1 128\n",
      "ROLE_ROLLUP_2 177\n",
      "ROLE_DEPTNAME 449\n",
      "ROLE_TITLE 343\n",
      "ROLE_FAMILY_DESC 2358\n",
      "ROLE_FAMILY 67\n",
      "ROLE_CODE 343\n"
     ]
    }
   ],
   "source": [
    "# число значений у признаков\n",
    "for col_name in data.columns:\n",
    "    print(col_name, len(data[col_name].unique()))"
   ]
  },
  {
   "cell_type": "code",
   "execution_count": 7,
   "metadata": {
    "collapsed": true
   },
   "outputs": [],
   "source": [
    "from sklearn.cross_validation import train_test_split\n",
    "X_train, X_test, y_train, y_test = train_test_split(data.iloc[:, 1:], data.iloc[:, 0],\n",
    "                                                    test_size=0.3, random_state=241)"
   ]
  },
  {
   "cell_type": "markdown",
   "metadata": {},
   "source": [
    "## Часть 1: kNN и категориальные признаки"
   ]
  },
  {
   "cell_type": "markdown",
   "metadata": {},
   "source": [
    "#### 1. Реализуйте три функции расстояния на категориальных признаках, которые обсуждались на втором семинаре. Реализуйте самостоятельно метод k ближайших соседей, который будет уметь работать с этими функциями расстояния. Подсчитайте для каждой из них качество на тестовой выборке `X_test` при числе соседей $k = 10$. Метрика качества — AUC-ROC.\n",
    "\n",
    "Какая функция расстояния оказалась лучшей?"
   ]
  },
  {
   "cell_type": "code",
   "execution_count": 8,
   "metadata": {
    "collapsed": false
   },
   "outputs": [],
   "source": [
    "from sklearn.neighbors import KNeighborsClassifier\n",
    "from sklearn.metrics import roc_auc_score\n",
    "l = X_train.shape[0]\n",
    "d = X_train.shape[1]"
   ]
  },
  {
   "cell_type": "code",
   "execution_count": 9,
   "metadata": {
    "collapsed": true
   },
   "outputs": [],
   "source": [
    "def my_knn_prob(X_train, y_train, X_test, k, dist):\n",
    "    from scipy.stats import mode\n",
    "    X_train = np.array(X_train)\n",
    "    X_test = np.array(X_test)\n",
    "    y_train = np.array(y_train)\n",
    "    n = 100\n",
    "    labels = np.empty((0, k))\n",
    "    for i in range(n):\n",
    "        D = dist(X_test[X_test.shape[0] * i // n : X_test.shape[0] * (i + 1) // n], X_train)\n",
    "        sr = np.arange(D.shape[0])[:, np.newaxis]\n",
    "        pos = np.argpartition(D, k - 1, axis=1)[:, :k]\n",
    "        pos = pos[sr, np.argsort(D[sr, pos])]\n",
    "        lab = y_train[pos]\n",
    "        labels = np.vstack((labels, lab))\n",
    "    return labels.mean(axis=1)"
   ]
  },
  {
   "cell_type": "markdown",
   "metadata": {},
   "source": [
    "$\\rho(x_j, z_j) = [x_j \\ne z_j]$"
   ]
  },
  {
   "cell_type": "code",
   "execution_count": 10,
   "metadata": {
    "collapsed": true
   },
   "outputs": [],
   "source": [
    "def dist1(X, Y):\n",
    "    return (X[:, np.newaxis, :] != Y[np.newaxis, :, :]).sum(axis=2)"
   ]
  },
  {
   "cell_type": "code",
   "execution_count": 11,
   "metadata": {
    "collapsed": false,
    "scrolled": false
   },
   "outputs": [
    {
     "name": "stdout",
     "output_type": "stream",
     "text": [
      "Wall time: 36.2 s\n"
     ]
    }
   ],
   "source": [
    "%%time\n",
    "y_prob = my_knn_prob(X_train, y_train, X_test, 10, dist1)"
   ]
  },
  {
   "cell_type": "code",
   "execution_count": 12,
   "metadata": {
    "collapsed": false
   },
   "outputs": [
    {
     "data": {
      "text/plain": [
       "0.829499015542142"
      ]
     },
     "execution_count": 12,
     "metadata": {},
     "output_type": "execute_result"
    }
   ],
   "source": [
    "roc_auc_score(y_test, y_prob)"
   ]
  },
  {
   "cell_type": "markdown",
   "metadata": {},
   "source": [
    "$\\rho(x_j, z_j) = [x_j \\ne z_j] + [x_j = z_j] \\sum\\limits_{q: p_j(q) \\leqslant p_j(x_j)} p_j^2(q)$"
   ]
  },
  {
   "cell_type": "code",
   "execution_count": 13,
   "metadata": {
    "collapsed": false
   },
   "outputs": [],
   "source": [
    "from collections import defaultdict\n",
    "f = [defaultdict(float) for i in range(X_train.shape[1])]\n",
    "for x in X_train.iterrows():\n",
    "    for j in range(len(x[1])):\n",
    "        f[j][int(x[1][j])] += 1"
   ]
  },
  {
   "cell_type": "code",
   "execution_count": 14,
   "metadata": {
    "collapsed": false
   },
   "outputs": [],
   "source": [
    "p2 = [defaultdict(float) for i in range(X_train.shape[1])]\n",
    "for i in range(X_train.shape[1]):\n",
    "    for j in f[i].keys():\n",
    "        p2[i][j] = f[i][j] * (f[i][j] - 1) / l / (l - 1)\n",
    "\n",
    "sp2 = [defaultdict(float) for i in range(X_train.shape[1])]\n",
    "for i in range(X_train.shape[1]):\n",
    "    for j in f[i].keys():\n",
    "        for k in f[i].keys():\n",
    "            if f[i][j] > f[i][k]:\n",
    "                sp2[i][j] += p2[i][k]"
   ]
  },
  {
   "cell_type": "code",
   "execution_count": 15,
   "metadata": {
    "collapsed": true
   },
   "outputs": [],
   "source": [
    "def dist2(X, Y):\n",
    "    xf = np.array([[sp2[i][x[i]] for i in range(len(x))] for x in X])\n",
    "    return ((X[:, np.newaxis, :] != Y[np.newaxis, :, :]) + \n",
    "            (X[:, np.newaxis, :] == Y[np.newaxis, :, :]) * xf[:, np.newaxis, :]).sum(axis=2)"
   ]
  },
  {
   "cell_type": "code",
   "execution_count": 16,
   "metadata": {
    "collapsed": false
   },
   "outputs": [
    {
     "name": "stdout",
     "output_type": "stream",
     "text": [
      "Wall time: 2min 12s\n"
     ]
    }
   ],
   "source": [
    "%%time\n",
    "y_prob = my_knn_prob(X_train, y_train, X_test, 10, dist2)"
   ]
  },
  {
   "cell_type": "code",
   "execution_count": 17,
   "metadata": {
    "collapsed": false
   },
   "outputs": [
    {
     "data": {
      "text/plain": [
       "0.83318947453169068"
      ]
     },
     "execution_count": 17,
     "metadata": {},
     "output_type": "execute_result"
    }
   ],
   "source": [
    "roc_auc_score(y_test, y_prob)"
   ]
  },
  {
   "cell_type": "markdown",
   "metadata": {},
   "source": [
    "$\\rho(x_j, z_j) = [x_j \\ne z_j] ~ \\log f_j(x_j) ~ \\log f_j(z_j)$"
   ]
  },
  {
   "cell_type": "code",
   "execution_count": 18,
   "metadata": {
    "collapsed": false
   },
   "outputs": [],
   "source": [
    "from math import log\n",
    "logf = [defaultdict(float) for i in range(X_train.shape[1])]\n",
    "for i in range(X_train.shape[1]):\n",
    "    for k in f[i].keys():\n",
    "        logf[i][k] = log(f[i][k] + 1)"
   ]
  },
  {
   "cell_type": "code",
   "execution_count": 19,
   "metadata": {
    "collapsed": false
   },
   "outputs": [],
   "source": [
    "def dist3(X, Y):\n",
    "    xf = np.array([[logf[i][x[i]] for i in range(len(x))] for x in X]) + 1\n",
    "    yf = np.array([[logf[i][y[i]] for i in range(len(y))] for y in Y]) + 1\n",
    "    return ((X[:, np.newaxis, :] != Y[np.newaxis, :, :]) * xf[:, np.newaxis, :] * yf[np.newaxis, :, :]).sum(axis=2)"
   ]
  },
  {
   "cell_type": "code",
   "execution_count": 20,
   "metadata": {
    "collapsed": false
   },
   "outputs": [
    {
     "name": "stdout",
     "output_type": "stream",
     "text": [
      "Wall time: 3min 23s\n"
     ]
    }
   ],
   "source": [
    "%%time\n",
    "y_prob = my_knn_prob(X_train, y_train, X_test, 10, dist3)"
   ]
  },
  {
   "cell_type": "code",
   "execution_count": 21,
   "metadata": {
    "collapsed": false
   },
   "outputs": [
    {
     "data": {
      "text/plain": [
       "0.8241951994111224"
      ]
     },
     "execution_count": 21,
     "metadata": {},
     "output_type": "execute_result"
    }
   ],
   "source": [
    "roc_auc_score(y_test, y_prob)"
   ]
  },
  {
   "cell_type": "markdown",
   "metadata": {},
   "source": [
    "#### 2 (бонус). Подберите лучшее (на тестовой выборке) число соседей $k$ для каждой из функций расстояния. Какое наилучшее качество удалось достичь?"
   ]
  },
  {
   "cell_type": "code",
   "execution_count": 22,
   "metadata": {
    "collapsed": true
   },
   "outputs": [],
   "source": [
    "def my_knn_prob_magic(X_train, y_train, X_test, k, dist):\n",
    "    from scipy.stats import mode\n",
    "    X_train = np.array(X_train)\n",
    "    X_test = np.array(X_test)\n",
    "    y_train = np.array(y_train)\n",
    "    n = 100\n",
    "    labels = np.empty((0, k[-1]))\n",
    "    for i in range(n):\n",
    "        D = dist(X_test[X_test.shape[0] * i // n : X_test.shape[0] * (i + 1) // n], X_train)\n",
    "        sr = np.arange(D.shape[0])[:, np.newaxis]\n",
    "        pos = np.argpartition(D, k - 1, axis=1)[:, :k[-1]]\n",
    "        pos = pos[sr, np.argsort(D[sr, pos])]\n",
    "        lab = y_train[pos]\n",
    "        labels = np.vstack((labels, lab))\n",
    "    return np.array([labels[:, :i].mean(axis=1) for i in k])"
   ]
  },
  {
   "cell_type": "code",
   "execution_count": 23,
   "metadata": {
    "collapsed": false
   },
   "outputs": [],
   "source": [
    "y_1 = my_knn_prob_magic(X_train, y_train, X_test, np.arange(1, 21), dist1)\n",
    "y_2 = my_knn_prob_magic(X_train, y_train, X_test, np.arange(1, 21), dist2)\n",
    "y_3 = my_knn_prob_magic(X_train, y_train, X_test, np.arange(1, 21), dist3)"
   ]
  },
  {
   "cell_type": "code",
   "execution_count": 24,
   "metadata": {
    "collapsed": false
   },
   "outputs": [],
   "source": [
    "score_1 = [roc_auc_score(y_test, y) for y in y_1]\n",
    "score_2 = [roc_auc_score(y_test, y) for y in y_2]\n",
    "score_3 = [roc_auc_score(y_test, y) for y in y_3]"
   ]
  },
  {
   "cell_type": "code",
   "execution_count": 25,
   "metadata": {
    "collapsed": false
   },
   "outputs": [
    {
     "data": {
      "image/png": "[encoded data removed]",
      "text/plain": [
       "<matplotlib.figure.Figure at 0x8fdd128>"
      ]
     },
     "metadata": {},
     "output_type": "display_data"
    }
   ],
   "source": [
    "plt.plot(np.arange(3, 21), score_1[2:], label='1st metric', linewidth=2)\n",
    "plt.plot(np.arange(3, 21), score_2[2:], label='2nd metric', linewidth=2)\n",
    "plt.plot(np.arange(3, 21), score_3[2:], label='3rd metric', linewidth=2)\n",
    "plt.xlabel('Number of neighbors')\n",
    "plt.ylabel('AUC-ROC score')\n",
    "plt.legend(loc='lower right')\n",
    "plt.show()"
   ]
  },
  {
   "cell_type": "code",
   "execution_count": 26,
   "metadata": {
    "collapsed": false
   },
   "outputs": [
    {
     "name": "stdout",
     "output_type": "stream",
     "text": [
      "1st metric: 8 neighbors, 0.835941 score\n",
      "2nd metric: 9 neighbors, 0.839768 score\n",
      "3rd metric: 10 neighbors, 0.825006 score\n"
     ]
    }
   ],
   "source": [
    "print('1st metric: %d neighbors, %g score' % (np.argmax(score_1) + 1, np.max(score_1)))\n",
    "print('2nd metric: %d neighbors, %g score' % (np.argmax(score_2) + 1, np.max(score_2)))\n",
    "print('3rd metric: %d neighbors, %g score' % (np.argmax(score_3) + 1, np.max(score_3)))"
   ]
  },
  {
   "cell_type": "markdown",
   "metadata": {},
   "source": [
    "#### 3. Реализуйте счетчики (http://blogs.technet.com/b/machinelearning/archive/2015/02/17/big-learning-made-easy-with-counts.aspx), которые заменят категориальные признаки на вещественные.\n",
    "\n",
    "А именно, каждый категориальный признак нужно заменить на три: \n",
    "1. Число `counts` объектов в обучающей выборке с таким же значением признака.\n",
    "2. Число `clicks` объектов первого класса ($y = 1$) в обучающей выборке с таким же значением признака.\n",
    "3. Сглаженное отношение двух предыдущих величин: (`clicks` + 1) / (`counts` + 2).\n",
    "\n",
    "Поскольку признаки, содержащие информацию о целевой переменной, могут привести к переобучению, может оказаться полезным сделать *фолдинг*: разбить обучающую выборку на $n$ частей, и для $i$-й части считать `counts` и `clicks` по всем остальным частям. Для тестовой выборки используются счетчики, посчитанный по всей обучающей выборке. Реализуйте и такой вариант. Можно использовать $n = 3$.\n",
    "\n",
    "#### Посчитайте на тесте AUC-ROC метода $k$ ближайших соседей с евклидовой метрикой для выборки, где категориальные признаки заменены на счетчики. Сравните по AUC-ROC два варианта формирования выборки — с фолдингом и без. Не забудьте подобрать наилучшее число соседей $k$."
   ]
  },
  {
   "cell_type": "markdown",
   "metadata": {},
   "source": [
    "##### 1. С фолдингом"
   ]
  },
  {
   "cell_type": "code",
   "execution_count": 27,
   "metadata": {
    "collapsed": true
   },
   "outputs": [],
   "source": [
    "def dist_euc(X, Y):\n",
    "    return (X ** 2).sum(axis=1)[:, np.newaxis] + (Y ** 2).sum(axis=1)[np.newaxis, :] - 2 * X.dot(Y.T) "
   ]
  },
  {
   "cell_type": "code",
   "execution_count": 28,
   "metadata": {
    "collapsed": true
   },
   "outputs": [],
   "source": [
    "def knn_score_cv(X_train, y_train, k):\n",
    "    y_train = np.array(y_train)\n",
    "    from sklearn.cross_validation import KFold\n",
    "    kf = KFold(X_train.shape[0], 3, random_state=42, shuffle=True)\n",
    "    score = np.zeros(len(k))\n",
    "    for i1, i2 in kf:\n",
    "        y_pred = my_knn_prob_magic(X_train[i1], y_train[i1], X_train[i2], k, dist_euc)\n",
    "        for i in range(len(k)):\n",
    "            score[i] += roc_auc_score(y_train[i2], y_pred[i])\n",
    "    return score / 3"
   ]
  },
  {
   "cell_type": "code",
   "execution_count": 29,
   "metadata": {
    "collapsed": false
   },
   "outputs": [],
   "source": [
    "counts = [[defaultdict(int) for j in range(d)] for i in range(3)]\n",
    "clicks = [[defaultdict(int) for j in range(d)] for i in range(3)]\n",
    "for i in range(l):\n",
    "    x = X_train.irow(i)\n",
    "    for j in range(d):\n",
    "        counts[i * 3 // l][j][int(x[j])] += 1\n",
    "        if y_train.irow(i):\n",
    "            clicks[i * 3 // l][j][int(x[j])] += 1"
   ]
  },
  {
   "cell_type": "code",
   "execution_count": 30,
   "metadata": {
    "collapsed": false
   },
   "outputs": [],
   "source": [
    "X_train_c = np.zeros((l, d * 3))\n",
    "for i in range(l):\n",
    "    x = X_train.irow(i)\n",
    "    for j in range(d):\n",
    "        for k in range(3):\n",
    "            if i * 3 // l != k:\n",
    "                X_train_c[i][j * 3] += counts[k][j][x[j]]\n",
    "                X_train_c[i][j * 3 + 1] += clicks[k][j][x[j]]\n",
    "        X_train_c[i][j * 3 + 2] = (X_train_c[i][j * 3 + 1] + 1) / (X_train_c[i][j * 3] + 2)"
   ]
  },
  {
   "cell_type": "code",
   "execution_count": 32,
   "metadata": {
    "collapsed": false
   },
   "outputs": [],
   "source": [
    "X_test_c = np.zeros((X_test.shape[0], d * 3))\n",
    "for i in range(X_test.shape[0]):\n",
    "    x = X_test.irow(i)\n",
    "    for j in range(d):\n",
    "        for k in range(3):\n",
    "            if i * 3 // l != k:\n",
    "                X_test_c[i][j * 3] += counts[k][j][x[j]]\n",
    "                X_test_c[i][j * 3 + 1] += clicks[k][j][x[j]]\n",
    "        X_test_c[i][j * 3 + 2] = (X_test_c[i][j * 3 + 1] + 1) / (X_test_c[i][j * 3] + 2)"
   ]
  },
  {
   "cell_type": "code",
   "execution_count": 33,
   "metadata": {
    "collapsed": true
   },
   "outputs": [],
   "source": [
    "#y_cnt_1 = my_knn_prob_magic(X_train_c, y_train, X_test_c, np.arange(1, 31), dist_euc)"
   ]
  },
  {
   "cell_type": "code",
   "execution_count": 34,
   "metadata": {
    "collapsed": true
   },
   "outputs": [],
   "source": [
    "#score_cnt_1 = [roc_auc_score(y_test, y) for y in y_cnt_1]"
   ]
  },
  {
   "cell_type": "code",
   "execution_count": 35,
   "metadata": {
    "collapsed": false
   },
   "outputs": [],
   "source": [
    "score_cnt_1 = knn_score_cv(X_train_c, y_train, np.arange(1, 31))"
   ]
  },
  {
   "cell_type": "code",
   "execution_count": 36,
   "metadata": {
    "collapsed": false
   },
   "outputs": [
    {
     "name": "stdout",
     "output_type": "stream",
     "text": [
      "[ 0.63829578  0.66813076  0.68520431  0.70361765  0.71227587  0.717502\n",
      "  0.72679547  0.72889915  0.73279077  0.73492921  0.73545095  0.73520703\n",
      "  0.73367738  0.7335206   0.7340631   0.73567881  0.73411731  0.73536615\n",
      "  0.73395377  0.73499862  0.7362823   0.73539317  0.73476004  0.73358301\n",
      "  0.73561772  0.73676942  0.73721697  0.73640856  0.73615937  0.73427924]\n"
     ]
    }
   ],
   "source": [
    "print(score_cnt_1)"
   ]
  },
  {
   "cell_type": "code",
   "execution_count": 37,
   "metadata": {
    "collapsed": false
   },
   "outputs": [
    {
     "name": "stdout",
     "output_type": "stream",
     "text": [
      "Best score with folding: 0.737217, on 27 neighbors\n"
     ]
    }
   ],
   "source": [
    "print('Best score with folding: %g, on %d neighbors' % (score_cnt_1.max(), score_cnt_1.argmax() + 1))"
   ]
  },
  {
   "cell_type": "markdown",
   "metadata": {},
   "source": [
    "##### 2. Без фолдинга"
   ]
  },
  {
   "cell_type": "code",
   "execution_count": 38,
   "metadata": {
    "collapsed": true
   },
   "outputs": [],
   "source": [
    "X_train_a = np.zeros((l, d * 3))\n",
    "for i in range(l):\n",
    "    x = X_train.irow(i)\n",
    "    for j in range(d):\n",
    "        for k in range(3):\n",
    "            X_train_a[i][j * 3] += counts[k][j][x[j]]\n",
    "            X_train_a[i][j * 3 + 1] += clicks[k][j][x[j]]\n",
    "        X_train_a[i][j * 3 + 2] = (X_train_a[i][j * 3 + 1] + 1) / (X_train_a[i][j * 3] + 2)"
   ]
  },
  {
   "cell_type": "code",
   "execution_count": 39,
   "metadata": {
    "collapsed": true
   },
   "outputs": [],
   "source": [
    "X_test_a = np.zeros((X_test.shape[0], d * 3))\n",
    "for i in range(X_test.shape[0]):\n",
    "    x = X_test.irow(i)\n",
    "    for j in range(d):\n",
    "        for k in range(3):\n",
    "            X_test_a[i][j * 3] += counts[k][j][x[j]]\n",
    "            X_test_a[i][j * 3 + 1] += clicks[k][j][x[j]]\n",
    "        X_test_a[i][j * 3 + 2] = (X_test_a[i][j * 3 + 1] + 1) / (X_test_a[i][j * 3] + 2)"
   ]
  },
  {
   "cell_type": "code",
   "execution_count": 40,
   "metadata": {
    "collapsed": true
   },
   "outputs": [],
   "source": [
    "#y_cnt_2 = my_knn_prob_magic(X_train_a, y_train, X_test_a, np.arange(1, 31), dist_euc)"
   ]
  },
  {
   "cell_type": "code",
   "execution_count": 41,
   "metadata": {
    "collapsed": false
   },
   "outputs": [],
   "source": [
    "#score_cnt_2 = [roc_auc_score(y_test, y) for y in y_cnt_2]"
   ]
  },
  {
   "cell_type": "code",
   "execution_count": 42,
   "metadata": {
    "collapsed": false
   },
   "outputs": [],
   "source": [
    "score_cnt_2 = knn_score_cv(X_train_a, y_train, np.arange(1, 31))"
   ]
  },
  {
   "cell_type": "code",
   "execution_count": 43,
   "metadata": {
    "collapsed": false
   },
   "outputs": [
    {
     "name": "stdout",
     "output_type": "stream",
     "text": [
      "[ 0.68670565  0.72062482  0.73709154  0.74514158  0.74998464  0.75375412\n",
      "  0.75629325  0.75795765  0.7606288   0.76179034  0.7610539   0.76381604\n",
      "  0.76291611  0.76338531  0.76290129  0.76142752  0.75861781  0.75889203\n",
      "  0.7586034   0.75838067  0.7557911   0.75514159  0.75416603  0.75487566\n",
      "  0.75709787  0.75698744  0.75531939  0.75441399  0.75220118  0.75050912]\n"
     ]
    }
   ],
   "source": [
    "print(score_cnt_2)"
   ]
  },
  {
   "cell_type": "code",
   "execution_count": 44,
   "metadata": {
    "collapsed": false
   },
   "outputs": [
    {
     "name": "stdout",
     "output_type": "stream",
     "text": [
      "Best score without folding: 0.763816, on 12 neighbors\n"
     ]
    }
   ],
   "source": [
    "print('Best score without folding: %g, on %d neighbors' % (score_cnt_2.max(), score_cnt_2.argmax() + 1))"
   ]
  },
  {
   "cell_type": "code",
   "execution_count": 45,
   "metadata": {
    "collapsed": false
   },
   "outputs": [
    {
     "data": {
      "image/png": "[encoded data removed]",
      "text/plain": [
       "<matplotlib.figure.Figure at 0x5ebafd0>"
      ]
     },
     "metadata": {},
     "output_type": "display_data"
    }
   ],
   "source": [
    "plt.plot(np.arange(3, 31), score_cnt_1[2:], label='With 3 folds', linewidth=2)\n",
    "plt.plot(np.arange(3, 31), score_cnt_2[2:], label='Without folding', linewidth=2)\n",
    "plt.xlabel('Number of neighbors')\n",
    "plt.ylabel('AUC-ROC score')\n",
    "plt.legend(loc='lower right')\n",
    "plt.show()"
   ]
  },
  {
   "cell_type": "markdown",
   "metadata": {},
   "source": [
    "#### 4. Добавьте в исходную выборку парные признаки — то есть для каждой пары $f_i$, $f_j$ исходных категориальных признаков добавьте новый категориальный признак $f_{ij}$, значение которого является конкатенацией значений $f_i$ и $f_j$. Посчитайте счетчики для этой выборки, найдите качество метода $k$ ближайших соседей с наилучшим $k$ (с фолдингом и без)."
   ]
  },
  {
   "cell_type": "markdown",
   "metadata": {},
   "source": [
    "##### 1. С фолдингом"
   ]
  },
  {
   "cell_type": "code",
   "execution_count": 47,
   "metadata": {
    "collapsed": false
   },
   "outputs": [],
   "source": [
    "cnts = [[[defaultdict(int) for i in range(j + 1)] for j in range(d)] for k in range(3)]\n",
    "clcs = [[[defaultdict(int) for i in range(j + 1)] for j in range(d)] for k in range(3)]\n",
    "for i in range(l):\n",
    "    x = X_train.irow(i)\n",
    "    for j in range(d):\n",
    "        for k in range(j + 1):\n",
    "            cnts[i * 3 // l][j][k][(x[j], x[k])] += 1\n",
    "    if y_train.irow(i):\n",
    "        for j in range(d):\n",
    "            for k in range(j + 1):\n",
    "                clcs[i * 3 // l][j][k][(x[j], x[k])] += 1"
   ]
  },
  {
   "cell_type": "code",
   "execution_count": 48,
   "metadata": {
    "collapsed": false
   },
   "outputs": [],
   "source": [
    "X_train_pair = np.zeros((l, d * (d + 1) // 2 * 3))\n",
    "for i in range(l):\n",
    "    x = X_train.irow(i)\n",
    "    for j in range(d):\n",
    "        for k in range(j + 1):\n",
    "            idx = (j * (j + 1) // 2 + k) * 3\n",
    "            for t in range(3):\n",
    "                if i * 3 // l != t:\n",
    "                    X_train_pair[i][idx] += cnts[t][j][k][(x[j], x[k])]\n",
    "                    X_train_pair[i][idx + 1] += clcs[t][j][k][(x[j], x[k])]\n",
    "            X_train_pair[i][idx + 2] = (X_train_pair[i][idx + 1] + 1) / (X_train_pair[i][idx] + 2)"
   ]
  },
  {
   "cell_type": "code",
   "execution_count": 49,
   "metadata": {
    "collapsed": false
   },
   "outputs": [],
   "source": [
    "X_test_pair = np.zeros((X_test.shape[0], d * (d + 1) // 2 * 3))\n",
    "for i in range(X_test.shape[0]):\n",
    "    x = X_test.irow(i)\n",
    "    for j in range(d):\n",
    "        for k in range(j + 1):\n",
    "            idx = (j * (j + 1) // 2 + k) * 3\n",
    "            for t in range(3):\n",
    "                if i * 3 // l != t:\n",
    "                    X_test_pair[i][idx] += cnts[t][j][k][(x[j], x[k])]\n",
    "                    X_test_pair[i][idx + 1] += clcs[t][j][k][(x[j], x[k])]\n",
    "            X_test_pair[i][idx + 2] = (X_test_pair[i][idx + 1] + 1) / (X_test_pair[i][idx] + 2)"
   ]
  },
  {
   "cell_type": "code",
   "execution_count": 50,
   "metadata": {
    "collapsed": true
   },
   "outputs": [],
   "source": [
    "#y_pair_1 = my_knn_prob_magic(X_train_pair, y_train, X_test_pair, np.arange(1, 31), dist_euc)"
   ]
  },
  {
   "cell_type": "code",
   "execution_count": 51,
   "metadata": {
    "collapsed": true
   },
   "outputs": [],
   "source": [
    "#score_pair_1 = [roc_auc_score(y_test, y) for y in y_pair_1]"
   ]
  },
  {
   "cell_type": "code",
   "execution_count": 52,
   "metadata": {
    "collapsed": true
   },
   "outputs": [],
   "source": [
    "score_pair_1 = knn_score_cv(X_train_pair, y_train, np.arange(1, 31))"
   ]
  },
  {
   "cell_type": "code",
   "execution_count": 53,
   "metadata": {
    "collapsed": false,
    "scrolled": true
   },
   "outputs": [
    {
     "name": "stdout",
     "output_type": "stream",
     "text": [
      "[ 0.64798477  0.68989297  0.71095358  0.72313492  0.73143699  0.74079742\n",
      "  0.74159752  0.74333266  0.74177262  0.7438286   0.7452195   0.74660098\n",
      "  0.745729    0.74623969  0.74668984  0.7456597   0.74377241  0.74274368\n",
      "  0.74229811  0.74391     0.74320374  0.74285696  0.74345527  0.74343323\n",
      "  0.74293409  0.74150725  0.74234151  0.74195521  0.74167703  0.74066224]\n"
     ]
    }
   ],
   "source": [
    "print(score_pair_1)"
   ]
  },
  {
   "cell_type": "code",
   "execution_count": 54,
   "metadata": {
    "collapsed": false
   },
   "outputs": [
    {
     "name": "stdout",
     "output_type": "stream",
     "text": [
      "Best score with folding and pair features: 0.74669, on 15 neighbors\n"
     ]
    }
   ],
   "source": [
    "print('Best score with folding and pair features: %g, on %d neighbors' % (score_pair_1.max(), score_pair_1.argmax() + 1))"
   ]
  },
  {
   "cell_type": "markdown",
   "metadata": {},
   "source": [
    "##### 2. Без фолдинга"
   ]
  },
  {
   "cell_type": "code",
   "execution_count": 55,
   "metadata": {
    "collapsed": true
   },
   "outputs": [],
   "source": [
    "X_train_pair_2 = np.zeros((l, d * (d + 1) // 2 * 3))\n",
    "for i in range(l):\n",
    "    x = X_train.irow(i)\n",
    "    for j in range(d):\n",
    "        for k in range(j + 1):\n",
    "            idx = (j * (j + 1) // 2 + k) * 3\n",
    "            for t in range(3):\n",
    "                X_train_pair_2[i][idx] += cnts[t][j][k][(x[j], x[k])]\n",
    "                X_train_pair_2[i][idx + 1] += clcs[t][j][k][(x[j], x[k])]\n",
    "            X_train_pair_2[i][idx + 2] = (X_train_pair_2[i][idx + 1] + 1) / (X_train_pair_2[i][idx] + 2)"
   ]
  },
  {
   "cell_type": "code",
   "execution_count": 56,
   "metadata": {
    "collapsed": true
   },
   "outputs": [],
   "source": [
    "X_test_pair_2 = np.zeros((X_test.shape[0], d * (d + 1) // 2 * 3))\n",
    "for i in range(X_test.shape[0]):\n",
    "    x = X_test.irow(i)\n",
    "    for j in range(d):\n",
    "        for k in range(j + 1):\n",
    "            idx = (j * (j + 1) // 2 + k) * 3\n",
    "            for t in range(3):\n",
    "                X_test_pair_2[i][idx] += cnts[t][j][k][(x[j], x[k])]\n",
    "                X_test_pair_2[i][idx + 1] += clcs[t][j][k][(x[j], x[k])]\n",
    "            X_test_pair_2[i][idx + 2] = (X_test_pair_2[i][idx + 1] + 1) / (X_test_pair_2[i][idx] + 2)"
   ]
  },
  {
   "cell_type": "code",
   "execution_count": 57,
   "metadata": {
    "collapsed": true
   },
   "outputs": [],
   "source": [
    "#y_pair_2 = my_knn_prob_magic(X_train_pair_2, y_train, X_test_pair_2, np.arange(1, 31), dist_euc)"
   ]
  },
  {
   "cell_type": "code",
   "execution_count": 58,
   "metadata": {
    "collapsed": true
   },
   "outputs": [],
   "source": [
    "#score_pair_2 = [roc_auc_score(y_test, y) for y in y_pair_2]"
   ]
  },
  {
   "cell_type": "code",
   "execution_count": 59,
   "metadata": {
    "collapsed": true
   },
   "outputs": [],
   "source": [
    "score_pair_2 = knn_score_cv(X_train_pair_2, y_train, np.arange(1, 31))"
   ]
  },
  {
   "cell_type": "code",
   "execution_count": 60,
   "metadata": {
    "collapsed": false
   },
   "outputs": [
    {
     "name": "stdout",
     "output_type": "stream",
     "text": [
      "[ 0.71073245  0.74177974  0.75703077  0.76363417  0.76541628  0.76752102\n",
      "  0.76873262  0.77066017  0.77274004  0.77103818  0.7712682   0.77035744\n",
      "  0.7698282   0.76913102  0.76754223  0.76529555  0.7653269   0.76540403\n",
      "  0.76428026  0.76256797  0.76060129  0.75868129  0.75884484  0.75735227\n",
      "  0.75721755  0.75573877  0.75647568  0.75458542  0.75347186  0.75225671]\n"
     ]
    }
   ],
   "source": [
    "print(score_pair_2)"
   ]
  },
  {
   "cell_type": "code",
   "execution_count": 61,
   "metadata": {
    "collapsed": false
   },
   "outputs": [
    {
     "name": "stdout",
     "output_type": "stream",
     "text": [
      "Best score without folding and with pair features: 0.77274, on 9 neighbors\n"
     ]
    }
   ],
   "source": [
    "print('Best score without folding and with pair features: %g, on %d neighbors' % \n",
    "      (score_pair_2.max(), score_pair_2.argmax() + 1))"
   ]
  },
  {
   "cell_type": "code",
   "execution_count": 62,
   "metadata": {
    "collapsed": false
   },
   "outputs": [
    {
     "data": {
      "image/png": "[encoded data removed]",
      "text/plain": [
       "<matplotlib.figure.Figure at 0x79b42b0>"
      ]
     },
     "metadata": {},
     "output_type": "display_data"
    }
   ],
   "source": [
    "plt.plot(np.arange(3, 31), score_cnt_1[2:], label='With 3 folds', linewidth=2)\n",
    "plt.plot(np.arange(3, 31), score_cnt_2[2:], label='Without folding', linewidth=2)\n",
    "plt.plot(np.arange(3, 31), score_pair_1[2:], label='With 3 folds and pair features', linewidth=2)\n",
    "plt.plot(np.arange(3, 31), score_pair_2[2:], label='Without folding, with pair features', linewidth=2)\n",
    "plt.xlabel('Number of neighbors')\n",
    "plt.ylabel('AUC-ROC score')\n",
    "plt.legend(loc='upper left', bbox_to_anchor=(1.02, 1.031))\n",
    "plt.show()"
   ]
  },
  {
   "cell_type": "markdown",
   "metadata": {},
   "source": [
    "А теперь для лучших значений на кросс-валидации запустим каждый из четырех алгоритмов на тестовой выборке"
   ]
  },
  {
   "cell_type": "code",
   "execution_count": 63,
   "metadata": {
    "collapsed": false
   },
   "outputs": [],
   "source": [
    "y_1 = my_knn_prob(X_train_c, y_train, X_test_c, score_cnt_1.argmax() + 1, dist_euc)\n",
    "y_2 = my_knn_prob(X_train_a, y_train, X_test_a, score_cnt_2.argmax() + 1, dist_euc)\n",
    "y_3 = my_knn_prob(X_train_pair, y_train, X_test_pair, score_pair_1.argmax() + 1, dist_euc)\n",
    "y_4 = my_knn_prob(X_train_pair_2, y_train, X_test_pair_2, score_pair_2.argmax() + 1, dist_euc)"
   ]
  },
  {
   "cell_type": "code",
   "execution_count": 73,
   "metadata": {
    "collapsed": false
   },
   "outputs": [
    {
     "name": "stdout",
     "output_type": "stream",
     "text": [
      "AUC-ROC score for folded train data on test set: 0.758927\n",
      "AUC-ROC score for not folded train data on test set: 0.791231\n",
      "AUC-ROC score for folded train data with pair features on test set: 0.772111\n",
      "AUC-ROC score for not folded train data with pair features on test set: 0.800937\n"
     ]
    }
   ],
   "source": [
    "print('AUC-ROC score for folded train data on test set: %g' % roc_auc_score(y_test, y_1))\n",
    "print('AUC-ROC score for not folded train data on test set: %g' % roc_auc_score(y_test, y_2))\n",
    "print('AUC-ROC score for folded train data with pair features on test set: %g' % roc_auc_score(y_test, y_3))\n",
    "print('AUC-ROC score for not folded train data with pair features on test set: %g' % roc_auc_score(y_test, y_4))"
   ]
  },
  {
   "cell_type": "markdown",
   "metadata": {},
   "source": [
    "Итого: в обоих случаях добавление парных фич улучшает качество как на кросс-валидации, так и на тестовой выборке. Однако и на тренировочной, и на тестовой выборке использование фолдинга при подсчете счетчиков ухудшает результат, что достаточно странно.\n",
    "\n",
    "Помимо этого, для всех четырех случаев на тестовой выборке получено качество примерно на 0.03 лучше, чем на кросс-валидации, однако лучший все равно результат заметно уступает лучшему результату, полученному в предыдущем разделе с нестандартными метриками (0.8 против 0.84)."
   ]
  },
  {
   "cell_type": "markdown",
   "metadata": {},
   "source": [
    "## Часть 2: Решающие деревья и леса"
   ]
  },
  {
   "cell_type": "markdown",
   "metadata": {},
   "source": [
    "#### 1. Возьмите из предыдущей части выборку с парными признаками, преобразованную с помощью счетчиков без фолдинга. Настройте решающее дерево, подобрав оптимальные значения параметров `max_depth` и `min_samples_leaf`. Какой наилучший AUC-ROC на контроле удалось получить?"
   ]
  },
  {
   "cell_type": "code",
   "execution_count": 74,
   "metadata": {
    "collapsed": false
   },
   "outputs": [],
   "source": [
    "from sklearn.tree import DecisionTreeClassifier\n",
    "from sklearn.cross_validation import KFold"
   ]
  },
  {
   "cell_type": "code",
   "execution_count": 75,
   "metadata": {
    "collapsed": false
   },
   "outputs": [],
   "source": [
    "q = np.zeros((10, 10))\n",
    "y_tr_np = np.array(y_train)\n",
    "for i in range(10):\n",
    "    for j in range(10):\n",
    "        kf = KFold(l, 3, random_state=42)\n",
    "        for i1, i2 in kf:\n",
    "            model = DecisionTreeClassifier(max_depth=20 * (i + 1), min_samples_leaf=(j + 1)).fit(X_train_pair_2[i1], y_tr_np[i1])\n",
    "            y = model.predict_proba(X_train_pair_2[i2])\n",
    "            q[i, j] += roc_auc_score(y_tr_np[i2], y[:, 1])\n",
    "q /= 3"
   ]
  },
  {
   "cell_type": "code",
   "execution_count": 139,
   "metadata": {
    "collapsed": false
   },
   "outputs": [
    {
     "data": {
      "image/png": "[encoded data removed]",
      "text/plain": [
       "<matplotlib.figure.Figure at 0x1ff1e518>"
      ]
     },
     "metadata": {},
     "output_type": "display_data"
    }
   ],
   "source": [
    "plt.matshow(q)\n",
    "plt.gcf().set_size_inches(7, 7)\n",
    "plt.colorbar()\n",
    "plt.xlabel('max_depth')\n",
    "plt.xticks(np.arange(10), np.arange(20, 201, 20))\n",
    "plt.ylabel('min_samples_leaf')\n",
    "plt.yticks(np.arange(10), np.arange(1, 11))\n",
    "plt.title('AUC-ROC score on cross-validation\\n without folding')\n",
    "plt.show()"
   ]
  },
  {
   "cell_type": "markdown",
   "metadata": {},
   "source": [
    "Вот это да. Думаю, по счетчикам, посчитанным на самой этой выборке, было несложно понять, где стоят единички. Ради интереса стоит построить дерево на данных, полученных с фолдингом."
   ]
  },
  {
   "cell_type": "code",
   "execution_count": 77,
   "metadata": {
    "collapsed": true
   },
   "outputs": [],
   "source": [
    "t = np.zeros((10, 10))\n",
    "y_tr_np = np.array(y_train)\n",
    "for i in range(10):\n",
    "    for j in range(10):\n",
    "        kf = KFold(l, 3, random_state=42)\n",
    "        for i1, i2 in kf:\n",
    "            model = DecisionTreeClassifier(max_depth=20 * (i + 1), min_samples_leaf=(j + 1)).fit(X_train_pair[i1], y_tr_np[i1])\n",
    "            y = model.predict_proba(X_train_pair[i2])\n",
    "            t[i, j] += roc_auc_score(y_tr_np[i2], y[:, 1])\n",
    "t /= 3"
   ]
  },
  {
   "cell_type": "code",
   "execution_count": 140,
   "metadata": {
    "collapsed": false
   },
   "outputs": [
    {
     "data": {
      "image/png": "[encoded data removed]",
      "text/plain": [
       "<matplotlib.figure.Figure at 0xb0ce320>"
      ]
     },
     "metadata": {},
     "output_type": "display_data"
    }
   ],
   "source": [
    "plt.matshow(t)\n",
    "plt.gcf().set_size_inches(7, 7)\n",
    "plt.colorbar()\n",
    "plt.xticks(np.arange(10), np.arange(20, 201, 20))\n",
    "plt.xlabel('max_depth')\n",
    "plt.yticks(np.arange(10), np.arange(1, 11))\n",
    "plt.ylabel('min_samples_leaf')\n",
    "plt.title('AUC-ROC score on cross-validation\\n with folding')\n",
    "plt.show()"
   ]
  },
  {
   "cell_type": "markdown",
   "metadata": {
    "collapsed": true
   },
   "source": [
    "Судя по графикам, лучшее качество на кросс-валидации достигается без ограничения на высоту дерева и практически не зависит от минимального размера листа. Запустим оба алгоритма с лучшими параметрами на тестовой выборке."
   ]
  },
  {
   "cell_type": "code",
   "execution_count": 135,
   "metadata": {
    "collapsed": false
   },
   "outputs": [
    {
     "name": "stdout",
     "output_type": "stream",
     "text": [
      "AUC-ROC score for decision tree trained on non-folded data: 0.565035\n",
      "AUC-ROC score for decision tree trained on folded data: 0.705001\n"
     ]
    }
   ],
   "source": [
    "model = DecisionTreeClassifier(min_samples_leaf=2).fit(X_train_pair_2, y_tr_np)\n",
    "y_1 = model.predict_proba(X_test_pair_2)\n",
    "sc_1 = roc_auc_score(y_test, y_1[:, 1])\n",
    "print('AUC-ROC score for decision tree trained on non-folded data: %g' % sc_1)\n",
    "model = DecisionTreeClassifier(min_samples_leaf=2).fit(X_train_pair, y_tr_np)\n",
    "y_2 = model.predict_proba(X_test_pair)\n",
    "sc_2 = roc_auc_score(y_test, y_2[:, 1])\n",
    "print('AUC-ROC score for decision tree trained on folded data: %g' % sc_2)"
   ]
  },
  {
   "cell_type": "markdown",
   "metadata": {},
   "source": [
    "Ага!!! Переобучилось! Этого и стоило ожидать. Однако качество даже с фолдами невысокое. С knn было сложно получить такой плохой результат."
   ]
  },
  {
   "cell_type": "markdown",
   "metadata": {},
   "source": [
    "#### 2. Настройте случайный лес, подобрав оптимальное число деревьев `n_estimators`. Какое качество на тестовой выборке он дает?"
   ]
  },
  {
   "cell_type": "code",
   "execution_count": 106,
   "metadata": {
    "collapsed": true
   },
   "outputs": [],
   "source": [
    "from sklearn.ensemble import RandomForestClassifier"
   ]
  },
  {
   "cell_type": "code",
   "execution_count": 131,
   "metadata": {
    "collapsed": false
   },
   "outputs": [],
   "source": [
    "qr = np.zeros(25)\n",
    "kf = KFold(l, 3, random_state=42)\n",
    "for i1, i2 in kf:\n",
    "    model = RandomForestClassifier(n_estimators=0, warm_start=True, min_samples_leaf=2)\n",
    "    for i in range(25):\n",
    "        model.set_params(n_estimators=(model.n_estimators + 2)).fit(X_train_pair_2[i1], y_tr_np[i1])\n",
    "        y = model.predict_proba(X_train_pair_2[i2])\n",
    "        qr[i] += roc_auc_score(y_tr_np[i2], y[:, 1])\n",
    "qr /= 3"
   ]
  },
  {
   "cell_type": "code",
   "execution_count": 136,
   "metadata": {
    "collapsed": false
   },
   "outputs": [
    {
     "data": {
      "image/png": "[encoded data removed]",
      "text/plain": [
       "<matplotlib.figure.Figure at 0xb08fda0>"
      ]
     },
     "metadata": {},
     "output_type": "display_data"
    }
   ],
   "source": [
    "plt.plot(np.linspace(2, 50, 25), qr, linewidth=2)\n",
    "plt.xlabel('n_estimators')\n",
    "plt.ylabel('AUC-ROC score')\n",
    "plt.title('AUC-ROC score on cross-validation')\n",
    "plt.show()"
   ]
  },
  {
   "cell_type": "code",
   "execution_count": 143,
   "metadata": {
    "collapsed": false
   },
   "outputs": [
    {
     "name": "stdout",
     "output_type": "stream",
     "text": [
      "AUC-ROC score on test set without folding for 50 trees: 0.713437\n",
      "AUC-ROC score on test set without folding for 100 trees: 0.709234\n",
      "AUC-ROC score on test set without folding for 200 trees: 0.722591\n",
      "AUC-ROC score on test set without folding for 500 trees: 0.720529\n"
     ]
    }
   ],
   "source": [
    "model = RandomForestClassifier(n_estimators=0, min_samples_leaf=2, warm_start=True)\n",
    "for i in [50, 100, 200, 500]:\n",
    "    model.set_params(n_estimators=i).fit(X_train_pair_2, y_train)\n",
    "    y_1 = model.predict_proba(X_test_pair_2)\n",
    "    sc_1 = roc_auc_score(y_test, y_1[:, 1])\n",
    "    print('AUC-ROC score on test set without folding for %d trees: %g' % (i, sc_1))"
   ]
  },
  {
   "cell_type": "markdown",
   "metadata": {
    "collapsed": true
   },
   "source": [
    "Уже лучше, чем одно дерево. Догнали одно дерево, обученное на данных с фолдингом."
   ]
  },
  {
   "cell_type": "markdown",
   "metadata": {},
   "source": [
    "#### 3. Возьмите выборку с парными признаками, для которой счетчики посчитаны с фолдингом. Обучите на ней случайный лес, подобрав число деревьев. Какое качество на тестовой выборке он дает? Чем вы можете объяснить изменение результата по сравнению с предыдущим пунктом?"
   ]
  },
  {
   "cell_type": "code",
   "execution_count": 133,
   "metadata": {
    "collapsed": false
   },
   "outputs": [],
   "source": [
    "qrf = np.zeros(25)\n",
    "kff = KFold(l, 3, random_state=42)\n",
    "for i1, i2 in kf:\n",
    "    model = RandomForestClassifier(n_estimators=0, warm_start=True, min_samples_leaf=2)\n",
    "    for i in range(25):\n",
    "        model.set_params(n_estimators=(model.n_estimators + 2)).fit(X_train_pair[i1], y_tr_np[i1])\n",
    "        y = model.predict_proba(X_train_pair[i2])\n",
    "        qrf[i] += roc_auc_score(y_tr_np[i2], y[:, 1])\n",
    "qrf /= 3"
   ]
  },
  {
   "cell_type": "code",
   "execution_count": 145,
   "metadata": {
    "collapsed": false
   },
   "outputs": [
    {
     "data": {
      "image/png": "[encoded data removed]",
      "text/plain": [
       "<matplotlib.figure.Figure at 0x61170b8>"
      ]
     },
     "metadata": {},
     "output_type": "display_data"
    }
   ],
   "source": [
    "plt.plot(np.linspace(2, 50, 25), qrf, linewidth=2)\n",
    "plt.xlabel('n_estimators')\n",
    "plt.ylabel('AUC-ROC score')\n",
    "plt.title('AUC-ROC score on cross-validation')\n",
    "plt.show()"
   ]
  },
  {
   "cell_type": "code",
   "execution_count": 144,
   "metadata": {
    "collapsed": false
   },
   "outputs": [
    {
     "name": "stdout",
     "output_type": "stream",
     "text": [
      "AUC-ROC score on test set with folding for 50 trees: 0.856866\n",
      "AUC-ROC score on test set with folding for 100 trees: 0.860816\n",
      "AUC-ROC score on test set with folding for 200 trees: 0.863854\n",
      "AUC-ROC score on test set with folding for 500 trees: 0.866366\n"
     ]
    }
   ],
   "source": [
    "model = RandomForestClassifier(n_estimators=0, min_samples_leaf=2, warm_start=True)\n",
    "for i in [50, 100, 200, 500]:\n",
    "    model.set_params(n_estimators=i).fit(X_train_pair, y_train)\n",
    "    y_1 = model.predict_proba(X_test_pair)\n",
    "    sc_1 = roc_auc_score(y_test, y_1[:, 1])\n",
    "    print('AUC-ROC score on test set with folding for %d trees: %g' % (i, sc_1))"
   ]
  },
  {
   "cell_type": "markdown",
   "metadata": {},
   "source": [
    "Ну наконец-то обогнали KNN с хитрыми метриками! Кстати, качество лучше, чем на кросс-валидации.\n",
    "\n",
    "Вы сами говорили где-то в начале, что вычислять счетчики на той же выборке, на которой потом будем по ним обучаться - плохая идея, которая наверняка приведет к переобучению. Так и получилось, видимо, дерево заметило, что если для всех 9 исходных признаков отношение кликов к счетчикам (заметно) отличается от 1, то это скорее всего представитель класса 0."
   ]
  },
  {
   "cell_type": "code",
   "execution_count": null,
   "metadata": {
    "collapsed": true
   },
   "outputs": [],
   "source": []
  }
 ],
 "metadata": {
  "kernelspec": {
   "display_name": "Python 3",
   "language": "python",
   "name": "python3"
  },
  "language_info": {
   "codemirror_mode": {
    "name": "ipython",
    "version": 3
   },
   "file_extension": ".py",
   "mimetype": "text/x-python",
   "name": "python",
   "nbconvert_exporter": "python",
   "pygments_lexer": "ipython3",
   "version": "3.4.3"
  }
 },
 "nbformat": 4,
 "nbformat_minor": 0
}
