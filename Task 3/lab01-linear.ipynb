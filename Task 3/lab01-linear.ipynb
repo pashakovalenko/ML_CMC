{
 "cells": [
  {
   "cell_type": "markdown",
   "metadata": {},
   "source": [
    "# Машинное обучение\n",
    "## ВМК МГУ, весна 2015/2016\n",
    "## Лабораторная работа 1. Линейные модели"
   ]
  },
  {
   "cell_type": "markdown",
   "metadata": {},
   "source": [
    "ФИО: Коваленко Павел Антонович\n",
    "\n",
    "Группа: 317"
   ]
  },
  {
   "cell_type": "markdown",
   "metadata": {},
   "source": [
    "Данное задание посвящено применению линейных моделей в задачах классификации и регрессии. Вы научитесь:\n",
    "* делать one-hot-кодирование категориальных признаков\n",
    "* обучать логистическую и линейную регрессию\n",
    "* отбирать признаки с помощью LASSO\n",
    "* вычислять метрики качества классификации и регрессии\n",
    "* выбирать лучший классификатор при ограничениях на точность или полноту\n",
    "* калибровать вероятности\n",
    "* реализовывать градиентный спуск (если захотите)\n"
   ]
  },
  {
   "cell_type": "code",
   "execution_count": 1,
   "metadata": {
    "collapsed": true
   },
   "outputs": [],
   "source": [
    "import numpy as np\n",
    "import pandas as pd\n",
    "from matplotlib import pyplot as plt, rc\n",
    "%matplotlib inline"
   ]
  },
  {
   "cell_type": "code",
   "execution_count": 2,
   "metadata": {
    "collapsed": true
   },
   "outputs": [],
   "source": [
    "font = {'family': 'Verdana',\n",
    "        'weight': 'normal',\n",
    "        'size': 14}\n",
    "rc('font', **font)\n",
    "rc('legend', fontsize=14)"
   ]
  },
  {
   "cell_type": "markdown",
   "metadata": {},
   "source": [
    "## Часть 1. Научные гранты в Австралии"
   ]
  },
  {
   "cell_type": "markdown",
   "metadata": {},
   "source": [
    "![](http://imgur.com/cBdDBO3.jpg)\n",
    "\n",
    "В данной части мы будем работать с задачей \"Predict Grant Applications\" (https://www.kaggle.com/c/unimelb/data), где для заявки на грант требуется предсказать, одобрят её или нет. Будем использовать лишь 40 признаков из имеющихся 249. Файлы для работы можно найти по ссылкам:\n",
    "* https://db.tt/iYzRzQYP (обучение)\n",
    "* https://db.tt/NGSHb5Qs (контроль)"
   ]
  },
  {
   "cell_type": "markdown",
   "metadata": {},
   "source": [
    "#### Задание 1\n",
    "Считайте обучающую и контрольную выборки из файлов с помощью pd.read_csv. Выделите целевую переменную (Grant.Status) в отдельный вектор."
   ]
  },
  {
   "cell_type": "code",
   "execution_count": 62,
   "metadata": {
    "collapsed": true
   },
   "outputs": [],
   "source": [
    "train_set = pd.read_csv('unimel_train.csv', index_col='Grant.Application.ID')\n",
    "test_set = pd.read_csv('unimel_test.csv', index_col='Grant.Application.ID')"
   ]
  },
  {
   "cell_type": "code",
   "execution_count": 63,
   "metadata": {
    "collapsed": false
   },
   "outputs": [],
   "source": [
    "y_train = train_set['Grant.Status']\n",
    "data_train = train_set.drop('Grant.Status', axis=1)\n",
    "y_test = test_set['Grant.Status']\n",
    "data_test = test_set.drop('Grant.Status', axis=1)"
   ]
  },
  {
   "cell_type": "code",
   "execution_count": 64,
   "metadata": {
    "collapsed": false
   },
   "outputs": [
    {
     "data": {
      "text/html": [
       "<div>\n",
       "<table border=\"1\" class=\"dataframe\">\n",
       "  <thead>\n",
       "    <tr style=\"text-align: right;\">\n",
       "      <th></th>\n",
       "      <th>Sponsor.Code</th>\n",
       "      <th>Grant.Category.Code</th>\n",
       "      <th>Contract.Value.Band...see.note.A</th>\n",
       "      <th>RFCD.Code.1</th>\n",
       "      <th>RFCD.Percentage.1</th>\n",
       "      <th>RFCD.Code.2</th>\n",
       "      <th>RFCD.Percentage.2</th>\n",
       "      <th>RFCD.Code.3</th>\n",
       "      <th>RFCD.Percentage.3</th>\n",
       "      <th>RFCD.Code.4</th>\n",
       "      <th>...</th>\n",
       "      <th>Dept.No..1</th>\n",
       "      <th>Faculty.No..1</th>\n",
       "      <th>With.PHD.1</th>\n",
       "      <th>No..of.Years.in.Uni.at.Time.of.Grant.1</th>\n",
       "      <th>Number.of.Successful.Grant.1</th>\n",
       "      <th>Number.of.Unsuccessful.Grant.1</th>\n",
       "      <th>A..1</th>\n",
       "      <th>A.1</th>\n",
       "      <th>B.1</th>\n",
       "      <th>C.1</th>\n",
       "    </tr>\n",
       "    <tr>\n",
       "      <th>Grant.Application.ID</th>\n",
       "      <th></th>\n",
       "      <th></th>\n",
       "      <th></th>\n",
       "      <th></th>\n",
       "      <th></th>\n",
       "      <th></th>\n",
       "      <th></th>\n",
       "      <th></th>\n",
       "      <th></th>\n",
       "      <th></th>\n",
       "      <th></th>\n",
       "      <th></th>\n",
       "      <th></th>\n",
       "      <th></th>\n",
       "      <th></th>\n",
       "      <th></th>\n",
       "      <th></th>\n",
       "      <th></th>\n",
       "      <th></th>\n",
       "      <th></th>\n",
       "      <th></th>\n",
       "    </tr>\n",
       "  </thead>\n",
       "  <tbody>\n",
       "    <tr>\n",
       "      <th>1137</th>\n",
       "      <td>21A</td>\n",
       "      <td>50A</td>\n",
       "      <td>A</td>\n",
       "      <td>230202</td>\n",
       "      <td>50</td>\n",
       "      <td>230203</td>\n",
       "      <td>30</td>\n",
       "      <td>230204</td>\n",
       "      <td>20</td>\n",
       "      <td>0</td>\n",
       "      <td>...</td>\n",
       "      <td>3098</td>\n",
       "      <td>31</td>\n",
       "      <td>Yes</td>\n",
       "      <td>&gt;=0 to 5</td>\n",
       "      <td>2</td>\n",
       "      <td>0</td>\n",
       "      <td>0</td>\n",
       "      <td>4</td>\n",
       "      <td>2</td>\n",
       "      <td>0</td>\n",
       "    </tr>\n",
       "    <tr>\n",
       "      <th>4314</th>\n",
       "      <td>4D</td>\n",
       "      <td>10A</td>\n",
       "      <td>D</td>\n",
       "      <td>320801</td>\n",
       "      <td>100</td>\n",
       "      <td>0</td>\n",
       "      <td>0</td>\n",
       "      <td>0</td>\n",
       "      <td>0</td>\n",
       "      <td>0</td>\n",
       "      <td>...</td>\n",
       "      <td>2553</td>\n",
       "      <td>25</td>\n",
       "      <td>Yes</td>\n",
       "      <td>&gt;=0 to 5</td>\n",
       "      <td>3</td>\n",
       "      <td>1</td>\n",
       "      <td>0</td>\n",
       "      <td>2</td>\n",
       "      <td>0</td>\n",
       "      <td>0</td>\n",
       "    </tr>\n",
       "    <tr>\n",
       "      <th>2020</th>\n",
       "      <td>NaN</td>\n",
       "      <td>NaN</td>\n",
       "      <td>NaN</td>\n",
       "      <td>320602</td>\n",
       "      <td>50</td>\n",
       "      <td>321004</td>\n",
       "      <td>30</td>\n",
       "      <td>321015</td>\n",
       "      <td>20</td>\n",
       "      <td>0</td>\n",
       "      <td>...</td>\n",
       "      <td>2813</td>\n",
       "      <td>25</td>\n",
       "      <td>NaN</td>\n",
       "      <td>Less than 0</td>\n",
       "      <td>1</td>\n",
       "      <td>5</td>\n",
       "      <td>0</td>\n",
       "      <td>7</td>\n",
       "      <td>2</td>\n",
       "      <td>0</td>\n",
       "    </tr>\n",
       "    <tr>\n",
       "      <th>6777</th>\n",
       "      <td>51C</td>\n",
       "      <td>20C</td>\n",
       "      <td>A</td>\n",
       "      <td>291503</td>\n",
       "      <td>60</td>\n",
       "      <td>321402</td>\n",
       "      <td>40</td>\n",
       "      <td>0</td>\n",
       "      <td>0</td>\n",
       "      <td>0</td>\n",
       "      <td>...</td>\n",
       "      <td>2553</td>\n",
       "      <td>25</td>\n",
       "      <td>NaN</td>\n",
       "      <td>more than 15</td>\n",
       "      <td>2</td>\n",
       "      <td>1</td>\n",
       "      <td>5</td>\n",
       "      <td>6</td>\n",
       "      <td>9</td>\n",
       "      <td>1</td>\n",
       "    </tr>\n",
       "    <tr>\n",
       "      <th>409</th>\n",
       "      <td>24D</td>\n",
       "      <td>30B</td>\n",
       "      <td>NaN</td>\n",
       "      <td>380107</td>\n",
       "      <td>100</td>\n",
       "      <td>0</td>\n",
       "      <td>0</td>\n",
       "      <td>0</td>\n",
       "      <td>0</td>\n",
       "      <td>0</td>\n",
       "      <td>...</td>\n",
       "      <td>2923</td>\n",
       "      <td>25</td>\n",
       "      <td>NaN</td>\n",
       "      <td>Less than 0</td>\n",
       "      <td>0</td>\n",
       "      <td>2</td>\n",
       "      <td>0</td>\n",
       "      <td>0</td>\n",
       "      <td>0</td>\n",
       "      <td>0</td>\n",
       "    </tr>\n",
       "  </tbody>\n",
       "</table>\n",
       "<p>5 rows × 38 columns</p>\n",
       "</div>"
      ],
      "text/plain": [
       "                     Sponsor.Code Grant.Category.Code  \\\n",
       "Grant.Application.ID                                    \n",
       "1137                          21A                 50A   \n",
       "4314                           4D                 10A   \n",
       "2020                          NaN                 NaN   \n",
       "6777                          51C                 20C   \n",
       "409                           24D                 30B   \n",
       "\n",
       "                     Contract.Value.Band...see.note.A  RFCD.Code.1  \\\n",
       "Grant.Application.ID                                                 \n",
       "1137                                               A        230202   \n",
       "4314                                               D        320801   \n",
       "2020                                              NaN       320602   \n",
       "6777                                               A        291503   \n",
       "409                                               NaN       380107   \n",
       "\n",
       "                      RFCD.Percentage.1  RFCD.Code.2  RFCD.Percentage.2  \\\n",
       "Grant.Application.ID                                                      \n",
       "1137                                 50       230203                 30   \n",
       "4314                                100            0                  0   \n",
       "2020                                 50       321004                 30   \n",
       "6777                                 60       321402                 40   \n",
       "409                                 100            0                  0   \n",
       "\n",
       "                      RFCD.Code.3  RFCD.Percentage.3  RFCD.Code.4 ...   \\\n",
       "Grant.Application.ID                                              ...    \n",
       "1137                       230204                 20            0 ...    \n",
       "4314                            0                  0            0 ...    \n",
       "2020                       321015                 20            0 ...    \n",
       "6777                            0                  0            0 ...    \n",
       "409                             0                  0            0 ...    \n",
       "\n",
       "                      Dept.No..1  Faculty.No..1  With.PHD.1  \\\n",
       "Grant.Application.ID                                          \n",
       "1137                        3098             31        Yes    \n",
       "4314                        2553             25        Yes    \n",
       "2020                        2813             25         NaN   \n",
       "6777                        2553             25         NaN   \n",
       "409                         2923             25         NaN   \n",
       "\n",
       "                      No..of.Years.in.Uni.at.Time.of.Grant.1  \\\n",
       "Grant.Application.ID                                           \n",
       "1137                                                >=0 to 5   \n",
       "4314                                                >=0 to 5   \n",
       "2020                                             Less than 0   \n",
       "6777                                            more than 15   \n",
       "409                                              Less than 0   \n",
       "\n",
       "                      Number.of.Successful.Grant.1  \\\n",
       "Grant.Application.ID                                 \n",
       "1137                                             2   \n",
       "4314                                             3   \n",
       "2020                                             1   \n",
       "6777                                             2   \n",
       "409                                              0   \n",
       "\n",
       "                      Number.of.Unsuccessful.Grant.1  A..1  A.1  B.1  C.1  \n",
       "Grant.Application.ID                                                       \n",
       "1137                                               0     0    4    2    0  \n",
       "4314                                               1     0    2    0    0  \n",
       "2020                                               5     0    7    2    0  \n",
       "6777                                               1     5    6    9    1  \n",
       "409                                                2     0    0    0    0  \n",
       "\n",
       "[5 rows x 38 columns]"
      ]
     },
     "execution_count": 64,
     "metadata": {},
     "output_type": "execute_result"
    }
   ],
   "source": [
    "data_train.head()"
   ]
  },
  {
   "cell_type": "code",
   "execution_count": 65,
   "metadata": {
    "collapsed": false
   },
   "outputs": [
    {
     "data": {
      "text/plain": [
       "(6095, 38)"
      ]
     },
     "execution_count": 65,
     "metadata": {},
     "output_type": "execute_result"
    }
   ],
   "source": [
    "data_train.shape"
   ]
  },
  {
   "cell_type": "markdown",
   "metadata": {},
   "source": [
    "#### Задание 2\n",
    "В этом задании мы приведем данные к виду, пригодному для обучения линейных классификаторов. Для этого вещественные признаки надо отмасштабировать, а категориальные — привести к числовому виду. Также надо устранить пропуски в данных."
   ]
  },
  {
   "cell_type": "markdown",
   "metadata": {},
   "source": [
    "В первую очередь поймем, зачем здесь нужно масштабирование. Нарисуем распределение трех признаков."
   ]
  },
  {
   "cell_type": "code",
   "execution_count": 7,
   "metadata": {
    "collapsed": false
   },
   "outputs": [
    {
     "data": {
      "text/plain": [
       "<matplotlib.axes._subplots.AxesSubplot at 0x3162adc198>"
      ]
     },
     "execution_count": 7,
     "metadata": {},
     "output_type": "execute_result"
    },
    {
     "data": {
      "image/png": "[encoded data removed]",
      "text/plain": [
       "<matplotlib.figure.Figure at 0x3162acc5c0>"
      ]
     },
     "metadata": {},
     "output_type": "display_data"
    }
   ],
   "source": [
    "data_train['Number.of.Successful.Grant.1'].hist(bins=20)"
   ]
  },
  {
   "cell_type": "code",
   "execution_count": 8,
   "metadata": {
    "collapsed": false
   },
   "outputs": [
    {
     "data": {
      "text/plain": [
       "<matplotlib.axes._subplots.AxesSubplot at 0x31623d2fd0>"
      ]
     },
     "execution_count": 8,
     "metadata": {},
     "output_type": "execute_result"
    },
    {
     "data": {
      "image/png": "[encoded data removed]",
      "text/plain": [
       "<matplotlib.figure.Figure at 0x3162433cc0>"
      ]
     },
     "metadata": {},
     "output_type": "display_data"
    }
   ],
   "source": [
    "data_train['RFCD.Percentage.1'].hist(bins=20)"
   ]
  },
  {
   "cell_type": "code",
   "execution_count": 9,
   "metadata": {
    "collapsed": false
   },
   "outputs": [
    {
     "data": {
      "text/plain": [
       "<matplotlib.axes._subplots.AxesSubplot at 0x31624362b0>"
      ]
     },
     "execution_count": 9,
     "metadata": {},
     "output_type": "execute_result"
    },
    {
     "data": {
      "image/png": "[encoded data removed]",
      "text/plain": [
       "<matplotlib.figure.Figure at 0x31627c2710>"
      ]
     },
     "metadata": {},
     "output_type": "display_data"
    }
   ],
   "source": [
    "data_train['Year.of.Birth.1'].hist(bins=20)"
   ]
  },
  {
   "cell_type": "markdown",
   "metadata": {},
   "source": [
    "Какую проблему вы наблюдаете на этих графиках? Как масштабирование поможет её исправить?"
   ]
  },
  {
   "cell_type": "markdown",
   "metadata": {},
   "source": [
    "Разные признаки имеют совершенно разные диапазоны значений. Чтобы градиентный спуск работал корректно, необходимо привести признаки к одной шкале. Иначе один и тот же шаг (например, 5) по одному из признаков (год рождения) не сильно изменит картину, а по другому (число успешных грантов) будет слишком большим. В итоге будет сложно подобрать такой шаг градиентного спуска, чтоб по всем параметрам он был одновременно достаточно большим, чтоб сойтись к оптимуму, и достаточно маленьким, чтобы оптимум не проскочить."
   ]
  },
  {
   "cell_type": "markdown",
   "metadata": {},
   "source": [
    "В наших данных есть пропуски. Ответьте на вопросы:\n",
    "1. Сколько всего пропущенных элементов в таблице с обучающей выборкой?\n",
    "2. Сколько объектов имеют хотя бы один пропуск?\n",
    "3. Сколько признаков имеют хотя бы одно пропущенное значение?"
   ]
  },
  {
   "cell_type": "code",
   "execution_count": 6,
   "metadata": {
    "collapsed": true
   },
   "outputs": [],
   "source": [
    "def checknan(x):\n",
    "    if type(x) == str:\n",
    "        return False\n",
    "    else:\n",
    "        return np.isnan(x)"
   ]
  },
  {
   "cell_type": "code",
   "execution_count": 7,
   "metadata": {
    "collapsed": false
   },
   "outputs": [],
   "source": [
    "train_nan = data_train.applymap(checknan)"
   ]
  },
  {
   "cell_type": "code",
   "execution_count": 8,
   "metadata": {
    "collapsed": false,
    "scrolled": true
   },
   "outputs": [
    {
     "data": {
      "text/html": [
       "<div>\n",
       "<table border=\"1\" class=\"dataframe\">\n",
       "  <thead>\n",
       "    <tr style=\"text-align: right;\">\n",
       "      <th></th>\n",
       "      <th>Sponsor.Code</th>\n",
       "      <th>Grant.Category.Code</th>\n",
       "      <th>Contract.Value.Band...see.note.A</th>\n",
       "      <th>RFCD.Code.1</th>\n",
       "      <th>RFCD.Percentage.1</th>\n",
       "      <th>RFCD.Code.2</th>\n",
       "      <th>RFCD.Percentage.2</th>\n",
       "      <th>RFCD.Code.3</th>\n",
       "      <th>RFCD.Percentage.3</th>\n",
       "      <th>RFCD.Code.4</th>\n",
       "      <th>...</th>\n",
       "      <th>Dept.No..1</th>\n",
       "      <th>Faculty.No..1</th>\n",
       "      <th>With.PHD.1</th>\n",
       "      <th>No..of.Years.in.Uni.at.Time.of.Grant.1</th>\n",
       "      <th>Number.of.Successful.Grant.1</th>\n",
       "      <th>Number.of.Unsuccessful.Grant.1</th>\n",
       "      <th>A..1</th>\n",
       "      <th>A.1</th>\n",
       "      <th>B.1</th>\n",
       "      <th>C.1</th>\n",
       "    </tr>\n",
       "    <tr>\n",
       "      <th>Grant.Application.ID</th>\n",
       "      <th></th>\n",
       "      <th></th>\n",
       "      <th></th>\n",
       "      <th></th>\n",
       "      <th></th>\n",
       "      <th></th>\n",
       "      <th></th>\n",
       "      <th></th>\n",
       "      <th></th>\n",
       "      <th></th>\n",
       "      <th></th>\n",
       "      <th></th>\n",
       "      <th></th>\n",
       "      <th></th>\n",
       "      <th></th>\n",
       "      <th></th>\n",
       "      <th></th>\n",
       "      <th></th>\n",
       "      <th></th>\n",
       "      <th></th>\n",
       "      <th></th>\n",
       "    </tr>\n",
       "  </thead>\n",
       "  <tbody>\n",
       "    <tr>\n",
       "      <th>1137</th>\n",
       "      <td>False</td>\n",
       "      <td>False</td>\n",
       "      <td>False</td>\n",
       "      <td>False</td>\n",
       "      <td>False</td>\n",
       "      <td>False</td>\n",
       "      <td>False</td>\n",
       "      <td>False</td>\n",
       "      <td>False</td>\n",
       "      <td>False</td>\n",
       "      <td>...</td>\n",
       "      <td>False</td>\n",
       "      <td>False</td>\n",
       "      <td>False</td>\n",
       "      <td>False</td>\n",
       "      <td>False</td>\n",
       "      <td>False</td>\n",
       "      <td>False</td>\n",
       "      <td>False</td>\n",
       "      <td>False</td>\n",
       "      <td>False</td>\n",
       "    </tr>\n",
       "    <tr>\n",
       "      <th>4314</th>\n",
       "      <td>False</td>\n",
       "      <td>False</td>\n",
       "      <td>False</td>\n",
       "      <td>False</td>\n",
       "      <td>False</td>\n",
       "      <td>False</td>\n",
       "      <td>False</td>\n",
       "      <td>False</td>\n",
       "      <td>False</td>\n",
       "      <td>False</td>\n",
       "      <td>...</td>\n",
       "      <td>False</td>\n",
       "      <td>False</td>\n",
       "      <td>False</td>\n",
       "      <td>False</td>\n",
       "      <td>False</td>\n",
       "      <td>False</td>\n",
       "      <td>False</td>\n",
       "      <td>False</td>\n",
       "      <td>False</td>\n",
       "      <td>False</td>\n",
       "    </tr>\n",
       "    <tr>\n",
       "      <th>2020</th>\n",
       "      <td>True</td>\n",
       "      <td>True</td>\n",
       "      <td>True</td>\n",
       "      <td>False</td>\n",
       "      <td>False</td>\n",
       "      <td>False</td>\n",
       "      <td>False</td>\n",
       "      <td>False</td>\n",
       "      <td>False</td>\n",
       "      <td>False</td>\n",
       "      <td>...</td>\n",
       "      <td>False</td>\n",
       "      <td>False</td>\n",
       "      <td>True</td>\n",
       "      <td>False</td>\n",
       "      <td>False</td>\n",
       "      <td>False</td>\n",
       "      <td>False</td>\n",
       "      <td>False</td>\n",
       "      <td>False</td>\n",
       "      <td>False</td>\n",
       "    </tr>\n",
       "    <tr>\n",
       "      <th>6777</th>\n",
       "      <td>False</td>\n",
       "      <td>False</td>\n",
       "      <td>False</td>\n",
       "      <td>False</td>\n",
       "      <td>False</td>\n",
       "      <td>False</td>\n",
       "      <td>False</td>\n",
       "      <td>False</td>\n",
       "      <td>False</td>\n",
       "      <td>False</td>\n",
       "      <td>...</td>\n",
       "      <td>False</td>\n",
       "      <td>False</td>\n",
       "      <td>True</td>\n",
       "      <td>False</td>\n",
       "      <td>False</td>\n",
       "      <td>False</td>\n",
       "      <td>False</td>\n",
       "      <td>False</td>\n",
       "      <td>False</td>\n",
       "      <td>False</td>\n",
       "    </tr>\n",
       "    <tr>\n",
       "      <th>409</th>\n",
       "      <td>False</td>\n",
       "      <td>False</td>\n",
       "      <td>True</td>\n",
       "      <td>False</td>\n",
       "      <td>False</td>\n",
       "      <td>False</td>\n",
       "      <td>False</td>\n",
       "      <td>False</td>\n",
       "      <td>False</td>\n",
       "      <td>False</td>\n",
       "      <td>...</td>\n",
       "      <td>False</td>\n",
       "      <td>False</td>\n",
       "      <td>True</td>\n",
       "      <td>False</td>\n",
       "      <td>False</td>\n",
       "      <td>False</td>\n",
       "      <td>False</td>\n",
       "      <td>False</td>\n",
       "      <td>False</td>\n",
       "      <td>False</td>\n",
       "    </tr>\n",
       "  </tbody>\n",
       "</table>\n",
       "<p>5 rows × 38 columns</p>\n",
       "</div>"
      ],
      "text/plain": [
       "                     Sponsor.Code Grant.Category.Code  \\\n",
       "Grant.Application.ID                                    \n",
       "1137                        False               False   \n",
       "4314                        False               False   \n",
       "2020                         True                True   \n",
       "6777                        False               False   \n",
       "409                         False               False   \n",
       "\n",
       "                     Contract.Value.Band...see.note.A RFCD.Code.1  \\\n",
       "Grant.Application.ID                                                \n",
       "1137                                            False       False   \n",
       "4314                                            False       False   \n",
       "2020                                             True       False   \n",
       "6777                                            False       False   \n",
       "409                                              True       False   \n",
       "\n",
       "                     RFCD.Percentage.1 RFCD.Code.2 RFCD.Percentage.2  \\\n",
       "Grant.Application.ID                                                   \n",
       "1137                             False       False             False   \n",
       "4314                             False       False             False   \n",
       "2020                             False       False             False   \n",
       "6777                             False       False             False   \n",
       "409                              False       False             False   \n",
       "\n",
       "                     RFCD.Code.3 RFCD.Percentage.3 RFCD.Code.4  ...    \\\n",
       "Grant.Application.ID                                            ...     \n",
       "1137                       False             False       False  ...     \n",
       "4314                       False             False       False  ...     \n",
       "2020                       False             False       False  ...     \n",
       "6777                       False             False       False  ...     \n",
       "409                        False             False       False  ...     \n",
       "\n",
       "                     Dept.No..1 Faculty.No..1 With.PHD.1  \\\n",
       "Grant.Application.ID                                       \n",
       "1137                      False         False      False   \n",
       "4314                      False         False      False   \n",
       "2020                      False         False       True   \n",
       "6777                      False         False       True   \n",
       "409                       False         False       True   \n",
       "\n",
       "                     No..of.Years.in.Uni.at.Time.of.Grant.1  \\\n",
       "Grant.Application.ID                                          \n",
       "1137                                                  False   \n",
       "4314                                                  False   \n",
       "2020                                                  False   \n",
       "6777                                                  False   \n",
       "409                                                   False   \n",
       "\n",
       "                     Number.of.Successful.Grant.1  \\\n",
       "Grant.Application.ID                                \n",
       "1137                                        False   \n",
       "4314                                        False   \n",
       "2020                                        False   \n",
       "6777                                        False   \n",
       "409                                         False   \n",
       "\n",
       "                     Number.of.Unsuccessful.Grant.1   A..1    A.1    B.1  \\\n",
       "Grant.Application.ID                                                       \n",
       "1137                                          False  False  False  False   \n",
       "4314                                          False  False  False  False   \n",
       "2020                                          False  False  False  False   \n",
       "6777                                          False  False  False  False   \n",
       "409                                           False  False  False  False   \n",
       "\n",
       "                        C.1  \n",
       "Grant.Application.ID         \n",
       "1137                  False  \n",
       "4314                  False  \n",
       "2020                  False  \n",
       "6777                  False  \n",
       "409                   False  \n",
       "\n",
       "[5 rows x 38 columns]"
      ]
     },
     "execution_count": 8,
     "metadata": {},
     "output_type": "execute_result"
    }
   ],
   "source": [
    "train_nan.head()"
   ]
  },
  {
   "cell_type": "code",
   "execution_count": 9,
   "metadata": {
    "collapsed": false
   },
   "outputs": [
    {
     "data": {
      "text/plain": [
       "26843"
      ]
     },
     "execution_count": 9,
     "metadata": {},
     "output_type": "execute_result"
    }
   ],
   "source": [
    "train_nan.sum().sum()"
   ]
  },
  {
   "cell_type": "code",
   "execution_count": 10,
   "metadata": {
    "collapsed": false
   },
   "outputs": [
    {
     "data": {
      "text/plain": [
       "5879"
      ]
     },
     "execution_count": 10,
     "metadata": {},
     "output_type": "execute_result"
    }
   ],
   "source": [
    "train_nan.any(axis=1).sum()"
   ]
  },
  {
   "cell_type": "code",
   "execution_count": 11,
   "metadata": {
    "collapsed": false,
    "scrolled": true
   },
   "outputs": [
    {
     "data": {
      "text/plain": [
       "Sponsor.Code                              True\n",
       "Grant.Category.Code                       True\n",
       "Contract.Value.Band...see.note.A          True\n",
       "RFCD.Code.1                               True\n",
       "RFCD.Percentage.1                         True\n",
       "RFCD.Code.2                               True\n",
       "RFCD.Percentage.2                         True\n",
       "RFCD.Code.3                               True\n",
       "RFCD.Percentage.3                         True\n",
       "RFCD.Code.4                               True\n",
       "RFCD.Percentage.4                         True\n",
       "RFCD.Code.5                               True\n",
       "RFCD.Percentage.5                         True\n",
       "SEO.Code.1                                True\n",
       "SEO.Percentage.1                          True\n",
       "SEO.Code.2                                True\n",
       "SEO.Percentage.2                          True\n",
       "SEO.Code.3                                True\n",
       "SEO.Percentage.3                          True\n",
       "SEO.Code.4                                True\n",
       "SEO.Percentage.4                          True\n",
       "SEO.Code.5                                True\n",
       "SEO.Percentage.5                          True\n",
       "Person.ID.1                               True\n",
       "Role.1                                    True\n",
       "Year.of.Birth.1                           True\n",
       "Country.of.Birth.1                        True\n",
       "Home.Language.1                           True\n",
       "Dept.No..1                                True\n",
       "Faculty.No..1                             True\n",
       "With.PHD.1                                True\n",
       "No..of.Years.in.Uni.at.Time.of.Grant.1    True\n",
       "Number.of.Successful.Grant.1              True\n",
       "Number.of.Unsuccessful.Grant.1            True\n",
       "A..1                                      True\n",
       "A.1                                       True\n",
       "B.1                                       True\n",
       "C.1                                       True\n",
       "dtype: bool"
      ]
     },
     "execution_count": 11,
     "metadata": {},
     "output_type": "execute_result"
    }
   ],
   "source": [
    "train_nan.any(axis=0)"
   ]
  },
  {
   "cell_type": "markdown",
   "metadata": {
    "collapsed": true
   },
   "source": [
    "Всего в выборке имеется почти 27000 пропущенных значений. При этом в каждом столбце имеется хотя бы одно пропущенное значение, и в большинстве объектов (5879 из 6095) есть хотя бы одно пропущенно поле."
   ]
  },
  {
   "cell_type": "markdown",
   "metadata": {},
   "source": [
    "Большинство признаков в нашем датасете являются категориальными. Типичным подходом к работе с ними является бинарное, или one-hot-кодирование (также есть подход со счётчиками, который мы уже применяли в прошлых работах). Для начала потренируемся делать бинарное кодирование на трех игрушечных объектах."
   ]
  },
  {
   "cell_type": "code",
   "execution_count": 10,
   "metadata": {
    "collapsed": false
   },
   "outputs": [
    {
     "data": {
      "text/html": [
       "<div>\n",
       "<table border=\"1\" class=\"dataframe\">\n",
       "  <thead>\n",
       "    <tr style=\"text-align: right;\">\n",
       "      <th></th>\n",
       "      <th>City</th>\n",
       "      <th>Weather</th>\n",
       "    </tr>\n",
       "  </thead>\n",
       "  <tbody>\n",
       "    <tr>\n",
       "      <th>0</th>\n",
       "      <td>Msk</td>\n",
       "      <td>good</td>\n",
       "    </tr>\n",
       "    <tr>\n",
       "      <th>1</th>\n",
       "      <td>SPb</td>\n",
       "      <td>bad</td>\n",
       "    </tr>\n",
       "    <tr>\n",
       "      <th>2</th>\n",
       "      <td>Msk</td>\n",
       "      <td>worst</td>\n",
       "    </tr>\n",
       "  </tbody>\n",
       "</table>\n",
       "</div>"
      ],
      "text/plain": [
       "  City Weather\n",
       "0  Msk    good\n",
       "1  SPb     bad\n",
       "2  Msk   worst"
      ]
     },
     "execution_count": 10,
     "metadata": {},
     "output_type": "execute_result"
    }
   ],
   "source": [
    "simple_data = pd.DataFrame({'City': ['Msk', 'SPb', 'Msk'], 'Weather': ['good', 'bad', 'worst']})\n",
    "simple_data.head()"
   ]
  },
  {
   "cell_type": "code",
   "execution_count": 11,
   "metadata": {
    "collapsed": false
   },
   "outputs": [
    {
     "name": "stdout",
     "output_type": "stream",
     "text": [
      "dict_values([{'City': 'Msk', 'Weather': 'good'}, {'City': 'SPb', 'Weather': 'bad'}, {'City': 'Msk', 'Weather': 'worst'}])\n"
     ]
    }
   ],
   "source": [
    "# преобразуем каждый объект в dict\n",
    "simple_data_dict = simple_data.T.to_dict().values()\n",
    "print(simple_data_dict)"
   ]
  },
  {
   "cell_type": "code",
   "execution_count": 12,
   "metadata": {
    "collapsed": false
   },
   "outputs": [
    {
     "name": "stdout",
     "output_type": "stream",
     "text": [
      "[[ 1.  0.  0.  1.  0.]\n",
      " [ 0.  1.  1.  0.  0.]\n",
      " [ 1.  0.  0.  0.  1.]]\n"
     ]
    }
   ],
   "source": [
    "# делаем one-hot-кодирование\n",
    "from sklearn.feature_extraction import DictVectorizer\n",
    "transformer = DictVectorizer(sparse=False)\n",
    "# примените здесь DictVectorizer к simple_data_dict, получите бинарную матрицу и выведите её\n",
    "matrix = transformer.fit_transform(simple_data_dict)\n",
    "print(matrix)"
   ]
  },
  {
   "cell_type": "markdown",
   "metadata": {},
   "source": [
    "Реализуйте функцию transform_data, которая принимает на вход DataFrame с признаками, объекты классов StandardScaler и DictVectorizer и булеву переменную is_test (True, если обрабатывает тестовую выборку и False, если обучающую). В функции должны выполняться следующие шаги:\n",
    "1. Замена пропущенных значений на нули для вещественных признаков и на строки 'nan' для категориальных. Используйте для выполнения замены функцию fillna. Имена всех вещественных переменных перечислены в numeric_cols.\n",
    "2. Масштабирование вещественных признаков с помощью StandardScaler (метод fit_transform, если is_test == False, и метод transform в противном случае).\n",
    "3. One-hot-кодирование категориальных признаков с помощью DictVectorizer (метод fit_transform, если is_test == False, и метод transform в противном случае).\n",
    "\n",
    "Метод должен возвращать tuple из трех элементов: преобразованной выборки, объекта StandardScaler и объекта DictVectorizer. Преобразованная выборка должна состоять из масштабированных вещественных признаков и закодированных категориальных (исходные признаки не должны в ней остаться)."
   ]
  },
  {
   "cell_type": "code",
   "execution_count": 303,
   "metadata": {
    "collapsed": false
   },
   "outputs": [],
   "source": [
    "def transform_data(data, scaler, transformer, is_test, scale=True):\n",
    "    tdata = data.copy()\n",
    "    numeric_cols = ['RFCD.Percentage.1', 'RFCD.Percentage.2', 'RFCD.Percentage.3', \n",
    "                    'RFCD.Percentage.4', 'RFCD.Percentage.5',\n",
    "                    'SEO.Percentage.1', 'SEO.Percentage.2', 'SEO.Percentage.3',\n",
    "                    'SEO.Percentage.4', 'SEO.Percentage.5',\n",
    "                    'Year.of.Birth.1', 'Number.of.Successful.Grant.1', 'Number.of.Unsuccessful.Grant.1']\n",
    "    text_cols = list(set(data.columns).difference(numeric_cols))\n",
    "    filldict = {}\n",
    "    for i in numeric_cols:\n",
    "        filldict[i] = 0\n",
    "    for i in text_cols:\n",
    "        filldict[i] = 'nan'\n",
    "    tdata.fillna(value=filldict, inplace=True)\n",
    "    if scale:\n",
    "        if is_test:\n",
    "            tdata[numeric_cols] = scaler.transform(tdata[numeric_cols])\n",
    "        else:\n",
    "            tdata[numeric_cols] = scaler.fit_transform(tdata[numeric_cols])\n",
    "    \n",
    "    tdata[text_cols] = tdata[text_cols].applymap(lambda x: str(x))\n",
    "    text_dict = tdata[text_cols].to_dict(orient='records')\n",
    "    if is_test:\n",
    "        t = transformer.transform(text_dict)\n",
    "    else:\n",
    "        t = transformer.fit_transform(text_dict)\n",
    "    tdata = pd.concat([tdata, pd.DataFrame.from_records(t, columns=transformer.feature_names_, index=tdata.index)], axis=1)\n",
    "    tdata.drop(text_cols, inplace=True, axis=1)\n",
    "    \n",
    "    return tdata, scaler, transformer"
   ]
  },
  {
   "cell_type": "markdown",
   "metadata": {},
   "source": [
    "Применяем функцию к данным:"
   ]
  },
  {
   "cell_type": "code",
   "execution_count": 92,
   "metadata": {
    "collapsed": false,
    "scrolled": true
   },
   "outputs": [
    {
     "name": "stderr",
     "output_type": "stream",
     "text": [
      "C:\\Anaconda3\\lib\\site-packages\\pandas\\core\\internals.py:4417: FutureWarning: elementwise comparison failed; returning scalar instead, but in the future will perform elementwise comparison\n",
      "  comp = (nn == nn_at)\n"
     ]
    }
   ],
   "source": [
    "from sklearn.preprocessing import StandardScaler\n",
    "scaler = StandardScaler()\n",
    "transformer = DictVectorizer(sparse=False)\n",
    "X, scaler, transformer = transform_data(data_train, scaler, transformer, False)\n",
    "X_test, _, _ = transform_data(data_test, scaler, transformer, True)"
   ]
  },
  {
   "cell_type": "code",
   "execution_count": 94,
   "metadata": {
    "collapsed": false
   },
   "outputs": [
    {
     "data": {
      "text/html": [
       "<div>\n",
       "<table border=\"1\" class=\"dataframe\">\n",
       "  <thead>\n",
       "    <tr style=\"text-align: right;\">\n",
       "      <th></th>\n",
       "      <th>RFCD.Percentage.1</th>\n",
       "      <th>RFCD.Percentage.2</th>\n",
       "      <th>RFCD.Percentage.3</th>\n",
       "      <th>RFCD.Percentage.4</th>\n",
       "      <th>RFCD.Percentage.5</th>\n",
       "      <th>SEO.Percentage.1</th>\n",
       "      <th>SEO.Percentage.2</th>\n",
       "      <th>SEO.Percentage.3</th>\n",
       "      <th>SEO.Percentage.4</th>\n",
       "      <th>SEO.Percentage.5</th>\n",
       "      <th>...</th>\n",
       "      <th>Sponsor.Code=90B</th>\n",
       "      <th>Sponsor.Code=91C</th>\n",
       "      <th>Sponsor.Code=93A</th>\n",
       "      <th>Sponsor.Code=94B</th>\n",
       "      <th>Sponsor.Code=95C</th>\n",
       "      <th>Sponsor.Code=97A</th>\n",
       "      <th>Sponsor.Code=9A</th>\n",
       "      <th>Sponsor.Code=nan</th>\n",
       "      <th>With.PHD.1=Yes</th>\n",
       "      <th>With.PHD.1=nan</th>\n",
       "    </tr>\n",
       "    <tr>\n",
       "      <th>Grant.Application.ID</th>\n",
       "      <th></th>\n",
       "      <th></th>\n",
       "      <th></th>\n",
       "      <th></th>\n",
       "      <th></th>\n",
       "      <th></th>\n",
       "      <th></th>\n",
       "      <th></th>\n",
       "      <th></th>\n",
       "      <th></th>\n",
       "      <th></th>\n",
       "      <th></th>\n",
       "      <th></th>\n",
       "      <th></th>\n",
       "      <th></th>\n",
       "      <th></th>\n",
       "      <th></th>\n",
       "      <th></th>\n",
       "      <th></th>\n",
       "      <th></th>\n",
       "      <th></th>\n",
       "    </tr>\n",
       "  </thead>\n",
       "  <tbody>\n",
       "    <tr>\n",
       "      <th>1137</th>\n",
       "      <td>-0.608451</td>\n",
       "      <td>0.703245</td>\n",
       "      <td>1.174904</td>\n",
       "      <td>-0.133272</td>\n",
       "      <td>-0.067022</td>\n",
       "      <td>1.058025</td>\n",
       "      <td>-0.950185</td>\n",
       "      <td>-0.552590</td>\n",
       "      <td>-0.182801</td>\n",
       "      <td>-0.096227</td>\n",
       "      <td>...</td>\n",
       "      <td>0</td>\n",
       "      <td>0</td>\n",
       "      <td>0</td>\n",
       "      <td>0</td>\n",
       "      <td>0</td>\n",
       "      <td>0</td>\n",
       "      <td>0</td>\n",
       "      <td>0</td>\n",
       "      <td>1</td>\n",
       "      <td>0</td>\n",
       "    </tr>\n",
       "    <tr>\n",
       "      <th>4314</th>\n",
       "      <td>0.945581</td>\n",
       "      <td>-0.854627</td>\n",
       "      <td>-0.559046</td>\n",
       "      <td>-0.133272</td>\n",
       "      <td>-0.067022</td>\n",
       "      <td>1.058025</td>\n",
       "      <td>-0.950185</td>\n",
       "      <td>-0.552590</td>\n",
       "      <td>-0.182801</td>\n",
       "      <td>-0.096227</td>\n",
       "      <td>...</td>\n",
       "      <td>0</td>\n",
       "      <td>0</td>\n",
       "      <td>0</td>\n",
       "      <td>0</td>\n",
       "      <td>0</td>\n",
       "      <td>0</td>\n",
       "      <td>0</td>\n",
       "      <td>0</td>\n",
       "      <td>1</td>\n",
       "      <td>0</td>\n",
       "    </tr>\n",
       "    <tr>\n",
       "      <th>2020</th>\n",
       "      <td>-0.608451</td>\n",
       "      <td>0.703245</td>\n",
       "      <td>1.174904</td>\n",
       "      <td>-0.133272</td>\n",
       "      <td>-0.067022</td>\n",
       "      <td>-0.195593</td>\n",
       "      <td>0.042362</td>\n",
       "      <td>1.179742</td>\n",
       "      <td>-0.182801</td>\n",
       "      <td>-0.096227</td>\n",
       "      <td>...</td>\n",
       "      <td>0</td>\n",
       "      <td>0</td>\n",
       "      <td>0</td>\n",
       "      <td>0</td>\n",
       "      <td>0</td>\n",
       "      <td>0</td>\n",
       "      <td>0</td>\n",
       "      <td>1</td>\n",
       "      <td>0</td>\n",
       "      <td>1</td>\n",
       "    </tr>\n",
       "    <tr>\n",
       "      <th>6777</th>\n",
       "      <td>-0.297645</td>\n",
       "      <td>1.222536</td>\n",
       "      <td>-0.559046</td>\n",
       "      <td>-0.133272</td>\n",
       "      <td>-0.067022</td>\n",
       "      <td>-0.195593</td>\n",
       "      <td>1.034909</td>\n",
       "      <td>-0.552590</td>\n",
       "      <td>-0.182801</td>\n",
       "      <td>-0.096227</td>\n",
       "      <td>...</td>\n",
       "      <td>0</td>\n",
       "      <td>0</td>\n",
       "      <td>0</td>\n",
       "      <td>0</td>\n",
       "      <td>0</td>\n",
       "      <td>0</td>\n",
       "      <td>0</td>\n",
       "      <td>0</td>\n",
       "      <td>0</td>\n",
       "      <td>1</td>\n",
       "    </tr>\n",
       "    <tr>\n",
       "      <th>409</th>\n",
       "      <td>0.945581</td>\n",
       "      <td>-0.854627</td>\n",
       "      <td>-0.559046</td>\n",
       "      <td>-0.133272</td>\n",
       "      <td>-0.067022</td>\n",
       "      <td>-0.508997</td>\n",
       "      <td>1.531183</td>\n",
       "      <td>-0.552590</td>\n",
       "      <td>-0.182801</td>\n",
       "      <td>-0.096227</td>\n",
       "      <td>...</td>\n",
       "      <td>0</td>\n",
       "      <td>0</td>\n",
       "      <td>0</td>\n",
       "      <td>0</td>\n",
       "      <td>0</td>\n",
       "      <td>0</td>\n",
       "      <td>0</td>\n",
       "      <td>0</td>\n",
       "      <td>0</td>\n",
       "      <td>1</td>\n",
       "    </tr>\n",
       "  </tbody>\n",
       "</table>\n",
       "<p>5 rows × 5639 columns</p>\n",
       "</div>"
      ],
      "text/plain": [
       "                      RFCD.Percentage.1  RFCD.Percentage.2  RFCD.Percentage.3  \\\n",
       "Grant.Application.ID                                                            \n",
       "1137                          -0.608451           0.703245           1.174904   \n",
       "4314                           0.945581          -0.854627          -0.559046   \n",
       "2020                          -0.608451           0.703245           1.174904   \n",
       "6777                          -0.297645           1.222536          -0.559046   \n",
       "409                            0.945581          -0.854627          -0.559046   \n",
       "\n",
       "                      RFCD.Percentage.4  RFCD.Percentage.5  SEO.Percentage.1  \\\n",
       "Grant.Application.ID                                                           \n",
       "1137                          -0.133272          -0.067022          1.058025   \n",
       "4314                          -0.133272          -0.067022          1.058025   \n",
       "2020                          -0.133272          -0.067022         -0.195593   \n",
       "6777                          -0.133272          -0.067022         -0.195593   \n",
       "409                           -0.133272          -0.067022         -0.508997   \n",
       "\n",
       "                      SEO.Percentage.2  SEO.Percentage.3  SEO.Percentage.4  \\\n",
       "Grant.Application.ID                                                         \n",
       "1137                         -0.950185         -0.552590         -0.182801   \n",
       "4314                         -0.950185         -0.552590         -0.182801   \n",
       "2020                          0.042362          1.179742         -0.182801   \n",
       "6777                          1.034909         -0.552590         -0.182801   \n",
       "409                           1.531183         -0.552590         -0.182801   \n",
       "\n",
       "                      SEO.Percentage.5       ...        Sponsor.Code=90B  \\\n",
       "Grant.Application.ID                         ...                           \n",
       "1137                         -0.096227       ...                       0   \n",
       "4314                         -0.096227       ...                       0   \n",
       "2020                         -0.096227       ...                       0   \n",
       "6777                         -0.096227       ...                       0   \n",
       "409                          -0.096227       ...                       0   \n",
       "\n",
       "                      Sponsor.Code=91C  Sponsor.Code=93A  Sponsor.Code=94B  \\\n",
       "Grant.Application.ID                                                         \n",
       "1137                                 0                 0                 0   \n",
       "4314                                 0                 0                 0   \n",
       "2020                                 0                 0                 0   \n",
       "6777                                 0                 0                 0   \n",
       "409                                  0                 0                 0   \n",
       "\n",
       "                      Sponsor.Code=95C  Sponsor.Code=97A  Sponsor.Code=9A  \\\n",
       "Grant.Application.ID                                                        \n",
       "1137                                 0                 0                0   \n",
       "4314                                 0                 0                0   \n",
       "2020                                 0                 0                0   \n",
       "6777                                 0                 0                0   \n",
       "409                                  0                 0                0   \n",
       "\n",
       "                      Sponsor.Code=nan  With.PHD.1=Yes   With.PHD.1=nan  \n",
       "Grant.Application.ID                                                     \n",
       "1137                                 0                1               0  \n",
       "4314                                 0                1               0  \n",
       "2020                                 1                0               1  \n",
       "6777                                 0                0               1  \n",
       "409                                  0                0               1  \n",
       "\n",
       "[5 rows x 5639 columns]"
      ]
     },
     "execution_count": 94,
     "metadata": {},
     "output_type": "execute_result"
    }
   ],
   "source": [
    "X.head()"
   ]
  },
  {
   "cell_type": "markdown",
   "metadata": {},
   "source": [
    "Сколько признаков у вас получилось после преобразования?"
   ]
  },
  {
   "cell_type": "code",
   "execution_count": 95,
   "metadata": {
    "collapsed": false
   },
   "outputs": [
    {
     "name": "stdout",
     "output_type": "stream",
     "text": [
      "5639\n"
     ]
    }
   ],
   "source": [
    "print(X.shape[1])"
   ]
  },
  {
   "cell_type": "markdown",
   "metadata": {},
   "source": [
    "#### Задание 3\n",
    "Подберите лучшее значение параметра регуляризации C для логистической регрессии с L2-регуляризатором (sklearn.linear_model.LogisticRegression) с помощью кросс-валидации по 5 блокам. В качестве метрики качества используйте AUC-ROC. Сетка для перебора указана ниже. По итогам кросс-валидации укажите лучшее значение параметра регуляризации. Обучите классификатор с этим параметром на всей обучающей выборке и найдите качество (AUC-ROC) на тестовой выборке."
   ]
  },
  {
   "cell_type": "code",
   "execution_count": 96,
   "metadata": {
    "collapsed": false
   },
   "outputs": [],
   "source": [
    "from sklearn.cross_validation import KFold\n",
    "cv = KFold(X.shape[0], n_folds=5, shuffle=True, random_state=241)"
   ]
  },
  {
   "cell_type": "code",
   "execution_count": 97,
   "metadata": {
    "collapsed": true
   },
   "outputs": [
    {
     "name": "stdout",
     "output_type": "stream",
     "text": [
      "Fitting 5 folds for each of 6 candidates, totalling 30 fits\n",
      "[CV] C=0.001 .........................................................\n",
      "[CV] ................................ C=0.001, score=0.863121 -   2.6s\n",
      "[CV] C=0.001 .........................................................\n",
      "[CV] ................................ C=0.001, score=0.837991 -   2.3s\n",
      "[CV] C=0.001 .........................................................\n",
      "[CV] ................................ C=0.001, score=0.823047 -   2.4s\n",
      "[CV] C=0.001 .........................................................\n",
      "[CV] ................................ C=0.001, score=0.834639 -   2.5s"
     ]
    },
    {
     "name": "stderr",
     "output_type": "stream",
     "text": [
      "[Parallel(n_jobs=1)]: Done   1 tasks       | elapsed:    2.7s\n",
      "[Parallel(n_jobs=1)]: Done   4 tasks       | elapsed:   10.6s\n"
     ]
    },
    {
     "name": "stdout",
     "output_type": "stream",
     "text": [
      "\n",
      "[CV] C=0.001 .........................................................\n",
      "[CV] ................................ C=0.001, score=0.857035 -   2.3s\n",
      "[CV] C=0.01 ..........................................................\n",
      "[CV] ................................. C=0.01, score=0.888082 -   2.3s\n",
      "[CV] C=0.01 ..........................................................\n",
      "[CV] ................................. C=0.01, score=0.872970 -   2.5s\n",
      "[CV] C=0.01 ..........................................................\n",
      "[CV] ................................. C=0.01, score=0.856761 -   2.5s\n",
      "[CV] C=0.01 ..........................................................\n",
      "[CV] ................................. C=0.01, score=0.868401 -   2.5s\n",
      "[CV] C=0.01 ..........................................................\n",
      "[CV] ................................. C=0.01, score=0.878897 -   2.7s\n",
      "[CV] C=0.1 ...........................................................\n",
      "[CV] .................................. C=0.1, score=0.895421 -   2.6s\n",
      "[CV] C=0.1 ...........................................................\n",
      "[CV] .................................. C=0.1, score=0.882814 -   2.6s"
     ]
    },
    {
     "name": "stderr",
     "output_type": "stream",
     "text": [
      "[Parallel(n_jobs=1)]: Done   7 tasks       | elapsed:   18.4s\n",
      "[Parallel(n_jobs=1)]: Done  12 tasks       | elapsed:   32.2s\n"
     ]
    },
    {
     "name": "stdout",
     "output_type": "stream",
     "text": [
      "\n",
      "[CV] C=0.1 ...........................................................\n",
      "[CV] .................................. C=0.1, score=0.868654 -   2.6s\n",
      "[CV] C=0.1 ...........................................................\n",
      "[CV] .................................. C=0.1, score=0.880399 -   2.5s\n",
      "[CV] C=0.1 ...........................................................\n",
      "[CV] .................................. C=0.1, score=0.884842 -   2.6s\n",
      "[CV] C=1.0 ...........................................................\n",
      "[CV] .................................. C=1.0, score=0.883633 -   2.9s\n",
      "[CV] C=1.0 ...........................................................\n",
      "[CV] .................................. C=1.0, score=0.875024 -   2.8s\n",
      "[CV] C=1.0 ...........................................................\n",
      "[CV] .................................. C=1.0, score=0.868268 -   2.8s\n",
      "[CV] C=1.0 ...........................................................\n",
      "[CV] .................................. C=1.0, score=0.870605 -   2.9s\n",
      "[CV] C=1.0 ...........................................................\n",
      "[CV] .................................. C=1.0, score=0.880268 -   2.9s\n",
      "[CV] C=10.0 ..........................................................\n",
      "[CV] ................................. C=10.0, score=0.853084 -   3.3s\n",
      "[CV] C=10.0 ..........................................................\n",
      "[CV] ................................. C=10.0, score=0.846998 -   3.2s\n",
      "[CV] C=10.0 ..........................................................\n",
      "[CV] ................................. C=10.0, score=0.849601 -   3.1s\n",
      "[CV] C=10.0 ..........................................................\n",
      "[CV] ................................. C=10.0, score=0.843111 -   3.1s"
     ]
    },
    {
     "name": "stderr",
     "output_type": "stream",
     "text": [
      "[Parallel(n_jobs=1)]: Done  17 tasks       | elapsed:   46.6s\n",
      "[Parallel(n_jobs=1)]: Done  24 tasks       | elapsed:  1.2min\n"
     ]
    },
    {
     "name": "stdout",
     "output_type": "stream",
     "text": [
      "\n",
      "[CV] C=10.0 ..........................................................\n",
      "[CV] ................................. C=10.0, score=0.853429 -   3.3s\n",
      "[CV] C=100.0 .........................................................\n",
      "[CV] ................................ C=100.0, score=0.814384 -   4.2s\n",
      "[CV] C=100.0 .........................................................\n",
      "[CV] ................................ C=100.0, score=0.812456 -   4.9s\n",
      "[CV] C=100.0 .........................................................\n",
      "[CV] ................................ C=100.0, score=0.822707 -   6.0s\n",
      "[CV] C=100.0 .........................................................\n",
      "[CV] ................................ C=100.0, score=0.801531 -   3.9s\n",
      "[CV] C=100.0 .........................................................\n",
      "[CV] ................................ C=100.0, score=0.813976 -   5.4s\n"
     ]
    },
    {
     "name": "stderr",
     "output_type": "stream",
     "text": [
      "[Parallel(n_jobs=1)]: Done  30 out of  30 | elapsed:  1.6min finished\n"
     ]
    },
    {
     "data": {
      "text/plain": [
       "GridSearchCV(cv=sklearn.cross_validation.KFold(n=6095, n_folds=5, shuffle=True, random_state=241),\n",
       "       error_score='raise',\n",
       "       estimator=LogisticRegression(C=1.0, class_weight=None, dual=False, fit_intercept=True,\n",
       "          intercept_scaling=1, max_iter=100, multi_class='ovr', n_jobs=1,\n",
       "          penalty='l2', random_state=None, solver='liblinear', tol=0.0001,\n",
       "          verbose=0, warm_start=False),\n",
       "       fit_params={}, iid=True, n_jobs=1,\n",
       "       param_grid={'C': [0.001, 0.01, 0.1, 1.0, 10.0, 100.0]},\n",
       "       pre_dispatch='2*n_jobs', refit=True, scoring='roc_auc', verbose=10)"
      ]
     },
     "execution_count": 97,
     "metadata": {},
     "output_type": "execute_result"
    }
   ],
   "source": [
    "# вам пригодятся функции cross_val_score или GridSearchCV; используйте в них объект cv в качестве генератора разбиений\n",
    "from sklearn.grid_search import GridSearchCV\n",
    "from sklearn.linear_model import LogisticRegression\n",
    "C_grid = [0.001, 0.01, 0.1, 1.0, 10.0, 100.0]\n",
    "gs = GridSearchCV(LogisticRegression(), param_grid={'C' : C_grid}, scoring='roc_auc', cv=cv, verbose=10)\n",
    "gs.fit(X, y_train)"
   ]
  },
  {
   "cell_type": "code",
   "execution_count": 98,
   "metadata": {
    "collapsed": false
   },
   "outputs": [
    {
     "name": "stdout",
     "output_type": "stream",
     "text": [
      "{'C': 0.1} 0.8824260914\n"
     ]
    }
   ],
   "source": [
    "print(gs.best_params_, gs.best_score_)"
   ]
  },
  {
   "cell_type": "code",
   "execution_count": 99,
   "metadata": {
    "collapsed": false
   },
   "outputs": [
    {
     "name": "stdout",
     "output_type": "stream",
     "text": [
      "0.880429847176\n"
     ]
    }
   ],
   "source": [
    "from sklearn.metrics import roc_auc_score\n",
    "y_pred = gs.best_estimator_.predict_proba(X_test)[:, 1]\n",
    "print(roc_auc_score(y_test, y_pred))"
   ]
  },
  {
   "cell_type": "markdown",
   "metadata": {},
   "source": [
    "Лучшего качества на кросс-валидации удается достичь при C = 0.1. При этом значении параметра качество на кросс-валидации 0.882, на тестовой выборке 0.88"
   ]
  },
  {
   "cell_type": "markdown",
   "metadata": {},
   "source": [
    "Попробуем теперь логистическую регрессию с L1-регуляризатором (penalty='l1'). Выведите число ненулевых коэффициентов (clf.coef\\_) при каждом значении параметра регуляризации из сетки."
   ]
  },
  {
   "cell_type": "code",
   "execution_count": 100,
   "metadata": {
    "collapsed": false
   },
   "outputs": [
    {
     "name": "stdout",
     "output_type": "stream",
     "text": [
      "C: 0.001, Nonzero: 0\n",
      "C: 0.01, Nonzero: 9\n",
      "C: 0.1, Nonzero: 58\n",
      "C: 1, Nonzero: 666\n",
      "C: 10, Nonzero: 2157\n",
      "C: 100, Nonzero: 2632\n"
     ]
    }
   ],
   "source": [
    "for C in C_grid:\n",
    "    clf = LogisticRegression(penalty='l1', C=C).fit(X, y_train)\n",
    "    print('C: %g, Nonzero: %d' % (C, np.count_nonzero(clf.coef_)))"
   ]
  },
  {
   "cell_type": "markdown",
   "metadata": {},
   "source": [
    "Какое качество на тесте даёт логистическая регрессия с L1-регуляризатором с параметром C=0.01? Сколько для достижения такого качества ей нужно признаков?"
   ]
  },
  {
   "cell_type": "code",
   "execution_count": 101,
   "metadata": {
    "collapsed": false
   },
   "outputs": [
    {
     "name": "stdout",
     "output_type": "stream",
     "text": [
      "0.852543796128\n"
     ]
    }
   ],
   "source": [
    "clf = LogisticRegression(penalty='l1', C=0.01, tol=1e-8).fit(X, y_train)\n",
    "y_pred = clf.predict_proba(X_test)[:, 1]\n",
    "print(roc_auc_score(y_test, y_pred))"
   ]
  },
  {
   "cell_type": "markdown",
   "metadata": {},
   "source": [
    "Качество лучше, чем у l2, и всего на 9 признаках!"
   ]
  },
  {
   "cell_type": "code",
   "execution_count": 102,
   "metadata": {
    "collapsed": false
   },
   "outputs": [
    {
     "name": "stdout",
     "output_type": "stream",
     "text": [
      "('Contract.Value.Band...see.note.A=nan', -1.5785149259861047)\n",
      "('Sponsor.Code=nan', 1.0222716962805647)\n",
      "('Number.of.Unsuccessful.Grant.1', -0.80887242375495561)\n",
      "('Number.of.Successful.Grant.1', 0.64450208105089846)\n",
      "('Role.1=CHIEF_INVESTIGATOR', 0.12118693449673983)\n",
      "('Grant.Category.Code=nan', 0.12064767846172932)\n",
      "('With.PHD.1=Yes ', 0.070415368627160052)\n",
      "('Grant.Category.Code=30B', -0.022121719479116873)\n",
      "('RFCD.Code.4=0.0', 0.0042972254701791864)\n"
     ]
    }
   ],
   "source": [
    "wh = np.where(clf.coef_[0] != 0)\n",
    "for i in sorted(zip(X.columns[wh], clf.coef_[0][wh]), key=lambda x: -abs(x[1])):\n",
    "    print(i)"
   ]
  },
  {
   "cell_type": "markdown",
   "metadata": {},
   "source": [
    "#### Задание 4\n",
    "В этом задании мы внимательно рассмотрим различные аспекты качества классификатора. Для этого возьмите классификатор с L2-регуляризатором с лучшим значением параметра регуляризации (вы его нашли в предыдущем задании), обучите на полной обучающей выборке и найдите предсказания вероятностей на тесте. Далее будем работать только с этими прогнозами."
   ]
  },
  {
   "cell_type": "code",
   "execution_count": 104,
   "metadata": {
    "collapsed": true
   },
   "outputs": [],
   "source": [
    "clf = LogisticRegression(C=0.1).fit(X, y_train)\n",
    "y_pred = clf.predict_proba(X_test)[:, 1]"
   ]
  },
  {
   "cell_type": "markdown",
   "metadata": {},
   "source": [
    "Посчитайте AUC-ROC, AUC-PR (average_precision_score) и log-loss для прогнозов."
   ]
  },
  {
   "cell_type": "code",
   "execution_count": 105,
   "metadata": {
    "collapsed": true
   },
   "outputs": [],
   "source": [
    "from sklearn.metrics import average_precision_score"
   ]
  },
  {
   "cell_type": "code",
   "execution_count": 106,
   "metadata": {
    "collapsed": false
   },
   "outputs": [
    {
     "name": "stdout",
     "output_type": "stream",
     "text": [
      "AUC-ROC: 0.880429847176\n"
     ]
    }
   ],
   "source": [
    "print('AUC-ROC:', roc_auc_score(y_test, y_pred))"
   ]
  },
  {
   "cell_type": "code",
   "execution_count": 107,
   "metadata": {
    "collapsed": false
   },
   "outputs": [
    {
     "name": "stdout",
     "output_type": "stream",
     "text": [
      "AUC-PR: 0.838951812913\n"
     ]
    }
   ],
   "source": [
    "print('AUC-PR:', average_precision_score(y_test, y_pred))"
   ]
  },
  {
   "cell_type": "markdown",
   "metadata": {},
   "source": [
    "Нарисуйте ROC- и PR-кривые. Не забудьте подписать оси."
   ]
  },
  {
   "cell_type": "code",
   "execution_count": 108,
   "metadata": {
    "collapsed": false
   },
   "outputs": [],
   "source": [
    "from sklearn.metrics import roc_curve, precision_recall_curve"
   ]
  },
  {
   "cell_type": "code",
   "execution_count": 109,
   "metadata": {
    "collapsed": false
   },
   "outputs": [
    {
     "data": {
      "image/png": "[encoded data removed]",
      "text/plain": [
       "<matplotlib.figure.Figure at 0x3101fc0240>"
      ]
     },
     "metadata": {},
     "output_type": "display_data"
    }
   ],
   "source": [
    "tpr, fpr, roc_tr = roc_curve(y_test, y_pred)\n",
    "plt.plot(tpr, fpr)\n",
    "plt.title('ROC-curve')\n",
    "plt.xlabel('TPR')\n",
    "plt.ylabel('FPR')\n",
    "plt.show()"
   ]
  },
  {
   "cell_type": "code",
   "execution_count": 110,
   "metadata": {
    "collapsed": false
   },
   "outputs": [
    {
     "data": {
      "image/png": "[encoded data removed]",
      "text/plain": [
       "<matplotlib.figure.Figure at 0x316635cdd8>"
      ]
     },
     "metadata": {},
     "output_type": "display_data"
    }
   ],
   "source": [
    "pre, rec, pr_tr = precision_recall_curve(y_test, y_pred)\n",
    "plt.plot(rec, pre)\n",
    "plt.title('PR-curve')\n",
    "plt.xlabel('Recall')\n",
    "plt.ylabel('Precision')\n",
    "plt.vlines(0.9, 0, 1, color='red')\n",
    "plt.hlines(0.8, 0, 1, color='green')\n",
    "plt.show()"
   ]
  },
  {
   "cell_type": "markdown",
   "metadata": {},
   "source": [
    "Допустим, мы хотим построить классификатор, который будет находить не менее 90% успешных грантов. Соответственно, имеем нижнюю границу 90% на полноту. Какую максимальную точность при этом можно получить? При каком значении порога? Для получения ответа проанализируйте массивы, возвращаемые функцией metrics.precision_recall_curve."
   ]
  },
  {
   "cell_type": "code",
   "execution_count": 117,
   "metadata": {
    "collapsed": false
   },
   "outputs": [
    {
     "name": "stdout",
     "output_type": "stream",
     "text": [
      "Precision: 0.702, Treshold: 0.316\n"
     ]
    }
   ],
   "source": [
    "t = np.argmax(pre[rec >= 0.9])\n",
    "print('Precision: %.3g, Treshold: %.3g' % (pre[rec >= 0.9][t], pr_tr[rec[:-1] >= 0.9][t]))"
   ]
  },
  {
   "cell_type": "markdown",
   "metadata": {},
   "source": [
    "Возьмите классификатор с порогом из предыдущего пункта и подсчитайте для него F-меру. Почему она получилась маленькой, несмотря на высокую полноту?"
   ]
  },
  {
   "cell_type": "code",
   "execution_count": 118,
   "metadata": {
    "collapsed": false
   },
   "outputs": [
    {
     "name": "stdout",
     "output_type": "stream",
     "text": [
      "F-score: 0.788\n"
     ]
    }
   ],
   "source": [
    "from sklearn.metrics import f1_score\n",
    "tresh = pr_tr[t]\n",
    "print('F-score: %.3g' % f1_score(y_test, y_pred > tresh))"
   ]
  },
  {
   "cell_type": "markdown",
   "metadata": {},
   "source": [
    "$$F = \\frac{2 \\times Precision \\times Recall}{Precision + Recall}$$\n",
    "\n",
    "F-мера становится маленькой, когда мала либо точность, либо полнота. В данном случае мы имеем высокую полноту, но низкую точность, поэтому и небольшую F-меру."
   ]
  },
  {
   "cell_type": "markdown",
   "metadata": {},
   "source": [
    "Допустим, что университету важно подавать как можно меньше заявок, которые окажутся неуспешными — они очень плохо влияют на репутацию. Установим нижнюю границу на точность 80%. Какую максимальную полноту при этом можно обеспечить? При каком пороге?"
   ]
  },
  {
   "cell_type": "code",
   "execution_count": 119,
   "metadata": {
    "collapsed": false
   },
   "outputs": [
    {
     "name": "stdout",
     "output_type": "stream",
     "text": [
      "Recall: 0.778, Treshold: 0.528\n"
     ]
    }
   ],
   "source": [
    "t = np.argmax(rec[pre >= 0.8])\n",
    "print('Recall: %.3g, Treshold: %.3g' % (rec[pre >= 0.8][t], pr_tr[pre[:-1] >= 0.8][t]))"
   ]
  },
  {
   "cell_type": "markdown",
   "metadata": {},
   "source": [
    "#### Задание 5\n",
    "В этом задании мы научимся оценивать способность классификатора предсказывать вероятности, а также разберемся с калибровкой.\n",
    "\n",
    "Начнем с калибровочных кривых. Допустим, алгоритм возвращает некоторые числа от нуля до единицы. Хорошо ли они оценивают вероятность? Для этого разобьем отрезок $[0, 1]$ на несколько маленьких отрезков одинаковой длины. Рассмотрим $i$-й отрезок с границами $[a_i, b_i]$ и предсказания $p_1, p_2, \\dots, p_k$, которые попали в него. Пусть им соответствуют истинные ответы $y_1, y_2, \\dots, y_k$. Если алгоритм выдает корректные вероятности, то среди этих истинных ответов должно быть примерно $(a_i + b_i) / 2$ единиц. Иными словами, если нарисовать кривую, у которой по оси X отложены центры отрезков, а по оси Y — доли единичных ответов этих в отрезках, то она должна оказаться диагональной. Ниже приведена функция, которая должна рисовать такие кривые. В ней допущено две ошибки — найдите и исправьте их."
   ]
  },
  {
   "cell_type": "code",
   "execution_count": 125,
   "metadata": {
    "collapsed": true
   },
   "outputs": [],
   "source": [
    "def plot_calibration_curve(y_test, preds):\n",
    "    bin_middle_points = []\n",
    "    bin_real_ratios = []\n",
    "    n_bins = 20\n",
    "    for i in range(n_bins):\n",
    "        l = 1.0 / n_bins * i\n",
    "        r = 1.0 / n_bins * (i + 1)\n",
    "        bin_middle_points.append((l + r) / 2)\n",
    "        bin_real_ratios.append(np.mean(y_test[(preds >= l) & (preds < r)] == 1))\n",
    "    plt.plot(bin_middle_points, bin_real_ratios)"
   ]
  },
  {
   "cell_type": "markdown",
   "metadata": {},
   "source": [
    "Проверим её работу на логистической регрессии (поменяйте имена переменных, если это необходимо). Получилась ли почти диагональная калибровочная кривая?"
   ]
  },
  {
   "cell_type": "code",
   "execution_count": 126,
   "metadata": {
    "collapsed": false
   },
   "outputs": [
    {
     "data": {
      "image/png": "[encoded data removed]",
      "text/plain": [
       "<matplotlib.figure.Figure at 0x316633ae48>"
      ]
     },
     "metadata": {},
     "output_type": "display_data"
    }
   ],
   "source": [
    "clf = LogisticRegression(C=1.0)\n",
    "clf.fit(X, y_train)\n",
    "preds = clf.predict_proba(X_test)[:, 1]\n",
    "plot_calibration_curve(y_test, preds)"
   ]
  },
  {
   "cell_type": "markdown",
   "metadata": {},
   "source": [
    "Да, достаточно диагональная"
   ]
  },
  {
   "cell_type": "markdown",
   "metadata": {},
   "source": [
    "Заодно обратим внимание на то, как часто классификатор выдает те или иные вероятности."
   ]
  },
  {
   "cell_type": "code",
   "execution_count": 127,
   "metadata": {
    "collapsed": false
   },
   "outputs": [
    {
     "data": {
      "image/png": "[encoded data removed]",
      "text/plain": [
       "<matplotlib.figure.Figure at 0x316529aa20>"
      ]
     },
     "metadata": {},
     "output_type": "display_data"
    }
   ],
   "source": [
    "plt.hist(preds, bins=20)\n",
    "plt.show()"
   ]
  },
  {
   "cell_type": "markdown",
   "metadata": {},
   "source": [
    "Обучим теперь классификатор с кусочно-линейной функцией потерь (hinge loss, как в SVM)."
   ]
  },
  {
   "cell_type": "code",
   "execution_count": 157,
   "metadata": {
    "collapsed": false
   },
   "outputs": [],
   "source": [
    "from sklearn.linear_model import SGDClassifier\n",
    "clf = SGDClassifier(loss='hinge')\n",
    "clf.fit(X, y_train)\n",
    "preds = clf.decision_function(X_test)\n",
    "preds = 1.0 / (1.0 + np.exp(-preds))"
   ]
  },
  {
   "cell_type": "markdown",
   "metadata": {},
   "source": [
    "Изучите распределение ответов классификатора. Чем оно отличается от распределения у логистической регрессии? Чем вы можете объяснить это?"
   ]
  },
  {
   "cell_type": "code",
   "execution_count": 158,
   "metadata": {
    "collapsed": false
   },
   "outputs": [
    {
     "data": {
      "image/png": "[encoded data removed]",
      "text/plain": [
       "<matplotlib.figure.Figure at 0x310c0fe860>"
      ]
     },
     "metadata": {},
     "output_type": "display_data"
    }
   ],
   "source": [
    "plt.hist(preds, bins=20)\n",
    "plt.show()"
   ]
  },
  {
   "cell_type": "markdown",
   "metadata": {},
   "source": [
    "Большей части объектов классификатор присвоил значения, близкие к 0 или 1. Это связано с тем, что выход линейной модели получается слишком большим по модулю, и после применения сигмоиды он оказывается близок к 0 и 1."
   ]
  },
  {
   "cell_type": "markdown",
   "metadata": {},
   "source": [
    "Нарисуем калибровочную кривую. Видите ли вы какие-либо проблемы в ней?"
   ]
  },
  {
   "cell_type": "code",
   "execution_count": 159,
   "metadata": {
    "collapsed": false
   },
   "outputs": [
    {
     "data": {
      "image/png": "[encoded data removed]",
      "text/plain": [
       "<matplotlib.figure.Figure at 0x310c128828>"
      ]
     },
     "metadata": {},
     "output_type": "display_data"
    }
   ],
   "source": [
    "plot_calibration_curve(y_test, preds)"
   ]
  },
  {
   "cell_type": "markdown",
   "metadata": {},
   "source": [
    "Калибровочная кривая совершенно не похожа на диагональную."
   ]
  },
  {
   "cell_type": "markdown",
   "metadata": {},
   "source": [
    "Попробуем откалибровать вероятности. Грубо говоря, это процедура, которая для каждого отрезка $[a_i, b_i]$ строит преобразование, которое корректирует вероятности в нем, приводя тем самым калибровочную кривую к диагональной форме.\n",
    "\n",
    "Воспользуйтесь классом sklearn.calibration.CalibratedClassifierCV для калибровки вероятностей на обучении, и постройте с его помощью предсказания для тестовой выборки. Нарисуйте для них калибровочную кривую. Улучшилась ли она?"
   ]
  },
  {
   "cell_type": "code",
   "execution_count": 164,
   "metadata": {
    "collapsed": false
   },
   "outputs": [
    {
     "data": {
      "image/png": "[encoded data removed]",
      "text/plain": [
       "<matplotlib.figure.Figure at 0x3100b33da0>"
      ]
     },
     "metadata": {},
     "output_type": "display_data"
    }
   ],
   "source": [
    "from sklearn.calibration import CalibratedClassifierCV\n",
    "cc = CalibratedClassifierCV(SGDClassifier(loss='hinge'), cv=5)\n",
    "cc.fit(X, y_train)\n",
    "preds = cc.predict_proba(X_test)[:, 1]\n",
    "plot_calibration_curve(y_test, preds)"
   ]
  },
  {
   "cell_type": "markdown",
   "metadata": {},
   "source": [
    "Эта кривая заметно больше похожа на диагональную"
   ]
  },
  {
   "cell_type": "markdown",
   "metadata": {},
   "source": [
    "#### Задание 6\n",
    "Здесь вы можете вставить вашу любимую картинку про Австралию."
   ]
  },
  {
   "cell_type": "markdown",
   "metadata": {
    "collapsed": true
   },
   "source": [
    "<img src='http://media.vorotila.ru/ru/items/t1@9d3fa566-ede2-416d-9597-a136fa9bbe83/udivitelnaya-Avstraliya.jpg' width=50%>"
   ]
  },
  {
   "cell_type": "markdown",
   "metadata": {},
   "source": [
    "## Часть 2. Градиентный спуск своими руками\n",
    "**(опциональная часть, за правильное выполнение к оценке добавляется 3 балла)**"
   ]
  },
  {
   "cell_type": "markdown",
   "metadata": {},
   "source": [
    "В этой части вам предстоит самостоятельно реализовать градиентный спуск для логистической функции потерь — то есть, по сути, собственными руками обучить логистическую регрессию. Будем использовать данные из предыдущей части."
   ]
  },
  {
   "cell_type": "markdown",
   "metadata": {},
   "source": [
    "Добавьте к обучающей и тестовой выборкам единичный признак. Переведите значения целевого вектора в множество $\\{-1, +1\\}$."
   ]
  },
  {
   "cell_type": "code",
   "execution_count": 168,
   "metadata": {
    "collapsed": false
   },
   "outputs": [],
   "source": [
    "X['Bias'] = 1\n",
    "X_test['Bias'] = 1"
   ]
  },
  {
   "cell_type": "code",
   "execution_count": 170,
   "metadata": {
    "collapsed": false
   },
   "outputs": [],
   "source": [
    "y_train = y_train * 2 - 1\n",
    "y_test = y_test * 2 - 1"
   ]
  },
  {
   "cell_type": "markdown",
   "metadata": {},
   "source": [
    "Для начала реализуйте функции, которые вычисляют функционал, его градиент, а также прогнозы модели."
   ]
  },
  {
   "cell_type": "code",
   "execution_count": 172,
   "metadata": {
    "collapsed": true
   },
   "outputs": [],
   "source": [
    "def sigma(x):\n",
    "    return 1 / (1 + np.exp(-x))"
   ]
  },
  {
   "cell_type": "code",
   "execution_count": 173,
   "metadata": {
    "collapsed": true
   },
   "outputs": [],
   "source": [
    "# возвращает вектор предсказанных вероятностей для выборки X\n",
    "def make_pred(X, w):\n",
    "    return sigma(X.dot(w))"
   ]
  },
  {
   "cell_type": "code",
   "execution_count": 252,
   "metadata": {
    "collapsed": true
   },
   "outputs": [],
   "source": [
    "# возвращает значение логистического функционала для выборки (X, y) и вектора весов w\n",
    "def get_func(w, X, y):\n",
    "    return np.log(1 + np.exp(-y * X.dot(w))).mean()"
   ]
  },
  {
   "cell_type": "code",
   "execution_count": 253,
   "metadata": {
    "collapsed": true
   },
   "outputs": [],
   "source": [
    "# возвращает градиент логистического функционала для выборки (X, y) и вектора весов w\n",
    "def get_grad(w, X, y):\n",
    "    return -((y * sigma(-y * X.dot(w)))[:, np.newaxis] * X).mean(axis=0)"
   ]
  },
  {
   "cell_type": "markdown",
   "metadata": {},
   "source": [
    "Теперь реализуйте градиентный спуск (не стохастический). Функция должна возвращать вектор весов и список значений функционала на каждой итерации. В градиентном спуске должно выполняться не более max_iter итераций."
   ]
  },
  {
   "cell_type": "code",
   "execution_count": 259,
   "metadata": {
    "collapsed": true
   },
   "outputs": [],
   "source": [
    "def grad_descent(X, y, step_size, max_iter):\n",
    "    w = np.ones(X.shape[1])\n",
    "    func = [get_func(w, X, y)]\n",
    "    for i in range(max_iter):\n",
    "        g = get_grad(w, X, y)\n",
    "        w -= g * step_size\n",
    "        func.append(get_func(w, X, y))\n",
    "    return w, np.array(func)"
   ]
  },
  {
   "cell_type": "markdown",
   "metadata": {},
   "source": [
    "Запустите градиентный спуск для значений размера шага из набора [0.001, 1, 10]. Нарисуйте кривые зависимости значения функционала от номера итерации. Проанализируйте их. Вычислите AUC-ROC на тестовой выборке для лучшего из обученных вариантов."
   ]
  },
  {
   "cell_type": "code",
   "execution_count": 277,
   "metadata": {
    "collapsed": false
   },
   "outputs": [],
   "source": [
    "w = []\n",
    "f = []\n",
    "step = [0.001, 1, 10]\n",
    "for i in step:\n",
    "    w1, f1 = grad_descent(X, y_train, i, 30)\n",
    "    w.append(w1)\n",
    "    f.append(f1)"
   ]
  },
  {
   "cell_type": "code",
   "execution_count": 278,
   "metadata": {
    "collapsed": false
   },
   "outputs": [
    {
     "data": {
      "image/png": "[encoded data removed]",
      "text/plain": [
       "<matplotlib.figure.Figure at 0x3165156518>"
      ]
     },
     "metadata": {},
     "output_type": "display_data"
    }
   ],
   "source": [
    "for i, s in enumerate(step):\n",
    "    plt.plot(f[i], label='Step size: %g' % s)\n",
    "plt.legend(bbox_to_anchor=(1.01, 1.03), loc='upper left')\n",
    "plt.title('Зависимость значения функционала от числа итераций \\nградиентного спуска')\n",
    "plt.xlabel('Номер итерации')\n",
    "plt.ylabel('Значение функционала')\n",
    "plt.show()"
   ]
  },
  {
   "cell_type": "markdown",
   "metadata": {},
   "source": [
    "Как видно из графика, шаг 0.001 - слишком маленький, функционал сходится очень медленно. Шаг 10 - слишком большой, значение функционала скачет, он проскакивает мимо оптимального значения."
   ]
  },
  {
   "cell_type": "code",
   "execution_count": 279,
   "metadata": {
    "collapsed": false
   },
   "outputs": [
    {
     "name": "stdout",
     "output_type": "stream",
     "text": [
      "AUC-ROC:  0.800758279809\n"
     ]
    }
   ],
   "source": [
    "y_pred = make_pred(X_test, w[1])\n",
    "print('AUC-ROC: ', roc_auc_score(y_test, y_pred))"
   ]
  },
  {
   "cell_type": "markdown",
   "metadata": {},
   "source": [
    "Теперь реализуйте стохастический градиентный спуск. Функция должна возвращать вектор весов и список значений функционала на каждой итерации. В стохастическом градиентном спуске должно выполняться не более max_iter итераций."
   ]
  },
  {
   "cell_type": "code",
   "execution_count": 273,
   "metadata": {
    "collapsed": true
   },
   "outputs": [],
   "source": [
    "def sgd(X, y, step_size, max_iter):\n",
    "    pos = np.random.randint(0, X.shape[0], max_iter)\n",
    "    w = np.ones(X.shape[1])\n",
    "    func = [get_func(w, X, y)]\n",
    "    for i in range(max_iter):\n",
    "        g = get_grad(w, X.iloc[pos[i]:pos[i] + 1], y.iloc[pos[i]:pos[i] + 1])\n",
    "        w -= g * step_size\n",
    "        func.append(get_func(w, X, y))\n",
    "    return w, np.array(func)"
   ]
  },
  {
   "cell_type": "markdown",
   "metadata": {},
   "source": [
    "Подберите размер шага, при котором SGD будет сходиться. Нарисуйте график сходимости. Вычислите AUC-ROC на тестовой выборке."
   ]
  },
  {
   "cell_type": "code",
   "execution_count": 300,
   "metadata": {
    "collapsed": false
   },
   "outputs": [],
   "source": [
    "w = []\n",
    "f = []\n",
    "step = [0.03, 0.1, 0.3, 1, 3]\n",
    "for i in step:\n",
    "    w1, f1 = sgd(X, y_train, i, 100)\n",
    "    w.append(w1)\n",
    "    f.append(f1)"
   ]
  },
  {
   "cell_type": "code",
   "execution_count": 301,
   "metadata": {
    "collapsed": false
   },
   "outputs": [
    {
     "data": {
      "image/png": "[encoded data removed]",
      "text/plain": [
       "<matplotlib.figure.Figure at 0x3100b98a90>"
      ]
     },
     "metadata": {},
     "output_type": "display_data"
    }
   ],
   "source": [
    "for i, s in enumerate(step):\n",
    "    plt.plot(f[i], label='Step size: %g' % s)\n",
    "plt.legend(bbox_to_anchor=(1.01, 1.03), loc='upper left')\n",
    "plt.title('Зависимость значения функционала от числа итераций \\nградиентного спуска')\n",
    "plt.xlabel('Номер итерации')\n",
    "plt.ylabel('Значение функционала')\n",
    "plt.show()"
   ]
  },
  {
   "cell_type": "markdown",
   "metadata": {},
   "source": [
    "Наименьшее значение функционала достигается при шаге 0.3."
   ]
  },
  {
   "cell_type": "code",
   "execution_count": 302,
   "metadata": {
    "collapsed": false
   },
   "outputs": [
    {
     "name": "stdout",
     "output_type": "stream",
     "text": [
      "AUC-ROC:  0.735466844202\n"
     ]
    }
   ],
   "source": [
    "y_pred = make_pred(X_test, w[2])\n",
    "print('AUC-ROC: ', roc_auc_score(y_test, y_pred))"
   ]
  },
  {
   "cell_type": "markdown",
   "metadata": {},
   "source": [
    "А теперь самое сложное: заново сформируйте выборку с помощью transform_data, но теперь не масштабируйте вещественные признаки. Запустите на этой выборке градиентный спуск. Что вы наблюдаете? Удается ли достичь такого же качества, как и при использовании масштабирования?"
   ]
  },
  {
   "cell_type": "code",
   "execution_count": 304,
   "metadata": {
    "collapsed": false
   },
   "outputs": [
    {
     "name": "stderr",
     "output_type": "stream",
     "text": [
      "C:\\Anaconda3\\lib\\site-packages\\pandas\\core\\internals.py:4417: FutureWarning: elementwise comparison failed; returning scalar instead, but in the future will perform elementwise comparison\n",
      "  comp = (nn == nn_at)\n"
     ]
    }
   ],
   "source": [
    "scaler = StandardScaler()\n",
    "transformer = DictVectorizer(sparse=False)\n",
    "X_unsc, scaler, transformer = transform_data(data_train, scaler, transformer, False, scale=False)\n",
    "X_test_unsc, _, _ = transform_data(data_test, scaler, transformer, True, scale=False)"
   ]
  },
  {
   "cell_type": "code",
   "execution_count": 309,
   "metadata": {
    "collapsed": true
   },
   "outputs": [],
   "source": [
    "X_unsc['Bias'] = 1\n",
    "X_test_unsc['Bias'] = 1"
   ]
  },
  {
   "cell_type": "code",
   "execution_count": 337,
   "metadata": {
    "collapsed": true
   },
   "outputs": [],
   "source": [
    "w, f = grad_descent(X_unsc / 100, y_train, 0.003, 50)"
   ]
  },
  {
   "cell_type": "code",
   "execution_count": 343,
   "metadata": {
    "collapsed": false
   },
   "outputs": [
    {
     "data": {
      "image/png": "[encoded data removed]",
      "text/plain": [
       "<matplotlib.figure.Figure at 0x3101f85630>"
      ]
     },
     "metadata": {},
     "output_type": "display_data"
    }
   ],
   "source": [
    "plt.plot(f)\n",
    "plt.title('Зависимость значения функционала \\nот числа итераций')\n",
    "plt.xlabel('Номер итерации')\n",
    "plt.ylabel('Значение функции потерь')\n",
    "plt.show()"
   ]
  },
  {
   "cell_type": "code",
   "execution_count": 339,
   "metadata": {
    "collapsed": false
   },
   "outputs": [
    {
     "name": "stdout",
     "output_type": "stream",
     "text": [
      "AUC-ROC:  0.454216328225\n"
     ]
    }
   ],
   "source": [
    "y_pred = make_pred(X_test_unsc / 100, w)\n",
    "print('AUC-ROC: ', roc_auc_score(y_test, y_pred))"
   ]
  },
  {
   "cell_type": "markdown",
   "metadata": {},
   "source": [
    "Странно. Предсказывает хуже, чем наугад. Попробуем наоборот."
   ]
  },
  {
   "cell_type": "code",
   "execution_count": 341,
   "metadata": {
    "collapsed": false
   },
   "outputs": [
    {
     "name": "stdout",
     "output_type": "stream",
     "text": [
      "AUC-ROC:  0.545783671775\n"
     ]
    }
   ],
   "source": [
    "y_pred = make_pred(X_test_unsc / 100, w)\n",
    "print('AUC-ROC: ', roc_auc_score(y_test, -y_pred))"
   ]
  },
  {
   "cell_type": "markdown",
   "metadata": {},
   "source": [
    "Результат необъяснимо абсурдный. Видимо, это значит, что признаки лучше масштабировать."
   ]
  },
  {
   "cell_type": "markdown",
   "metadata": {},
   "source": [
    "Здесь вы можете поделиться своими мыслями по поводу этой части."
   ]
  },
  {
   "cell_type": "markdown",
   "metadata": {
    "collapsed": true
   },
   "source": [
    "<img src='https://pp.vk.me/c622325/v622325277/2793b/uHOtxVsO4sI.jpg' width=50%>"
   ]
  },
  {
   "cell_type": "markdown",
   "metadata": {},
   "source": [
    "## Часть 3. Линейная регрессия на простом примере"
   ]
  },
  {
   "cell_type": "markdown",
   "metadata": {},
   "source": [
    "В этой части мы очень кратко разберемся с линейной регрессией и измерением качества ее прогнозов. Будем использовать датасет diabetes."
   ]
  },
  {
   "cell_type": "code",
   "execution_count": 345,
   "metadata": {
    "collapsed": true
   },
   "outputs": [],
   "source": [
    "from sklearn import datasets\n",
    "from sklearn.cross_validation import train_test_split\n",
    "data = datasets.load_diabetes()\n",
    "X, X_test, y, y_test = train_test_split(data.data, data.target, train_size=0.7, random_state=241)"
   ]
  },
  {
   "cell_type": "markdown",
   "metadata": {},
   "source": [
    "Обучите линейную регрессию с L2-регуляризатором, подобрав лучшее значение параметра регуляризации на тестовой выборке. Используйте MSE в качестве тестовой выборки. При каком значении этого параметра достигается наилучшее качество?"
   ]
  },
  {
   "cell_type": "code",
   "execution_count": 346,
   "metadata": {
    "collapsed": true
   },
   "outputs": [],
   "source": [
    "alpha_grid = [0.001, 0.01, 0.1, 1.0, 10.0, 100.0]"
   ]
  },
  {
   "cell_type": "code",
   "execution_count": 351,
   "metadata": {
    "collapsed": false
   },
   "outputs": [],
   "source": [
    "from sklearn.linear_model import Ridge\n",
    "from sklearn.metrics import mean_squared_error, r2_score"
   ]
  },
  {
   "cell_type": "code",
   "execution_count": 363,
   "metadata": {
    "collapsed": false,
    "scrolled": true
   },
   "outputs": [],
   "source": [
    "gs = GridSearchCV(Ridge(), {'alpha': alpha_grid}, scoring='mean_squared_error', cv=5)\n",
    "gs = gs.fit(X, y)"
   ]
  },
  {
   "cell_type": "code",
   "execution_count": 359,
   "metadata": {
    "collapsed": false
   },
   "outputs": [
    {
     "data": {
      "text/plain": [
       "{'alpha': 0.001}"
      ]
     },
     "execution_count": 359,
     "metadata": {},
     "output_type": "execute_result"
    }
   ],
   "source": [
    "gs.best_params_"
   ]
  },
  {
   "cell_type": "code",
   "execution_count": 360,
   "metadata": {
    "collapsed": false
   },
   "outputs": [
    {
     "data": {
      "text/plain": [
       "-3017.4310798083438"
      ]
     },
     "execution_count": 360,
     "metadata": {},
     "output_type": "execute_result"
    }
   ],
   "source": [
    "gs.best_score_"
   ]
  },
  {
   "cell_type": "markdown",
   "metadata": {},
   "source": [
    "Вычислите для лучшей из моделей RMSE и коэффициент детерминации (r2_score) на тестовой выборке. Что вы можете сказать о значении коэффицинта детерминации? Насколько данная модель близка к оптимальной?"
   ]
  },
  {
   "cell_type": "code",
   "execution_count": 367,
   "metadata": {
    "collapsed": false
   },
   "outputs": [
    {
     "name": "stdout",
     "output_type": "stream",
     "text": [
      "RMSE: 55.8577676405\n",
      "R^2 score: 0.412493728283\n"
     ]
    }
   ],
   "source": [
    "print('RMSE:', mean_squared_error(y_test, gs.best_estimator_.predict(X_test)) ** 0.5)\n",
    "print('R^2 score:', r2_score(y_test, gs.best_estimator_.predict(X_test)))"
   ]
  },
  {
   "cell_type": "markdown",
   "metadata": {},
   "source": [
    "0.41 - это очень низкий коэффициент детерминизации, модель очень далека от оптимальной"
   ]
  },
  {
   "cell_type": "code",
   "execution_count": null,
   "metadata": {
    "collapsed": true
   },
   "outputs": [],
   "source": []
  }
 ],
 "metadata": {
  "kernelspec": {
   "display_name": "Python 3",
   "language": "python",
   "name": "python3"
  },
  "language_info": {
   "codemirror_mode": {
    "name": "ipython",
    "version": 3
   },
   "file_extension": ".py",
   "mimetype": "text/x-python",
   "name": "python",
   "nbconvert_exporter": "python",
   "pygments_lexer": "ipython3",
   "version": "3.5.1"
  }
 },
 "nbformat": 4,
 "nbformat_minor": 0
}
