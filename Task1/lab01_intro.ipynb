{
 "cells": [
  {
   "cell_type": "markdown",
   "metadata": {},
   "source": [
    "# Лабораторная работа 1. Язык Python, основные библиотеки для анализа данных."
   ]
  },
  {
   "cell_type": "markdown",
   "metadata": {},
   "source": [
    "ФИО: Коваленко Павел Антонович\n",
    "\n",
    "Группа: 317"
   ]
  },
  {
   "cell_type": "code",
   "execution_count": 97,
   "metadata": {
    "collapsed": true
   },
   "outputs": [],
   "source": [
    "import numpy as np\n",
    "import pandas as pd\n",
    "import matplotlib as mpl\n",
    "from matplotlib import pyplot as pp"
   ]
  },
  {
   "cell_type": "markdown",
   "metadata": {},
   "source": [
    "## Часть 1: Python"
   ]
  },
  {
   "cell_type": "markdown",
   "metadata": {},
   "source": [
    "#### 1. Напишите код, который сформирует список всех натуральных чисел, не превосходящих 100, которые делятся на 7 и не делятся на 5. Нельзя использовать циклы — выполните это задание с помощью list comprehension."
   ]
  },
  {
   "cell_type": "code",
   "execution_count": 34,
   "metadata": {
    "collapsed": false
   },
   "outputs": [
    {
     "name": "stdout",
     "output_type": "stream",
     "text": [
      "[7, 14, 21, 28, 42, 49, 56, 63, 77, 84, 91, 98]\n"
     ]
    }
   ],
   "source": [
    "x = [i for i in range(1, 101) if i % 7 == 0 and i % 5 != 0]\n",
    "print(x)"
   ]
  },
  {
   "cell_type": "markdown",
   "metadata": {},
   "source": [
    "#### 2. Напишите функцию `sort_tokens(s)`, которая принимает на вход строку, разделяет ее на токены по запятым, сортирует токены с помощью функции `sorted()` и снова соединяет их в одну строку через запятые. Например, для строки `u\"ночь,фонарь,улица\"` функция должна выдать `u\"ночь,улица,фонарь\"`. Придумайте несколько входных строк и протестируйте функцию на них."
   ]
  },
  {
   "cell_type": "markdown",
   "metadata": {},
   "source": [
    "Обратите внимание, что склеить строки можно с помощью конструкции `'x'.join(...)`. Например:"
   ]
  },
  {
   "cell_type": "code",
   "execution_count": 2,
   "metadata": {
    "collapsed": false
   },
   "outputs": [
    {
     "data": {
      "text/plain": [
       "'i! am! very! excited! :-)'"
      ]
     },
     "execution_count": 2,
     "metadata": {},
     "output_type": "execute_result"
    }
   ],
   "source": [
    "'! '.join(['i', 'am', 'very', 'excited', ':-)'])"
   ]
  },
  {
   "cell_type": "code",
   "execution_count": 15,
   "metadata": {
    "collapsed": false
   },
   "outputs": [
    {
     "name": "stdout",
     "output_type": "stream",
     "text": [
      "ночь,улица,фонарь\n",
      "a,b,c,d,e\n",
      "\n",
      ",,,  =/  ,-_-,0_0,;-)\n"
     ]
    }
   ],
   "source": [
    "def sort_tokens(s):\n",
    "    return ','.join(sorted(s.split(',')))\n",
    "print(sort_tokens(u'ночь,фонарь,улица'))\n",
    "print(sort_tokens('a,b,c,d,e'))\n",
    "print(sort_tokens(''))\n",
    "print(sort_tokens('-_-,,;-),0_0,  =/  ,,'))"
   ]
  },
  {
   "cell_type": "markdown",
   "metadata": {},
   "source": [
    "#### 3. Напишите функцию `remove_duplicates(a)`, которая принимает на вход список и возвращает его же, но без дубликатов и в отсортированном виде. Например, для списка `[u\"ночь\", u\"улица\", u\"фонарь\", u\"аптека\", u\"аптека\", u\"улица\", u\"фонарь\"]` результат должен быть `[u\"аптека\", u\"ночь\", u\"улица\", u\"фонарь\", ]`."
   ]
  },
  {
   "cell_type": "markdown",
   "metadata": {},
   "source": [
    "Подсказка: обратите внимание на структуру `set`!"
   ]
  },
  {
   "cell_type": "code",
   "execution_count": 27,
   "metadata": {
    "collapsed": false
   },
   "outputs": [
    {
     "name": "stdout",
     "output_type": "stream",
     "text": [
      "['аптека', 'ночь', 'улица', 'фонарь']\n",
      "[]\n",
      "['', '_', 'a couple of words', 'more', 'one', 'word']\n",
      "[7, 10, 100, 200.0]\n"
     ]
    }
   ],
   "source": [
    "def remove_duplicates(a):\n",
    "    return sorted(list(set(a)))\n",
    "print(remove_duplicates([u'ночь', u'улица', u'фонарь', u'аптека', u'аптека', u'улица', u'фонарь']))\n",
    "print(remove_duplicates([]))\n",
    "print(remove_duplicates(['', '', '_', 'word', 'a couple of words', 'one', 'more', 'word', '']))\n",
    "print(remove_duplicates([100, 7, 10, 10 ** 2, 1e2, 0x0A, 1e2, 2e2, 0b1010]))"
   ]
  },
  {
   "cell_type": "markdown",
   "metadata": {},
   "source": [
    "#### 4. Напишите функцию `word_counts(texts)`, которая принимает на вход список строк, и печатает пары (слово, число вхождений). Считайте, что слова в текстах могут быть разделены только пробелами. Например, для входа `[u'ночь улица фонарь аптека', u'аптека улица фонарь']` должно быть напечатано\n",
    ">аптека 2\n",
    "\n",
    ">улица 2\n",
    "\n",
    ">фонарь 2\n",
    "\n",
    ">ночь 1"
   ]
  },
  {
   "cell_type": "markdown",
   "metadata": {},
   "source": [
    "Подсказки:\n",
    "\n",
    "Чтобы разбить каждый из текстов на слова, воспользуйтесь функцией `map`, которая применяет заданную функцию к каждому элементу списка. Например, если бы нужно было каждый из текстов привести к нижнему регистру, то команда выглядела бы так:"
   ]
  },
  {
   "cell_type": "code",
   "execution_count": 3,
   "metadata": {
    "collapsed": false
   },
   "outputs": [
    {
     "data": {
      "text/plain": [
       "['abcdefg', 'hijkl']"
      ]
     },
     "execution_count": 3,
     "metadata": {},
     "output_type": "execute_result"
    }
   ],
   "source": [
    "map(lambda x: x.lower(), [\"abCDefg\", \"HIjkL\"])"
   ]
  },
  {
   "cell_type": "markdown",
   "metadata": {},
   "source": [
    "После первого шага вы получите список, состоящий из списков слов. Чтобы объединить их в один список слов, воспользуйтесь функцией `reduce`. Например, просуммировать числа из списка с ее помощью можно так:\n",
    "\n"
   ]
  },
  {
   "cell_type": "code",
   "execution_count": 4,
   "metadata": {
    "collapsed": false
   },
   "outputs": [
    {
     "data": {
      "text/plain": [
       "15"
      ]
     },
     "execution_count": 4,
     "metadata": {},
     "output_type": "execute_result"
    }
   ],
   "source": [
    "reduce(lambda x, y: x + y, [1, 2, 3, 4, 5])"
   ]
  },
  {
   "cell_type": "markdown",
   "metadata": {},
   "source": [
    "Для подсчета количества вхождений слов воспользуйтесь структурой `defaultdict` из модуля `collections`. В отличие от обычного `dict`, она не генерирует ошибку при обращении к несуществущему ключу, а создает новую запись, инициализируемую нулевым значением. Например:"
   ]
  },
  {
   "cell_type": "code",
   "execution_count": 5,
   "metadata": {
    "collapsed": false
   },
   "outputs": [
    {
     "name": "stdout",
     "output_type": "stream",
     "text": [
      "defaultdict(<type 'int'>, {})\n",
      "defaultdict(<type 'int'>, {'abc': 1})\n",
      "defaultdict(<type 'int'>, {'xxx': 0, 'abc': 1})\n"
     ]
    }
   ],
   "source": [
    "from collections import defaultdict\n",
    "d = defaultdict(int)\n",
    "print d\n",
    "d['abc'] += 1\n",
    "print d\n",
    "d['xxx']\n",
    "print d"
   ]
  },
  {
   "cell_type": "code",
   "execution_count": 42,
   "metadata": {
    "collapsed": false
   },
   "outputs": [
    {
     "name": "stdout",
     "output_type": "stream",
     "text": [
      "['ночь улица фонарь аптека', 'аптека улица фонарь']\n",
      "ночь 1\n",
      "аптека 2\n",
      "улица 2\n",
      "фонарь 2\n",
      "['           ', '  ']\n",
      " 15\n",
      "['1    3 4 5 67', '777', '', '3 2 1             ']\n",
      " 17\n",
      "3 2\n",
      "1 2\n",
      "4 1\n",
      "2 1\n",
      "67 1\n",
      "777 1\n",
      "5 1\n"
     ]
    }
   ],
   "source": [
    "from collections import defaultdict\n",
    "from functools import reduce\n",
    "def word_count(texts):\n",
    "    text = reduce(lambda a, b: a + b, map(lambda a: a.split(' '), texts))\n",
    "    cnt = defaultdict(int)\n",
    "    for s in text:\n",
    "        cnt[s] += 1\n",
    "    for s, c in cnt.items():\n",
    "        print(s, c)\n",
    "t = [u'ночь улица фонарь аптека', u'аптека улица фонарь']\n",
    "print(t)\n",
    "word_count(t)\n",
    "t = ['           ', '  ']\n",
    "print(t)\n",
    "word_count(t)\n",
    "t = ['1    3 4 5 67', '777', '', '3 2 1             ']\n",
    "print(t)\n",
    "word_count(t)"
   ]
  },
  {
   "cell_type": "markdown",
   "metadata": {},
   "source": [
    "#### 5. (бонусное задание) Скачайте английский перевод \"Преступления и наказания\". Найдите 20 самых популярных слов и 20 слов, которые встречаются только один раз."
   ]
  },
  {
   "cell_type": "markdown",
   "metadata": {},
   "source": [
    "Приведите текст к нижнему регистру. Разделите текст на слова, считая разделителями все, кроме букв. Обратите внимание на функцию `split` из модуля `re`.\n",
    "\n",
    "Не забудьте удалить пустые слова:\n",
    "```\n",
    "words = filter(lambda x: len(x) > 0, words)\n",
    "```"
   ]
  },
  {
   "cell_type": "code",
   "execution_count": 46,
   "metadata": {
    "collapsed": false
   },
   "outputs": [],
   "source": [
    "from urllib.request import urlopen\n",
    "url = \"http://www.gutenberg.org/files/2554/2554.txt\"\n",
    "response = urlopen(url)\n",
    "raw_text = response.read().decode('utf8')"
   ]
  },
  {
   "cell_type": "code",
   "execution_count": 47,
   "metadata": {
    "collapsed": false
   },
   "outputs": [
    {
     "data": {
      "text/plain": [
       "'r five\\r\\nchildren in only two rooms. The father and mother spent their evenings\\r\\nin reading aloud to '"
      ]
     },
     "execution_count": 47,
     "metadata": {},
     "output_type": "execute_result"
    }
   ],
   "source": [
    "raw_text[1000:1100]"
   ]
  },
  {
   "cell_type": "code",
   "execution_count": 56,
   "metadata": {
    "collapsed": false
   },
   "outputs": [
    {
     "name": "stdout",
     "output_type": "stream",
     "text": [
      "20 most popular\n",
      "[('the', 8003), ('and', 7042), ('to', 5497), ('he', 4900), ('a', 4668), ('i', 4405), ('you', 4118), ('of', 3928), ('it', 3463), ('that', 3308), ('in', 3254), ('was', 2827), ('his', 2116), ('at', 2082), ('her', 1829), ('but', 1801), ('not', 1775), ('s', 1765), ('with', 1757), ('she', 1695)]\n",
      "20 seen only once\n",
      "[('originality', 1), ('approval', 1), ('lounging', 1), ('creed', 1), ('keepsake', 1), ('demoralisation', 1), ('papering', 1), ('lads', 1), ('hovering', 1), ('damsels', 1), ('overgrown', 1), ('dealings', 1), ('elapse', 1), ('presupposes', 1), ('evils', 1), ('stepdaughter', 1), ('reporting', 1), ('associations', 1), ('oddities', 1), ('inflated', 1)]\n"
     ]
    }
   ],
   "source": [
    "import re\n",
    "from collections import defaultdict\n",
    "words = map(lambda x: x.lower(), re.split(r'[^a-zA-Z]+', raw_text))\n",
    "words = filter(lambda x: len(x) > 0, words)\n",
    "cnt = defaultdict(int)\n",
    "for s in words:\n",
    "    cnt[s] += 1\n",
    "words_freq = list(cnt.items())\n",
    "print('20 most popular')\n",
    "print(sorted(words_freq, key = lambda x: x[1], reverse = True)[:20])\n",
    "print('20 seen only once')\n",
    "print(list(filter(lambda x: x[1] == 1, words_freq))[:20])"
   ]
  },
  {
   "cell_type": "markdown",
   "metadata": {},
   "source": [
    "## Часть 2: NumPy и SciPy"
   ]
  },
  {
   "cell_type": "markdown",
   "metadata": {},
   "source": [
    "#### 1. Повторите 1000 раз следующий эксперимент: сгенерируйте две матрицы размера $10 \\times 10$ из стандартного нормального распределения, перемножьте их (как матрицы) и найдите максимальный элемент. Какое среднее значение по экспериментам у максимальных элементов? 95-процентная квантиль?"
   ]
  },
  {
   "cell_type": "markdown",
   "metadata": {},
   "source": [
    "Для вычисления квантили воспользуйтесь функцией `np.percentile`"
   ]
  },
  {
   "cell_type": "code",
   "execution_count": 113,
   "metadata": {
    "collapsed": false
   },
   "outputs": [
    {
     "name": "stdout",
     "output_type": "stream",
     "text": [
      "Mean 8.47834550928\n",
      "95% percentile 11.8328255072\n"
     ]
    },
    {
     "data": {
      "image/png": "[encoded data removed]",
      "text/plain": [
       "<matplotlib.figure.Figure at 0xa179ef0>"
      ]
     },
     "metadata": {},
     "output_type": "display_data"
    }
   ],
   "source": [
    "a = np.empty(0, dtype='float64')\n",
    "n = 1000\n",
    "for i in range(n):\n",
    "    x = np.random.randn(10, 10)\n",
    "    y = np.random.randn(10, 10)\n",
    "    a = np.append(a, [x.dot(y).max()])\n",
    "print('Mean', a.mean())\n",
    "pc = np.percentile(a, 95)\n",
    "print('95% percentile', pc)\n",
    "v, b = np.histogram(a, bins=50)\n",
    "dist = np.cumsum(v / n)\n",
    "%matplotlib inline\n",
    "pp.plot((b[:-1] + b[1:]) / 2, dist)\n",
    "pp.axhline(y=0.95, color='red', linestyle='--')\n",
    "pp.axvline(x=pc, color='red', linestyle='--')\n",
    "pp.xlabel('Value')\n",
    "pp.ylabel('Distribution')\n",
    "pp.show()"
   ]
  },
  {
   "cell_type": "markdown",
   "metadata": {},
   "source": [
    "#### 2. Сгенерируйте 1000 чисел из распределения Пуассона с параметром $\\lambda = 5$. Сформируйте массив, в котором в i-м элементе будет записано количество сгенерированных чисел, равных i."
   ]
  },
  {
   "cell_type": "markdown",
   "metadata": {},
   "source": [
    "Обратите внимание на функцию `np.bincount`"
   ]
  },
  {
   "cell_type": "code",
   "execution_count": 182,
   "metadata": {
    "collapsed": false
   },
   "outputs": [
    {
     "name": "stdout",
     "output_type": "stream",
     "text": [
      "[  8  31  82 133 180 173 146 122  61  41  14   4   4   0   0   0   0   1]\n"
     ]
    },
    {
     "data": {
      "image/png": "[encoded data removed]",
      "text/plain": [
       "<matplotlib.figure.Figure at 0xa0fecc0>"
      ]
     },
     "metadata": {},
     "output_type": "display_data"
    }
   ],
   "source": [
    "a = np.random.poisson(5, 1000)\n",
    "bc = np.bincount(a)\n",
    "print(bc)\n",
    "pp.hist(a, bins=len(bc))\n",
    "pp.xlabel('Value')\n",
    "pp.ylabel('Frequency')\n",
    "pp.show()"
   ]
  },
  {
   "cell_type": "markdown",
   "metadata": {},
   "source": [
    "#### 3. Реализуйте функцию, которая принимает на вход numpy-массив целых чисел `a`, и генерирует массив, в котором число `i` встречается `a[i]` раз. Протестируйте на результате из прошлого задания."
   ]
  },
  {
   "cell_type": "markdown",
   "metadata": {},
   "source": [
    "Обратите внимание на функцию `np.repeat`"
   ]
  },
  {
   "cell_type": "code",
   "execution_count": 112,
   "metadata": {
    "collapsed": false
   },
   "outputs": [
    {
     "name": "stdout",
     "output_type": "stream",
     "text": [
      "[ 11  32  80 149 161 163 155  97  82  32  18  11   6   2   1]\n",
      "[ 11  32  80 149 161 163 155  97  82  32  18  11   6   2   1]\n"
     ]
    }
   ],
   "source": [
    "def my_repeat(a):\n",
    "    return np.repeat(np.arange(len(a)), a)\n",
    "print(bc)\n",
    "print(np.bincount(my_repeat(bc)))"
   ]
  },
  {
   "cell_type": "markdown",
   "metadata": {},
   "source": [
    "#### 4. Напишите функцию `scale(X)`, которая принимает на вход матрицу и масштабирует каждый ее столбец (вычитает среднее и делит на стандартное отклонение). Убедитесь, что в функции не будет происходить деления на ноль. Протестируйте на каких-нибудь данных."
   ]
  },
  {
   "cell_type": "code",
   "execution_count": 131,
   "metadata": {
    "collapsed": false
   },
   "outputs": [
    {
     "name": "stdout",
     "output_type": "stream",
     "text": [
      "[[0 1]\n",
      " [2 3]\n",
      " [4 5]]\n",
      "[[-1.22474487 -1.22474487]\n",
      " [ 0.          0.        ]\n",
      " [ 1.22474487  1.22474487]]\n",
      "----------\n",
      "[[4 5]\n",
      " [4 5]\n",
      " [4 5]]\n",
      "[[ 0.  0.]\n",
      " [ 0.  0.]\n",
      " [ 0.  0.]]\n",
      "----------\n",
      "[[ 0.81201943  0.44423248]\n",
      " [ 0.3626506   0.30766995]\n",
      " [ 0.72564354  0.66830261]]\n",
      "[[ 0.91723527 -0.196207  ]\n",
      " [-1.39082448 -1.11479679]\n",
      " [ 0.47358921  1.31100379]]\n"
     ]
    }
   ],
   "source": [
    "def scale(X):\n",
    "    mean = X.mean(axis=0)\n",
    "    std = X.std(axis=0)\n",
    "    std[std == 0] = 1\n",
    "    return (X - mean[np.newaxis, :]) / std[np.newaxis, :]\n",
    "X = np.arange(6).reshape(3, 2)\n",
    "print(X)\n",
    "print(scale(X))\n",
    "print('----------')\n",
    "X[:2, :] = X[2, :]\n",
    "print(X)\n",
    "print(scale(X))\n",
    "print('----------')\n",
    "X = np.random.rand(3, 2)\n",
    "print(X)\n",
    "print(scale(X))"
   ]
  },
  {
   "cell_type": "markdown",
   "metadata": {},
   "source": [
    "#### 5. Сгенерируйте матрицу с элементами из нормального распределения $\\mathcal{N}(10, 1)$. Найдите ее:\n",
    "- определитель\n",
    "- след\n",
    "- наименьший и наибольший элементы\n",
    "- спектральную норму\n",
    "- норму Фробениуса\n",
    "- собственные числа\n",
    "- обратную матрицу"
   ]
  },
  {
   "cell_type": "code",
   "execution_count": 142,
   "metadata": {
    "collapsed": false
   },
   "outputs": [
    {
     "name": "stdout",
     "output_type": "stream",
     "text": [
      "[[ 10.62578231  10.15337435   8.48613329  11.36308294   9.82850034]\n",
      " [  7.5342312   11.66815771  11.22812717  10.20883261  10.53527619]\n",
      " [  9.69249144   9.46807061  10.3701645   10.16448634  10.49932625]\n",
      " [  8.37897857   9.97859778   8.06419878   8.56660342   9.70983511]\n",
      " [  9.33130653  10.52677438   9.68354119   9.51848406   9.81801337]]\n",
      "Det 173.758075179\n",
      "Trace 51.0487213117\n",
      "Min element 7.53423120133\n",
      "Max element 11.6681577149\n",
      "Spectral norm 84.1052779353\n",
      "Frobenius norm 100.323344122\n",
      "Eigenvalues\n",
      " [ 49.06652012+0.j           1.59813715+1.52429433j   1.59813715-1.52429433j\n",
      "  -0.60703655+0.59795276j  -0.60703655-0.59795276j]\n",
      "Inverse matrix\n",
      " [[-0.07288185 -0.38492166 -0.02697138 -0.15509767  0.6682339 ]\n",
      " [ 0.00620146  0.05940142 -0.55333149  0.02256709  0.49946191]\n",
      " [-0.21582331  0.03017948  0.16631999 -0.47045991  0.47108417]\n",
      " [ 0.45536816  0.30185526  0.01236485 -0.19640628 -0.59874278]\n",
      " [-0.16598868 -0.02026195  0.44288114  0.77764338 -0.95292776]]\n"
     ]
    }
   ],
   "source": [
    "X = np.random.normal(10, 1, (5, 5))\n",
    "print(X)\n",
    "print('Det', np.linalg.det(X))\n",
    "print('Trace', np.trace(X))\n",
    "print('Min element', X.min())\n",
    "print('Max element', X.max())\n",
    "print('Spectral norm', np.linalg.cond(X, p=2))\n",
    "print('Frobenius norm', np.linalg.cond(X, p='fro'))\n",
    "print('Eigenvalues\\n', np.linalg.eigvals(X))\n",
    "print('Inverse matrix\\n', np.linalg.inv(X))"
   ]
  },
  {
   "cell_type": "markdown",
   "metadata": {},
   "source": [
    "## Часть 3: Pandas"
   ]
  },
  {
   "cell_type": "markdown",
   "metadata": {},
   "source": [
    "#### Ответьте на вопросы о данных по авиарейсам в США за январь-апрель 2008 года.\n",
    "\n",
    "Данные: http://stat-computing.org/dataexpo/2009/2008.csv.bz2\n",
    "(обратите внимание, что распаковывать этот файл не обязательно — функция `pandas.read_csv` умеет читать из архивов автоматически)\n",
    "\n",
    "Описание: http://stat-computing.org/dataexpo/2009/the-data.html\n",
    "\n",
    "1. Какая из причин отмены рейса (`CancellationCode`) была самой частой? (расшифровки кодов можно найти в описании данных)\n",
    "2. Найдите среднее, минимальное и максимальное расстояние, пройденное самолетом.\n",
    "3. Не выглядит ли подозрительным минимальное пройденное расстояние? В какие дни и на каких рейсах оно было? Какое расстояние было пройдено этими же рейсами в другие дни?\n",
    "4. Из какого аэропорта было произведено больше всего вылетов? В каком городе он находится?\n",
    "5. Найдите для каждого аэропорта среднее время полета (`AirTime`) по всем вылетевшим из него рейсам. Какой аэропорт имеет наибольшее значение этого показателя?\n",
    "6. Найдите аэропорт, у которого наибольшая доля задержанных (`DepDelay > 0`) рейсов. Исключите при этом из рассмотрения аэропорты, из которых было отправлено меньше 1000 рейсов (используйте функцию `filter` после `groupby`)."
   ]
  },
  {
   "cell_type": "code",
   "execution_count": 336,
   "metadata": {
    "collapsed": false
   },
   "outputs": [],
   "source": [
    "data = pd.read_csv('./2008_1e6.csv')"
   ]
  },
  {
   "cell_type": "markdown",
   "metadata": {},
   "source": [
    "#### Примечание: задача решалась на части исходного датасета (первый миллион строк из примерно семи миллионов). Весь датасет мой компьютер прочитать не смог"
   ]
  },
  {
   "cell_type": "code",
   "execution_count": 421,
   "metadata": {
    "collapsed": false
   },
   "outputs": [
    {
     "name": "stdout",
     "output_type": "stream",
     "text": [
      "Most frequent cancellation code: B\n"
     ]
    }
   ],
   "source": [
    "print('Most frequent cancellation code: %s' % data[data.CancellationCode.notnull()].CancellationCode.value_counts().idxmax())"
   ]
  },
  {
   "cell_type": "markdown",
   "metadata": {},
   "source": [
    "Наиболее частая причина отмены - B (погодные условия)"
   ]
  },
  {
   "cell_type": "code",
   "execution_count": 422,
   "metadata": {
    "collapsed": false
   },
   "outputs": [
    {
     "name": "stdout",
     "output_type": "stream",
     "text": [
      "Min flight distance: 24\n",
      "Max flight distance: 4962\n",
      "Mean flight distance: 689\n"
     ]
    }
   ],
   "source": [
    "print('Min flight distance: %d' % data.Distance.min())\n",
    "print('Max flight distance: %d' % data.Distance.max())\n",
    "print('Mean flight distance: %d' % data.Distance.mean())"
   ]
  },
  {
   "cell_type": "markdown",
   "metadata": {},
   "source": [
    "Минимальное пройденное расстояние - 24 мили\n",
    "\n",
    "Максимальное - 4962 мили\n",
    "\n",
    "Среднее - 689 миль"
   ]
  },
  {
   "cell_type": "code",
   "execution_count": 423,
   "metadata": {
    "collapsed": false
   },
   "outputs": [
    {
     "data": {
      "text/html": [
       "<div>\n",
       "<table border=\"1\" class=\"dataframe\">\n",
       "  <thead>\n",
       "    <tr style=\"text-align: right;\">\n",
       "      <th></th>\n",
       "      <th>Year</th>\n",
       "      <th>Month</th>\n",
       "      <th>DayofMonth</th>\n",
       "      <th>DayOfWeek</th>\n",
       "      <th>UniqueCarrier</th>\n",
       "      <th>FlightNum</th>\n",
       "      <th>Origin</th>\n",
       "      <th>Dest</th>\n",
       "      <th>Distance</th>\n",
       "      <th>MedianDistance</th>\n",
       "    </tr>\n",
       "  </thead>\n",
       "  <tbody>\n",
       "    <tr>\n",
       "      <th>151660</th>\n",
       "      <td>2008</td>\n",
       "      <td>1</td>\n",
       "      <td>2</td>\n",
       "      <td>3</td>\n",
       "      <td>OH</td>\n",
       "      <td>5610</td>\n",
       "      <td>IAD</td>\n",
       "      <td>DCA</td>\n",
       "      <td>24</td>\n",
       "      <td>613</td>\n",
       "    </tr>\n",
       "  </tbody>\n",
       "</table>\n",
       "</div>"
      ],
      "text/plain": [
       "        Year  Month  DayofMonth  DayOfWeek UniqueCarrier  FlightNum Origin  \\\n",
       "151660  2008      1           2          3            OH       5610    IAD   \n",
       "\n",
       "       Dest  Distance  MedianDistance  \n",
       "151660  DCA        24             613  "
      ]
     },
     "execution_count": 423,
     "metadata": {},
     "output_type": "execute_result"
    }
   ],
   "source": [
    "shortest = data[data.Distance == data.Distance.min()][[0, 1, 2, 3, 8, 9, 16, 17, 18]]\n",
    "#print(shortest[[0, 1, 2, 3, 8, 9, 16, 17, 18]])\n",
    "meandist = []\n",
    "for i in shortest.iterrows():\n",
    "    meandist.append(data[(data.FlightNum == i[1].FlightNum) & (data.UniqueCarrier == i[1].UniqueCarrier)].Distance.median())\n",
    "shortest.insert(9, 'MedianDistance', meandist)\n",
    "shortest"
   ]
  },
  {
   "cell_type": "markdown",
   "metadata": {},
   "source": [
    "Выглядит действительно подозрительно. Однако тут есть еще более страная деталь"
   ]
  },
  {
   "cell_type": "code",
   "execution_count": 424,
   "metadata": {
    "collapsed": false
   },
   "outputs": [
    {
     "data": {
      "text/html": [
       "<div>\n",
       "<table border=\"1\" class=\"dataframe\">\n",
       "  <thead>\n",
       "    <tr style=\"text-align: right;\">\n",
       "      <th></th>\n",
       "      <th>Year</th>\n",
       "      <th>Month</th>\n",
       "      <th>DayofMonth</th>\n",
       "      <th>DayOfWeek</th>\n",
       "      <th>UniqueCarrier</th>\n",
       "      <th>FlightNum</th>\n",
       "      <th>Origin</th>\n",
       "      <th>Dest</th>\n",
       "      <th>Distance</th>\n",
       "    </tr>\n",
       "  </thead>\n",
       "  <tbody>\n",
       "    <tr>\n",
       "      <th>151659</th>\n",
       "      <td>2008</td>\n",
       "      <td>1</td>\n",
       "      <td>2</td>\n",
       "      <td>3</td>\n",
       "      <td>OH</td>\n",
       "      <td>5610</td>\n",
       "      <td>HSV</td>\n",
       "      <td>DCA</td>\n",
       "      <td>613</td>\n",
       "    </tr>\n",
       "    <tr>\n",
       "      <th>151660</th>\n",
       "      <td>2008</td>\n",
       "      <td>1</td>\n",
       "      <td>2</td>\n",
       "      <td>3</td>\n",
       "      <td>OH</td>\n",
       "      <td>5610</td>\n",
       "      <td>IAD</td>\n",
       "      <td>DCA</td>\n",
       "      <td>24</td>\n",
       "    </tr>\n",
       "    <tr>\n",
       "      <th>152316</th>\n",
       "      <td>2008</td>\n",
       "      <td>1</td>\n",
       "      <td>3</td>\n",
       "      <td>4</td>\n",
       "      <td>OH</td>\n",
       "      <td>5610</td>\n",
       "      <td>HSV</td>\n",
       "      <td>DCA</td>\n",
       "      <td>613</td>\n",
       "    </tr>\n",
       "    <tr>\n",
       "      <th>152976</th>\n",
       "      <td>2008</td>\n",
       "      <td>1</td>\n",
       "      <td>4</td>\n",
       "      <td>5</td>\n",
       "      <td>OH</td>\n",
       "      <td>5610</td>\n",
       "      <td>HSV</td>\n",
       "      <td>DCA</td>\n",
       "      <td>613</td>\n",
       "    </tr>\n",
       "    <tr>\n",
       "      <th>153442</th>\n",
       "      <td>2008</td>\n",
       "      <td>1</td>\n",
       "      <td>5</td>\n",
       "      <td>6</td>\n",
       "      <td>OH</td>\n",
       "      <td>5610</td>\n",
       "      <td>HSV</td>\n",
       "      <td>DCA</td>\n",
       "      <td>613</td>\n",
       "    </tr>\n",
       "    <tr>\n",
       "      <th>154638</th>\n",
       "      <td>2008</td>\n",
       "      <td>1</td>\n",
       "      <td>7</td>\n",
       "      <td>1</td>\n",
       "      <td>OH</td>\n",
       "      <td>5610</td>\n",
       "      <td>HSV</td>\n",
       "      <td>DCA</td>\n",
       "      <td>613</td>\n",
       "    </tr>\n",
       "    <tr>\n",
       "      <th>155207</th>\n",
       "      <td>2008</td>\n",
       "      <td>1</td>\n",
       "      <td>8</td>\n",
       "      <td>2</td>\n",
       "      <td>OH</td>\n",
       "      <td>5610</td>\n",
       "      <td>HSV</td>\n",
       "      <td>DCA</td>\n",
       "      <td>613</td>\n",
       "    </tr>\n",
       "    <tr>\n",
       "      <th>155850</th>\n",
       "      <td>2008</td>\n",
       "      <td>1</td>\n",
       "      <td>9</td>\n",
       "      <td>3</td>\n",
       "      <td>OH</td>\n",
       "      <td>5610</td>\n",
       "      <td>HSV</td>\n",
       "      <td>DCA</td>\n",
       "      <td>613</td>\n",
       "    </tr>\n",
       "    <tr>\n",
       "      <th>156512</th>\n",
       "      <td>2008</td>\n",
       "      <td>1</td>\n",
       "      <td>10</td>\n",
       "      <td>4</td>\n",
       "      <td>OH</td>\n",
       "      <td>5610</td>\n",
       "      <td>HSV</td>\n",
       "      <td>DCA</td>\n",
       "      <td>613</td>\n",
       "    </tr>\n",
       "    <tr>\n",
       "      <th>157175</th>\n",
       "      <td>2008</td>\n",
       "      <td>1</td>\n",
       "      <td>11</td>\n",
       "      <td>5</td>\n",
       "      <td>OH</td>\n",
       "      <td>5610</td>\n",
       "      <td>HSV</td>\n",
       "      <td>DCA</td>\n",
       "      <td>613</td>\n",
       "    </tr>\n",
       "  </tbody>\n",
       "</table>\n",
       "</div>"
      ],
      "text/plain": [
       "        Year  Month  DayofMonth  DayOfWeek UniqueCarrier  FlightNum Origin  \\\n",
       "151659  2008      1           2          3            OH       5610    HSV   \n",
       "151660  2008      1           2          3            OH       5610    IAD   \n",
       "152316  2008      1           3          4            OH       5610    HSV   \n",
       "152976  2008      1           4          5            OH       5610    HSV   \n",
       "153442  2008      1           5          6            OH       5610    HSV   \n",
       "154638  2008      1           7          1            OH       5610    HSV   \n",
       "155207  2008      1           8          2            OH       5610    HSV   \n",
       "155850  2008      1           9          3            OH       5610    HSV   \n",
       "156512  2008      1          10          4            OH       5610    HSV   \n",
       "157175  2008      1          11          5            OH       5610    HSV   \n",
       "\n",
       "       Dest  Distance  \n",
       "151659  DCA       613  \n",
       "151660  DCA        24  \n",
       "152316  DCA       613  \n",
       "152976  DCA       613  \n",
       "153442  DCA       613  \n",
       "154638  DCA       613  \n",
       "155207  DCA       613  \n",
       "155850  DCA       613  \n",
       "156512  DCA       613  \n",
       "157175  DCA       613  "
      ]
     },
     "execution_count": 424,
     "metadata": {},
     "output_type": "execute_result"
    }
   ],
   "source": [
    "data[(data.FlightNum == 5610) & (data.UniqueCarrier == 'OH')][[0, 1, 2, 3, 8, 9, 16, 17, 18]].iloc[:10]"
   ]
  },
  {
   "cell_type": "markdown",
   "metadata": {},
   "source": [
    "Как Вы видите, обычно этот рейс летит из HSV в DCA. Но 2-го января он внезапно вылетел из IAD. "
   ]
  },
  {
   "cell_type": "code",
   "execution_count": 425,
   "metadata": {
    "collapsed": false
   },
   "outputs": [
    {
     "name": "stdout",
     "output_type": "stream",
     "text": [
      "Most frequent origin: ATL\n"
     ]
    }
   ],
   "source": [
    "airports = data.groupby('Origin')\n",
    "print('Most frequent origin:', airports.size().idxmax())"
   ]
  },
  {
   "cell_type": "markdown",
   "metadata": {},
   "source": [
    "Аэропорт с наибольшим числом вылетов - Hartsfield–Jackson Atlanta International Airport (ATL) - Атланта, Джорджия, США"
   ]
  },
  {
   "cell_type": "code",
   "execution_count": 426,
   "metadata": {
    "collapsed": false
   },
   "outputs": [
    {
     "name": "stdout",
     "output_type": "stream",
     "text": [
      "Biggest mean airtime airport: SJU\n"
     ]
    }
   ],
   "source": [
    "print('Biggest mean airtime airport:', airports.AirTime.mean().idxmax())"
   ]
  },
  {
   "cell_type": "markdown",
   "metadata": {},
   "source": [
    "Аэропорт с наибольшим средним временем полета -  Luis Muñoz Marín International Airport (SJU) - Сан-Хуан, Пуэрто-Рико"
   ]
  },
  {
   "cell_type": "code",
   "execution_count": 420,
   "metadata": {
    "collapsed": false
   },
   "outputs": [
    {
     "name": "stdout",
     "output_type": "stream",
     "text": [
      "Airport with biggest delayed part: MDW\n",
      "8684 delayed of 14746 flights (58.9%)\n"
     ]
    }
   ],
   "source": [
    "x = pd.DataFrame({'Origin': data['Origin'], 'Delayed': data.DepDelay > 0})\n",
    "ap = x.groupby('Origin')['Delayed'].agg({'Total' : len, 'Delayed': np.sum})\n",
    "bigap = ap[ap.Total >= 1000]\n",
    "mostdelayed = (bigap.Delayed / bigap.Total).idxmax()\n",
    "print('Airport with biggest delayed part:', mostdelayed)\n",
    "md = bigap.loc[mostdelayed]\n",
    "print('%d delayed of %d flights (%.1f%%)' % (md.Delayed, md.Total, md.Delayed / md.Total * 100))"
   ]
  },
  {
   "cell_type": "markdown",
   "metadata": {
    "collapsed": true
   },
   "source": [
    "Аэропорт с наибольшим числом задержанных рейсов - Chicago Midway International Airport (MDW) - Чикаго, Иллиноис, США\n",
    "\n",
    "8684 задержанных рейса из 14746 - 58.9%"
   ]
  }
 ],
 "metadata": {
  "kernelspec": {
   "display_name": "Python 3",
   "language": "python",
   "name": "python3"
  },
  "language_info": {
   "codemirror_mode": {
    "name": "ipython",
    "version": 3
   },
   "file_extension": ".py",
   "mimetype": "text/x-python",
   "name": "python",
   "nbconvert_exporter": "python",
   "pygments_lexer": "ipython3",
   "version": "3.4.3"
  }
 },
 "nbformat": 4,
 "nbformat_minor": 0
}
